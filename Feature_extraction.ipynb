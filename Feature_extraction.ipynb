{
  "nbformat": 4,
  "nbformat_minor": 0,
  "metadata": {
    "colab": {
      "provenance": [],
      "authorship_tag": "ABX9TyOERsWQhts9Ihuqnaz6dZdx",
      "include_colab_link": true
    },
    "kernelspec": {
      "name": "python3",
      "display_name": "Python 3"
    },
    "language_info": {
      "name": "python"
    }
  },
  "cells": [
    {
      "cell_type": "markdown",
      "metadata": {
        "id": "view-in-github",
        "colab_type": "text"
      },
      "source": [
        "<a href=\"https://colab.research.google.com/github/anuj-l22/PRML_Project/blob/main/Feature_extraction.ipynb\" target=\"_parent\"><img src=\"https://colab.research.google.com/assets/colab-badge.svg\" alt=\"Open In Colab\"/></a>"
      ]
    },
    {
      "cell_type": "code",
      "execution_count": null,
      "metadata": {
        "id": "9KZU6di0r4I9"
      },
      "outputs": [],
      "source": [
        "import torch"
      ]
    },
    {
      "cell_type": "code",
      "source": [],
      "metadata": {
        "id": "5Vv5e9g-sCAR"
      },
      "execution_count": null,
      "outputs": []
    },
    {
      "cell_type": "code",
      "source": [
        "from google.colab import drive\n",
        "drive.mount('/content/drive')"
      ],
      "metadata": {
        "colab": {
          "base_uri": "https://localhost:8080/"
        },
        "id": "b64qHNtwsFAm",
        "outputId": "060d2c31-4653-46f9-b23a-879e2e7b952c"
      },
      "execution_count": null,
      "outputs": [
        {
          "output_type": "stream",
          "name": "stdout",
          "text": [
            "Mounted at /content/drive\n"
          ]
        }
      ]
    },
    {
      "cell_type": "code",
      "source": [
        "cnn_features = torch.load('/content/drive/MyDrive/PRML_Project/extracted_resnet_features.pt')"
      ],
      "metadata": {
        "id": "m67yqv6XsFr7"
      },
      "execution_count": null,
      "outputs": []
    },
    {
      "cell_type": "code",
      "source": [
        "import numpy as np\n",
        "\n",
        "class FacesData:\n",
        "    def __init__(self, data_dict):\n",
        "        self.data_dict = data_dict\n",
        "\n",
        "    def get_X_y(self):\n",
        "        X = []\n",
        "        y = []\n",
        "        for key, value in self.data_dict.items():\n",
        "            # Extract the label from the file path\n",
        "            label = key.split('/')[1]\n",
        "            X.append(value.flatten())  # Flatten the feature array\n",
        "            y.append(label)\n",
        "        return np.array(X), np.array(y)\n",
        "\n",
        "\n",
        "\n",
        "faces_data = FacesData(cnn_features)\n",
        "X, y = faces_data.get_X_y()\n",
        "\n",
        "print('Features (X):', X.shape)\n",
        "print('Labels (y):', y.shape)\n"
      ],
      "metadata": {
        "colab": {
          "base_uri": "https://localhost:8080/"
        },
        "id": "AoSl6EdksoF_",
        "outputId": "b81949d8-2248-4e50-9df8-c4becd10c36a"
      },
      "execution_count": null,
      "outputs": [
        {
          "output_type": "stream",
          "name": "stdout",
          "text": [
            "Features (X): (13233, 2048)\n",
            "Labels (y): (13233,)\n"
          ]
        }
      ]
    }
  ]
}