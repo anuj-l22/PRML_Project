{
  "nbformat": 4,
  "nbformat_minor": 0,
  "metadata": {
    "colab": {
      "provenance": [],
      "authorship_tag": "ABX9TyMEIUNljVmoBpdv6xweKAQJ",
      "include_colab_link": true
    },
    "kernelspec": {
      "name": "python3",
      "display_name": "Python 3"
    },
    "language_info": {
      "name": "python"
    }
  },
  "cells": [
    {
      "cell_type": "markdown",
      "metadata": {
        "id": "view-in-github",
        "colab_type": "text"
      },
      "source": [
        "<a href=\"https://colab.research.google.com/github/anuj-l22/PRML_Project/blob/main/Feature_extraction.ipynb\" target=\"_parent\"><img src=\"https://colab.research.google.com/assets/colab-badge.svg\" alt=\"Open In Colab\"/></a>"
      ]
    },
    {
      "cell_type": "code",
      "execution_count": 1,
      "metadata": {
        "id": "9KZU6di0r4I9"
      },
      "outputs": [],
      "source": [
        "import torch"
      ]
    },
    {
      "cell_type": "code",
      "source": [],
      "metadata": {
        "id": "5Vv5e9g-sCAR"
      },
      "execution_count": null,
      "outputs": []
    },
    {
      "cell_type": "code",
      "source": [
        "from google.colab import drive\n",
        "drive.mount('/content/drive')"
      ],
      "metadata": {
        "colab": {
          "base_uri": "https://localhost:8080/"
        },
        "id": "b64qHNtwsFAm",
        "outputId": "b7e7de93-6f5d-4a55-d2e3-8ba3bb31ede3"
      },
      "execution_count": 2,
      "outputs": [
        {
          "output_type": "stream",
          "name": "stdout",
          "text": [
            "Mounted at /content/drive\n"
          ]
        }
      ]
    },
    {
      "cell_type": "code",
      "source": [
        "cnn_features = torch.load('/content/drive/MyDrive/PRML_Project/extracted_resnet_features.pt')"
      ],
      "metadata": {
        "id": "m67yqv6XsFr7"
      },
      "execution_count": 3,
      "outputs": []
    },
    {
      "cell_type": "code",
      "source": [
        "import numpy as np\n",
        "\n",
        "class FacesData:\n",
        "    def __init__(self, data_dict):\n",
        "        self.data_dict = data_dict\n",
        "\n",
        "    def get_X_y(self):\n",
        "        X = []\n",
        "        y = []\n",
        "        for key, value in self.data_dict.items():\n",
        "            # Extract the label from the file path\n",
        "            label = key.split('/')[1]\n",
        "            X.append(value.flatten())  # Flatten the feature array\n",
        "            y.append(label)\n",
        "        return np.array(X), np.array(y)\n",
        "\n",
        "\n",
        "\n",
        "faces_data = FacesData(cnn_features)\n",
        "X, y = faces_data.get_X_y()\n",
        "\n",
        "print('Features (X):', X.shape)\n",
        "print('Labels (y):', y.shape)\n"
      ],
      "metadata": {
        "colab": {
          "base_uri": "https://localhost:8080/"
        },
        "id": "AoSl6EdksoF_",
        "outputId": "a066a2b7-2314-48e0-cd47-86551fd7ccb8"
      },
      "execution_count": 4,
      "outputs": [
        {
          "output_type": "stream",
          "name": "stdout",
          "text": [
            "Features (X): (13233, 2048)\n",
            "Labels (y): (13233,)\n"
          ]
        }
      ]
    },
    {
      "cell_type": "code",
      "source": [
        "import logging\n",
        "from sklearn.linear_model import LogisticRegression\n",
        "\n",
        "# Configure logging to file\n",
        "logging.basicConfig(filename='/mnt/data/logistic_regression_output.log', level=logging.INFO, format='%(asctime)s - %(levelname)s - %(message)s')\n",
        "\n",
        "# Initialize Logistic Regression classifier with verbosity\n",
        "logistic_classifier = LogisticRegression(solver='saga', penalty='l2', max_iter=100, tol=0.1, verbose=1, n_jobs=-1)\n",
        "\n",
        "# Fit the classifier to the data\n",
        "logistic_classifier.fit(X, y)\n",
        "\n",
        "# Predict the labels for the dataset\n",
        "y_pred = logistic_classifier.predict(X)\n",
        "\n",
        "# Calculate the training accuracy\n",
        "training_accuracy = np.mean(y_pred == y)\n",
        "print(f'Training Accuracy: {training_accuracy:.2f}')\n",
        "\n",
        "# Log the training accuracy\n",
        "logging.info(f'Training Accuracy: {training_accuracy:.2f}')\n"
      ],
      "metadata": {
        "id": "lUP14JToSBtc",
        "colab": {
          "base_uri": "https://localhost:8080/"
        },
        "outputId": "67ba9952-ab7f-4b20-9a9f-dc606d353e82"
      },
      "execution_count": null,
      "outputs": [
        {
          "metadata": {
            "tags": null
          },
          "name": "stderr",
          "output_type": "stream",
          "text": [
            "[Parallel(n_jobs=-1)]: Using backend ThreadingBackend with 2 concurrent workers.\n"
          ]
        }
      ]
    }
  ]
}