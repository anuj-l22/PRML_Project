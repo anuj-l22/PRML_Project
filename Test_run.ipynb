{
 "cells": [
  {
   "cell_type": "code",
   "execution_count": 2,
   "id": "0a5d6832-50a6-478f-9dac-f28c529243da",
   "metadata": {},
   "outputs": [],
   "source": [
    "import torch"
   ]
  },
  {
   "cell_type": "code",
   "execution_count": 4,
   "id": "ebc46e19-029b-4021-8ccc-bf7e32a72b4c",
   "metadata": {},
   "outputs": [
    {
     "data": {
      "text/plain": [
       "'2.2.2'"
      ]
     },
     "execution_count": 4,
     "metadata": {},
     "output_type": "execute_result"
    }
   ],
   "source": [
    "torch.__version__"
   ]
  },
  {
   "cell_type": "code",
   "execution_count": 7,
   "id": "c22cc362-18ad-4523-96f9-70dcbed4b70a",
   "metadata": {},
   "outputs": [
    {
     "data": {
      "text/plain": [
       "True"
      ]
     },
     "execution_count": 7,
     "metadata": {},
     "output_type": "execute_result"
    }
   ],
   "source": [
    "torch.cuda.is_available()"
   ]
  },
  {
   "cell_type": "code",
   "execution_count": 8,
   "id": "33969b96-2968-4dbe-ab44-82095eb80ab4",
   "metadata": {},
   "outputs": [],
   "source": [
    "import numpy as np"
   ]
  },
  {
   "cell_type": "code",
   "execution_count": null,
   "id": "a7a914bf-8d48-48f9-abbb-8170e09644b1",
   "metadata": {},
   "outputs": [],
   "source": [
    "import sklearn.model_selection "
   ]
  },
  {
   "cell_type": "code",
   "execution_count": 3,
   "id": "91a1607f-78bd-4d05-ab9f-8f2228244451",
   "metadata": {},
   "outputs": [],
   "source": [
    "cnn_features = torch.load('extracted_resnet_features.pt')"
   ]
  },
  {
   "cell_type": "code",
   "execution_count": 4,
   "id": "a17ebaa0-b732-4df9-b79d-72b4a08d9a4c",
   "metadata": {},
   "outputs": [
    {
     "name": "stdout",
     "output_type": "stream",
     "text": [
      "Features (X): (13233, 2048)\n",
      "Labels (y): (13233,)\n"
     ]
    }
   ],
   "source": [
    "import numpy as np\n",
    "\n",
    "class FacesData:\n",
    "    def __init__(self, data_dict):\n",
    "        self.data_dict = data_dict\n",
    "\n",
    "    def get_X_y(self):\n",
    "        X = []\n",
    "        y = []\n",
    "        for key, value in self.data_dict.items():\n",
    "            # Extract the label from the file path\n",
    "            label = key.split('/')[1]\n",
    "            X.append(value.flatten())  # Flatten the feature array\n",
    "            y.append(label)\n",
    "        return np.array(X), np.array(y)\n",
    "\n",
    "\n",
    "\n",
    "faces_data = FacesData(cnn_features)\n",
    "X, y = faces_data.get_X_y()\n",
    "\n",
    "print('Features (X):', X.shape)\n",
    "print('Labels (y):', y.shape)\n"
   ]
  },
  {
   "cell_type": "code",
   "execution_count": 5,
   "id": "d33658c1-310d-45c3-b3dc-812ce9dfcfe9",
   "metadata": {},
   "outputs": [],
   "source": [
    "from sklearn.decomposition import PCA\n",
    "transformed_data = []\n",
    "pca = PCA(n_components=16)\n",
    "X_pca = pca.fit_transform(X)\n",
    "transformed_data = X_pca"
   ]
  },
  {
   "cell_type": "code",
   "execution_count": 12,
   "id": "bbefea38-7e50-4ea9-8364-c62f1ceccfb9",
   "metadata": {},
   "outputs": [
    {
     "name": "stdout",
     "output_type": "stream",
     "text": [
      "Number of components: 16, Training accuracy: 0.20924960326456585\n"
     ]
    }
   ],
   "source": [
    "from sklearn.linear_model import LogisticRegression\n",
    "from sklearn.metrics import accuracy_score\n",
    "from sklearn.preprocessing import StandardScaler\n",
    "\n",
    "# Feature scaling\n",
    "scaler = StandardScaler()\n",
    "X_pca_scaled = scaler.fit_transform(X_pca)\n",
    "\n",
    "# Initialize the logistic regression model with the 'saga' solver and L2 regularization\n",
    "logistic_reg = LogisticRegression(solver='saga', penalty='l2', max_iter=1000, tol=0.01, n_jobs=-1)\n",
    "\n",
    "# Fit the model on the scaled PCA-transformed data\n",
    "logistic_reg.fit(X_pca_scaled, y)\n",
    "\n",
    "# Predict the labels on the training data\n",
    "y_pred = logistic_reg.predict(X_pca_scaled)\n",
    "\n",
    "# Calculate the accuracy\n",
    "accuracy = accuracy_score(y, y_pred)\n",
    "\n",
    "# Print the training accuracy\n",
    "print(f'Number of components: {16}, Training accuracy: {accuracy}')\n"
   ]
  },
  {
   "cell_type": "code",
   "execution_count": 6,
   "id": "3b2512b2-9ade-48c1-b080-6c673d80c546",
   "metadata": {},
   "outputs": [
    {
     "name": "stdout",
     "output_type": "stream",
     "text": [
      "Number of components: 16, Training accuracy: 0.42069069749867755\n"
     ]
    }
   ],
   "source": [
    "from sklearn.linear_model import LogisticRegression\n",
    "from sklearn.metrics import accuracy_score\n",
    "from sklearn.preprocessing import StandardScaler\n",
    "\n",
    "# Feature scaling\n",
    "scaler = StandardScaler()\n",
    "X_pca_scaled = scaler.fit_transform(X_pca)\n",
    "\n",
    "# Initialize the logistic regression model with the 'saga' solver and L2 regularization\n",
    "logistic_reg = LogisticRegression(solver='saga', penalty='l2', max_iter=1000, tol=0.01, n_jobs=-1, class_weight = 'balanced')\n",
    "\n",
    "# Fit the model on the scaled PCA-transformed data\n",
    "logistic_reg.fit(X_pca_scaled, y)\n",
    "\n",
    "# Predict the labels on the training data\n",
    "y_pred = logistic_reg.predict(X_pca_scaled)\n",
    "\n",
    "# Calculate the accuracy\n",
    "accuracy = accuracy_score(y, y_pred)\n",
    "\n",
    "# Print the training accuracy\n",
    "print(f'Number of components: {16}, Training accuracy: {accuracy}')\n"
   ]
  }
 ],
 "metadata": {
  "kernelspec": {
   "display_name": "Python 3 (ipykernel)",
   "language": "python",
   "name": "python3"
  },
  "language_info": {
   "codemirror_mode": {
    "name": "ipython",
    "version": 3
   },
   "file_extension": ".py",
   "mimetype": "text/x-python",
   "name": "python",
   "nbconvert_exporter": "python",
   "pygments_lexer": "ipython3",
   "version": "3.12.2"
  }
 },
 "nbformat": 4,
 "nbformat_minor": 5
}
