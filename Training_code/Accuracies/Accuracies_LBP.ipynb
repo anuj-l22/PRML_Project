{
  "nbformat": 4,
  "nbformat_minor": 0,
  "metadata": {
    "colab": {
      "provenance": [],
      "gpuType": "T4"
    },
    "kernelspec": {
      "name": "python3",
      "display_name": "Python 3"
    },
    "language_info": {
      "name": "python"
    },
    "accelerator": "GPU"
  },
  "cells": [
    {
      "cell_type": "code",
      "source": [
        "!pip install scikit-learn==1.3.0"
      ],
      "metadata": {
        "colab": {
          "base_uri": "https://localhost:8080/"
        },
        "id": "Y7kh04OiCaDR",
        "outputId": "69ebccb2-1144-458b-ef40-c8ad4a18342d"
      },
      "execution_count": 1,
      "outputs": [
        {
          "output_type": "stream",
          "name": "stdout",
          "text": [
            "Collecting scikit-learn==1.3.0\n",
            "  Downloading scikit_learn-1.3.0-cp310-cp310-manylinux_2_17_x86_64.manylinux2014_x86_64.whl (10.8 MB)\n",
            "\u001b[2K     \u001b[90m━━━━━━━━━━━━━━━━━━━━━━━━━━━━━━━━━━━━━━━━\u001b[0m \u001b[32m10.8/10.8 MB\u001b[0m \u001b[31m20.7 MB/s\u001b[0m eta \u001b[36m0:00:00\u001b[0m\n",
            "\u001b[?25hRequirement already satisfied: numpy>=1.17.3 in /usr/local/lib/python3.10/dist-packages (from scikit-learn==1.3.0) (1.25.2)\n",
            "Requirement already satisfied: scipy>=1.5.0 in /usr/local/lib/python3.10/dist-packages (from scikit-learn==1.3.0) (1.11.4)\n",
            "Requirement already satisfied: joblib>=1.1.1 in /usr/local/lib/python3.10/dist-packages (from scikit-learn==1.3.0) (1.4.0)\n",
            "Requirement already satisfied: threadpoolctl>=2.0.0 in /usr/local/lib/python3.10/dist-packages (from scikit-learn==1.3.0) (3.4.0)\n",
            "Installing collected packages: scikit-learn\n",
            "  Attempting uninstall: scikit-learn\n",
            "    Found existing installation: scikit-learn 1.2.2\n",
            "    Uninstalling scikit-learn-1.2.2:\n",
            "      Successfully uninstalled scikit-learn-1.2.2\n",
            "Successfully installed scikit-learn-1.3.0\n"
          ]
        }
      ]
    },
    {
      "cell_type": "code",
      "source": [
        "!git clone https://github.com/anuj-l22/PRML_Project.git"
      ],
      "metadata": {
        "colab": {
          "base_uri": "https://localhost:8080/"
        },
        "id": "TDgPclP61A5K",
        "outputId": "48f6525b-a8fc-497f-d74a-e4bb608cb885"
      },
      "execution_count": 2,
      "outputs": [
        {
          "output_type": "stream",
          "name": "stdout",
          "text": [
            "Cloning into 'PRML_Project'...\n",
            "remote: Enumerating objects: 400, done.\u001b[K\n",
            "remote: Counting objects: 100% (285/285), done.\u001b[K\n",
            "remote: Compressing objects: 100% (143/143), done.\u001b[K\n",
            "remote: Total 400 (delta 137), reused 274 (delta 131), pack-reused 115\u001b[K\n",
            "Receiving objects: 100% (400/400), 99.78 MiB | 28.00 MiB/s, done.\n",
            "Resolving deltas: 100% (155/155), done.\n",
            "Updating files: 100% (58/58), done.\n"
          ]
        }
      ]
    },
    {
      "cell_type": "code",
      "source": [
        "!pip install gdown"
      ],
      "metadata": {
        "id": "27SZ7tuE_Eaj",
        "outputId": "3c8c5f40-3091-4877-8d2e-938b08c6d9c5",
        "colab": {
          "base_uri": "https://localhost:8080/"
        }
      },
      "execution_count": 3,
      "outputs": [
        {
          "output_type": "stream",
          "name": "stdout",
          "text": [
            "Requirement already satisfied: gdown in /usr/local/lib/python3.10/dist-packages (4.7.3)\n",
            "Requirement already satisfied: filelock in /usr/local/lib/python3.10/dist-packages (from gdown) (3.13.4)\n",
            "Requirement already satisfied: requests[socks] in /usr/local/lib/python3.10/dist-packages (from gdown) (2.31.0)\n",
            "Requirement already satisfied: six in /usr/local/lib/python3.10/dist-packages (from gdown) (1.16.0)\n",
            "Requirement already satisfied: tqdm in /usr/local/lib/python3.10/dist-packages (from gdown) (4.66.2)\n",
            "Requirement already satisfied: beautifulsoup4 in /usr/local/lib/python3.10/dist-packages (from gdown) (4.12.3)\n",
            "Requirement already satisfied: soupsieve>1.2 in /usr/local/lib/python3.10/dist-packages (from beautifulsoup4->gdown) (2.5)\n",
            "Requirement already satisfied: charset-normalizer<4,>=2 in /usr/local/lib/python3.10/dist-packages (from requests[socks]->gdown) (3.3.2)\n",
            "Requirement already satisfied: idna<4,>=2.5 in /usr/local/lib/python3.10/dist-packages (from requests[socks]->gdown) (3.7)\n",
            "Requirement already satisfied: urllib3<3,>=1.21.1 in /usr/local/lib/python3.10/dist-packages (from requests[socks]->gdown) (2.0.7)\n",
            "Requirement already satisfied: certifi>=2017.4.17 in /usr/local/lib/python3.10/dist-packages (from requests[socks]->gdown) (2024.2.2)\n",
            "Requirement already satisfied: PySocks!=1.5.7,>=1.5.6 in /usr/local/lib/python3.10/dist-packages (from requests[socks]->gdown) (1.7.1)\n"
          ]
        }
      ]
    },
    {
      "cell_type": "code",
      "source": [
        "!gdown 1w6owXbzxDeJxYKAnowL5hhLsxrbaWrZt\n",
        "!gdown 1lxZdvxkkM85PjRTzfEQA3qAhzTpoE9hM\n",
        "!gdown 1q2sFxbY3Nq_jXQiiC8b2hzLSssvJYkLC\n",
        "!gdown 19SUsqVju4Tdxg_NOR_KzteesRF6BInN3\n",
        "!gdown 1koH-BYHb6O5sFGcd4GcRsx8umBSxs54z\n",
        "!gdown 1rVCN8MqNKfQbwrbp0tX5F_eX14LJGBIG"
      ],
      "metadata": {
        "id": "PJaeQqOi_bmf",
        "colab": {
          "base_uri": "https://localhost:8080/"
        },
        "outputId": "8f9d1959-b7a3-4baa-910b-6d444a6ed3a0"
      },
      "execution_count": 9,
      "outputs": [
        {
          "output_type": "stream",
          "name": "stdout",
          "text": [
            "Downloading...\n",
            "From (original): https://drive.google.com/uc?id=1w6owXbzxDeJxYKAnowL5hhLsxrbaWrZt\n",
            "From (redirected): https://drive.google.com/uc?id=1w6owXbzxDeJxYKAnowL5hhLsxrbaWrZt&confirm=t&uuid=27d58f14-9b7a-4fa0-96e3-6e4f9574d04f\n",
            "To: /content/LBP_random_forest_model_32_features.pkl\n",
            "100% 768M/768M [00:07<00:00, 108MB/s] \n",
            "Downloading...\n",
            "From (original): https://drive.google.com/uc?id=1lxZdvxkkM85PjRTzfEQA3qAhzTpoE9hM\n",
            "From (redirected): https://drive.google.com/uc?id=1lxZdvxkkM85PjRTzfEQA3qAhzTpoE9hM&confirm=t&uuid=d478bc3b-5f05-4940-a3b9-48ca52f74698\n",
            "To: /content/LBP_random_forest_model_64_features.pkl\n",
            "100% 576M/576M [00:07<00:00, 72.9MB/s]\n",
            "Downloading...\n",
            "From (original): https://drive.google.com/uc?id=1q2sFxbY3Nq_jXQiiC8b2hzLSssvJYkLC\n",
            "From (redirected): https://drive.google.com/uc?id=1q2sFxbY3Nq_jXQiiC8b2hzLSssvJYkLC&confirm=t&uuid=ebac5406-83f6-43f3-bbdb-54be204536f0\n",
            "To: /content/LBP_random_forest_model_128_features.pkl\n",
            "100% 406M/406M [00:03<00:00, 123MB/s]\n",
            "Downloading...\n",
            "From: https://drive.google.com/uc?id=19SUsqVju4Tdxg_NOR_KzteesRF6BInN3\n",
            "To: /content/LBP_xgb_model_32_features.pkl\n",
            "100% 80.0M/80.0M [00:00<00:00, 84.3MB/s]\n",
            "Downloading...\n",
            "From: https://drive.google.com/uc?id=1koH-BYHb6O5sFGcd4GcRsx8umBSxs54z\n",
            "To: /content/LBP_xgb_model_64_features.pkl\n",
            "100% 80.0M/80.0M [00:00<00:00, 88.3MB/s]\n",
            "Downloading...\n",
            "From: https://drive.google.com/uc?id=1rVCN8MqNKfQbwrbp0tX5F_eX14LJGBIG\n",
            "To: /content/LBP_xgb_model_128_features.pkl\n",
            "100% 80.1M/80.1M [00:00<00:00, 91.9MB/s]\n"
          ]
        }
      ]
    },
    {
      "cell_type": "code",
      "execution_count": 4,
      "metadata": {
        "id": "hB-mNzKMx3CZ"
      },
      "outputs": [],
      "source": [
        "import torch"
      ]
    },
    {
      "cell_type": "code",
      "source": [
        "import numpy as np"
      ],
      "metadata": {
        "id": "tPKcWg3-yEeD"
      },
      "execution_count": 5,
      "outputs": []
    },
    {
      "cell_type": "code",
      "source": [
        "!gdown 1g5jfFgKgtfQfi7vll1ZnLRKM8tax3_9D"
      ],
      "metadata": {
        "colab": {
          "base_uri": "https://localhost:8080/"
        },
        "id": "GRygLY0N0qTb",
        "outputId": "783b8f5e-21a1-4de2-e3c3-28afb9980f07"
      },
      "execution_count": 6,
      "outputs": [
        {
          "output_type": "stream",
          "name": "stdout",
          "text": [
            "Downloading...\n",
            "From: https://drive.google.com/uc?id=1g5jfFgKgtfQfi7vll1ZnLRKM8tax3_9D\n",
            "To: /content/extracted_lbp_features.pt\n",
            "\r  0% 0.00/17.3M [00:00<?, ?B/s]\r 58% 9.96M/17.3M [00:00<00:00, 96.4MB/s]\r100% 17.3M/17.3M [00:00<00:00, 103MB/s] \n"
          ]
        }
      ]
    },
    {
      "cell_type": "code",
      "source": [
        "cnn_features = torch.load('/content/extracted_lbp_features.pt')"
      ],
      "metadata": {
        "id": "0TksfGz60hVG"
      },
      "execution_count": 7,
      "outputs": []
    },
    {
      "cell_type": "code",
      "source": [
        "import numpy as np\n",
        "\n",
        "class FacesData:\n",
        "    def __init__(self, data_dict):\n",
        "        self.data_dict = data_dict\n",
        "\n",
        "    def get_X_y(self):\n",
        "        X = []\n",
        "        y = []\n",
        "        for key, value in self.data_dict.items():\n",
        "            # Extract the label from the file path\n",
        "            label = key.split('/')[1]\n",
        "            X.append(value.flatten())  # Flatten the feature array\n",
        "            y.append(label)\n",
        "        return np.array(X), np.array(y)\n",
        "\n",
        "\n",
        "\n",
        "faces_data = FacesData(cnn_features)\n",
        "X, y = faces_data.get_X_y()\n",
        "\n",
        "print('Features (X):', X.shape)\n",
        "print('Labels (y):', y.shape)"
      ],
      "metadata": {
        "colab": {
          "base_uri": "https://localhost:8080/"
        },
        "id": "VfEjeEnE0hRO",
        "outputId": "4a33dac7-2c50-4117-96a7-b4d492a77f8f"
      },
      "execution_count": 8,
      "outputs": [
        {
          "output_type": "stream",
          "name": "stdout",
          "text": [
            "Features (X): (13233, 256)\n",
            "Labels (y): (13233,)\n"
          ]
        }
      ]
    },
    {
      "cell_type": "code",
      "source": [
        "from sklearn.decomposition import PCA\n",
        "\n",
        "# Define the number of features for each split\n",
        "n_features_list = [32, 64, 128]\n",
        "\n",
        "# Dictionary to store the transformed data for each feature set\n",
        "transformed_data_dict = {}\n",
        "# Fit PCA with the maximum number of components needed\n",
        "pca = PCA(n_components=max(n_features_list) )\n",
        "X_pca = pca.fit_transform(X)\n",
        "\n",
        "# Split the data into different feature sets\n",
        "for n_features in n_features_list:\n",
        "    transformed_data_dict[n_features] = X_pca[:, :n_features]\n",
        "\n",
        "# Access the transformed data for a specific number of features\n",
        "transformed_data_32 = transformed_data_dict[32]\n",
        "transformed_data_64 = transformed_data_dict[64]\n",
        "transformed_data_128 = transformed_data_dict[128]"
      ],
      "metadata": {
        "id": "a6xOhkg90pNl"
      },
      "execution_count": 16,
      "outputs": []
    },
    {
      "cell_type": "code",
      "source": [
        "import warnings\n",
        "warnings.filterwarnings('ignore')"
      ],
      "metadata": {
        "id": "apwJrFiB2Xxv"
      },
      "execution_count": 17,
      "outputs": []
    },
    {
      "cell_type": "code",
      "source": [
        "import numpy as np\n",
        "import joblib\n",
        "from sklearn.metrics import top_k_accuracy_score\n",
        "from sklearn.metrics import accuracy_score\n",
        "# Load the trained Linear Regression model\n",
        "linear_regression_model = joblib.load('/content/PRML_Project/Saved models/LBP/Logistic_Regression/LBP_logistic_regression_32_features.pkl')\n",
        "\n",
        "# Assuming 'transformed_data_32' is your feature data and 'y' are your labels\n",
        "decision_scores = linear_regression_model.decision_function(transformed_data_32)\n",
        "sklearn_top5_accuracy = top_k_accuracy_score(y, decision_scores, k=5)\n",
        "\n",
        "\n",
        "# Regular accuracy\n",
        "predictions = linear_regression_model.predict(transformed_data_32)\n",
        "accuracy = accuracy_score(y, predictions)\n",
        "print(f\"Regular Accuracy for LBP_32 logistic regression : {accuracy:.2f}\")\n",
        "print(\"Top-5 Accuracy for LBP_32 logistic regression: {:.2f}\".format(sklearn_top5_accuracy))"
      ],
      "metadata": {
        "colab": {
          "base_uri": "https://localhost:8080/"
        },
        "id": "LuDJrY1L0vK5",
        "outputId": "2ebcd34e-9475-4fc5-8d93-0e03dfd0ccf1"
      },
      "execution_count": 18,
      "outputs": [
        {
          "output_type": "stream",
          "name": "stdout",
          "text": [
            "Regular Accuracy for LBP_32 logistic regression : 0.03\n",
            "Top-5 Accuracy for LBP_32 logistic regression: 0.09\n"
          ]
        }
      ]
    },
    {
      "cell_type": "code",
      "source": [
        "import numpy as np\n",
        "import joblib\n",
        "from sklearn.metrics import top_k_accuracy_score\n",
        "from sklearn.metrics import accuracy_score\n",
        "# Load the trained Linear Regression model\n",
        "linear_regression_model = joblib.load('/content/PRML_Project/Saved models/LBP/Logistic_Regression/LBP_logistic_regression_64_features.pkl')\n",
        "\n",
        "# Assuming 'transformed_data_64' is your feature data and 'y' are your labels\n",
        "decision_scores = linear_regression_model.decision_function(transformed_data_64)\n",
        "sklearn_top5_accuracy = top_k_accuracy_score(y, decision_scores, k=5)\n",
        "\n",
        "\n",
        "# Regular accuracy\n",
        "predictions = linear_regression_model.predict(transformed_data_64)\n",
        "accuracy = accuracy_score(y, predictions)\n",
        "print(f\"Regular Accuracy for LBP_64 logistic regression : {accuracy:.2f}\")\n",
        "print(\"Top-5 Accuracy for LBP_64 logistic regression: {:.2f}\".format(sklearn_top5_accuracy))"
      ],
      "metadata": {
        "colab": {
          "base_uri": "https://localhost:8080/"
        },
        "id": "cV-5m8Xh2oxQ",
        "outputId": "4274e3da-468f-4314-a201-665837eda0d4"
      },
      "execution_count": 19,
      "outputs": [
        {
          "output_type": "stream",
          "name": "stdout",
          "text": [
            "Regular Accuracy for LBP_64 logistic regression : 0.03\n",
            "Top-5 Accuracy for LBP_64 logistic regression: 0.09\n"
          ]
        }
      ]
    },
    {
      "cell_type": "code",
      "source": [
        "import numpy as np\n",
        "import joblib\n",
        "from sklearn.metrics import top_k_accuracy_score\n",
        "from sklearn.metrics import accuracy_score\n",
        "# Load the trained Balanced Linear Regression model\n",
        "linear_regression_model = joblib.load('/content/PRML_Project/Saved models/LBP/Logistic_Regression/LBP_logistic_regression_128_features.pkl')\n",
        "\n",
        "# Assuming 'transformed_data_128' is your feature data and 'y' are your labels\n",
        "decision_scores = linear_regression_model.decision_function(transformed_data_128)\n",
        "sklearn_top5_accuracy = top_k_accuracy_score(y, decision_scores, k=5)\n",
        "\n",
        "\n",
        "# Regular accuracy\n",
        "predictions = linear_regression_model.predict(transformed_data_128)\n",
        "accuracy = accuracy_score(y, predictions)\n",
        "print(f\"Regular Accuracy for CNN_128 logistic regression : {accuracy:.2f}\")\n",
        "print(\"Top-5 Accuracy for CNN_128 logistic regression: {:.2f}\".format(sklearn_top5_accuracy))"
      ],
      "metadata": {
        "colab": {
          "base_uri": "https://localhost:8080/"
        },
        "id": "r4-ev_vX4F0C",
        "outputId": "b7a7532f-dd48-4d91-f199-9b5718452971"
      },
      "execution_count": 21,
      "outputs": [
        {
          "output_type": "stream",
          "name": "stdout",
          "text": [
            "Regular Accuracy for CNN_128 logistic regression : 0.03\n",
            "Top-5 Accuracy for CNN_128 logistic regression: 0.09\n"
          ]
        }
      ]
    },
    {
      "cell_type": "code",
      "source": [
        "import numpy as np\n",
        "import joblib\n",
        "from sklearn.metrics import top_k_accuracy_score, accuracy_score\n",
        "\n",
        "# Load the trained RandomForest model\n",
        "rf_model = joblib.load('/content/LBP_random_forest_model_32_features.pkl')\n",
        "\n",
        "# Assuming 'transformed_data_32' is your feature data and 'y' are your true labels\n",
        "# Predict class labels for calculating regular accuracy\n",
        "predictions = rf_model.predict(transformed_data_32)\n",
        "regular_accuracy = accuracy_score(y, predictions)\n",
        "print(f\"Regular Accuracy for LBP_32 Random_Forest: {regular_accuracy:.2f}\")\n",
        "\n",
        "# Predict class probabilities for calculating top-5 accuracy\n",
        "probabilities = rf_model.predict_proba(transformed_data_32)\n",
        "top_k_accuracy = top_k_accuracy_score(y, probabilities, k=5)\n",
        "print(f\"Top-5 Accuracy for LBP_32 Random_Forest: {top_k_accuracy:.2f}\")\n"
      ],
      "metadata": {
        "colab": {
          "base_uri": "https://localhost:8080/"
        },
        "id": "OIfEPhW_7RVW",
        "outputId": "98e75d5a-f671-4b0f-ed63-9b6aa5b97545"
      },
      "execution_count": 22,
      "outputs": [
        {
          "output_type": "stream",
          "name": "stdout",
          "text": [
            "Regular Accuracy for LBP_32 Random_Forest: 0.39\n",
            "Top-5 Accuracy for LBP_32 Random_Forest: 0.51\n"
          ]
        }
      ]
    },
    {
      "cell_type": "code",
      "source": [
        "import numpy as np\n",
        "import joblib\n",
        "from sklearn.metrics import top_k_accuracy_score, accuracy_score\n",
        "\n",
        "# Load the trained RandomForest model\n",
        "rf_model = joblib.load('/content/LBP_random_forest_model_64_features.pkl')\n",
        "\n",
        "# Assuming 'transformed_data_64' is your feature data and 'y' are your true labels\n",
        "# Predict class labels for calculating regular accuracy\n",
        "predictions = rf_model.predict(transformed_data_64)\n",
        "regular_accuracy = accuracy_score(y, predictions)\n",
        "print(f\"Regular Accuracy for LBP_64 Random_Forest: {regular_accuracy:.2f}\")\n",
        "\n",
        "# Predict class probabilities for calculating top-5 accuracy\n",
        "probabilities = rf_model.predict_proba(transformed_data_64)\n",
        "top_k_accuracy = top_k_accuracy_score(y, probabilities, k=5)\n",
        "print(f\"Top-5 Accuracy for LBP_64 Random_Forest: {top_k_accuracy:.2f}\")\n"
      ],
      "metadata": {
        "colab": {
          "base_uri": "https://localhost:8080/"
        },
        "id": "YdDBPO-UwbSU",
        "outputId": "7944782f-767c-496c-a5c5-7f7a60c524d5"
      },
      "execution_count": 27,
      "outputs": [
        {
          "output_type": "stream",
          "name": "stdout",
          "text": [
            "Regular Accuracy for LBP_64 Random_Forest: 0.33\n",
            "Top-5 Accuracy for LBP_64 Random_Forest: 0.43\n"
          ]
        }
      ]
    },
    {
      "cell_type": "code",
      "source": [
        "import numpy as np\n",
        "import joblib\n",
        "from sklearn.metrics import top_k_accuracy_score, accuracy_score\n",
        "\n",
        "# Load the trained RandomForest model\n",
        "rf_model = joblib.load('/content/LBP_random_forest_model_128_features.pkl')\n",
        "\n",
        "# Assuming 'transformed_data_128' is your feature data and 'y' are your true labels\n",
        "# Predict class labels for calculating regular accuracy\n",
        "predictions = rf_model.predict(transformed_data_128)\n",
        "regular_accuracy = accuracy_score(y, predictions)\n",
        "print(f\"Regular Accuracy for LBP_128 Random_Forest: {regular_accuracy:.2f}\")\n",
        "\n",
        "# Predict class probabilities for calculating top-5 accuracy\n",
        "probabilities = rf_model.predict_proba(transformed_data_128)\n",
        "top_k_accuracy = top_k_accuracy_score(y, probabilities, k=5)\n",
        "print(f\"Top-5 Accuracy for LBP_128 Random_Forest: {top_k_accuracy:.2f}\")\n"
      ],
      "metadata": {
        "colab": {
          "base_uri": "https://localhost:8080/"
        },
        "id": "7v1x2DpSwo2p",
        "outputId": "985ebd93-44c0-4be6-ca93-fa50b4646cd2"
      },
      "execution_count": 34,
      "outputs": [
        {
          "output_type": "stream",
          "name": "stdout",
          "text": [
            "Regular Accuracy for LBP_128 Random_Forest: 0.15\n",
            "Top-5 Accuracy for LBP_128 Random_Forest: 0.24\n"
          ]
        }
      ]
    },
    {
      "cell_type": "code",
      "source": [
        "import numpy as np\n",
        "import joblib\n",
        "from sklearn.metrics import top_k_accuracy_score\n",
        "\n",
        "# Load the trained LinearSVC model\n",
        "linear_svm_model = joblib.load('/content/LBP_linear_svc_32_features.pkl')\n",
        "\n",
        "# Assuming 'transformed_data_32' is your feature data and 'y' are your labels\n",
        "decision_scores = linear_svm_model.decision_function(transformed_data_32)\n",
        "sklearn_top5_accuracy = top_k_accuracy_score(y, decision_scores, k=5)\n",
        "\n",
        "\n",
        "# Regular accuracy\n",
        "predictions = linear_svm_model.predict(transformed_data_32)\n",
        "accuracy = accuracy_score(y, predictions)\n",
        "print(f\"Regular Accuracy for CNN_32 LinearSVC : {accuracy:}\")\n",
        "print(\"Top-5 Accuracy for CNN_32 LinearSVC : {:}\".format(sklearn_top5_accuracy))"
      ],
      "metadata": {
        "colab": {
          "base_uri": "https://localhost:8080/"
        },
        "id": "gag8EhUR5vEp",
        "outputId": "e82cc773-4aa3-4c37-940b-b1ae3c0c9ec6"
      },
      "execution_count": 42,
      "outputs": [
        {
          "output_type": "stream",
          "name": "stdout",
          "text": [
            "Regular Accuracy for CNN_32 LinearSVC : 0.0006801178871004307\n",
            "Top-5 Accuracy for CNN_32 LinearSVC : 0.0015113730824454017\n"
          ]
        }
      ]
    },
    {
      "cell_type": "code",
      "source": [
        "import numpy as np\n",
        "import joblib\n",
        "from sklearn.metrics import top_k_accuracy_score, accuracy_score\n",
        "from sklearn.preprocessing import LabelEncoder\n",
        "# Load the trained RandomForest model\n",
        "xgb_model = joblib.load('/content/LBP_xgb_model_32_features.pkl')\n",
        "label_encoder = LabelEncoder()\n",
        "y_encoded = label_encoder.fit_transform(y)\n",
        "# Assuming 'transformed_data_32' is your feature data and 'y' are your true labels\n",
        "# Predict class labels for calculating regular accuracy\n",
        "predictions = xgb_model.predict(transformed_data_32)\n",
        "regular_accuracy = accuracy_score(y_encoded, predictions)\n",
        "print(f\"Regular Accuracy for LBP_32 XGB: {regular_accuracy:.2f}\")\n",
        "\n",
        "# Predict class probabilities for calculating top-5 accuracy\n",
        "probabilities = xgb_model.predict_proba(transformed_data_32)\n",
        "top_k_accuracy = top_k_accuracy_score(y_encoded, probabilities, k=5)\n",
        "print(f\"Top-5 Accuracy for LBP_32 XGB: {top_k_accuracy:.2f}\")\n"
      ],
      "metadata": {
        "colab": {
          "base_uri": "https://localhost:8080/"
        },
        "id": "f4kUYXUexSmJ",
        "outputId": "b798e2f8-c122-4a2b-8bef-79e415f32261"
      },
      "execution_count": 24,
      "outputs": [
        {
          "output_type": "stream",
          "name": "stdout",
          "text": [
            "Regular Accuracy for LBP_32 XGB: 0.04\n",
            "Top-5 Accuracy for LBP_32 XGB: 0.09\n"
          ]
        }
      ]
    },
    {
      "cell_type": "code",
      "source": [
        "import numpy as np\n",
        "import joblib\n",
        "from sklearn.metrics import top_k_accuracy_score, accuracy_score\n",
        "from sklearn.preprocessing import LabelEncoder\n",
        "# Load the trained RandomForest model\n",
        "xgb_model = joblib.load('/content/LBP_xgb_model_64_features.pkl')\n",
        "label_encoder = LabelEncoder()\n",
        "y_encoded = label_encoder.fit_transform(y)\n",
        "# Assuming 'transformed_data_64' is your feature data and 'y' are your true labels\n",
        "# Predict class labels for calculating regular accuracy\n",
        "predictions = xgb_model.predict(transformed_data_64)\n",
        "regular_accuracy = accuracy_score(y_encoded, predictions)\n",
        "print(f\"Regular Accuracy for LBP_64 XGB: {regular_accuracy:.2f}\")\n",
        "\n",
        "# Predict class probabilities for calculating top-5 accuracy\n",
        "probabilities = xgb_model.predict_proba(transformed_data_64)\n",
        "top_k_accuracy = top_k_accuracy_score(y_encoded, probabilities, k=5)\n",
        "print(f\"Top-5 Accuracy for LBP_64 XGB: {top_k_accuracy:.2f}\")\n"
      ],
      "metadata": {
        "colab": {
          "base_uri": "https://localhost:8080/"
        },
        "id": "qkDTHsaBySCM",
        "outputId": "1b71eb0c-c744-4a4f-8796-57cad89971c8"
      },
      "execution_count": 25,
      "outputs": [
        {
          "output_type": "stream",
          "name": "stdout",
          "text": [
            "Regular Accuracy for LBP_64 XGB: 0.04\n",
            "Top-5 Accuracy for LBP_64 XGB: 0.10\n"
          ]
        }
      ]
    },
    {
      "cell_type": "code",
      "source": [
        "import numpy as np\n",
        "import joblib\n",
        "from sklearn.metrics import top_k_accuracy_score, accuracy_score\n",
        "from sklearn.preprocessing import LabelEncoder\n",
        "# Load the trained RandomForest model\n",
        "xgb_model = joblib.load('/content/LBP_xgb_model_128_features.pkl')\n",
        "label_encoder = LabelEncoder()\n",
        "y_encoded = label_encoder.fit_transform(y)\n",
        "# Assuming 'transformed_data_128' is your feature data and 'y' are your true labels\n",
        "# Predict class labels for calculating regular accuracy\n",
        "predictions = xgb_model.predict(transformed_data_128)\n",
        "regular_accuracy = accuracy_score(y_encoded, predictions)\n",
        "print(f\"Regular Accuracy for LBP_128 XGB: {regular_accuracy:.2f}\")\n",
        "\n",
        "# Predict class probabilities for calculating top-5 accuracy\n",
        "probabilities = xgb_model.predict_proba(transformed_data_128)\n",
        "top_k_accuracy = top_k_accuracy_score(y_encoded, probabilities, k=5)\n",
        "print(f\"Top-5 Accuracy for LBP_128 XGB: {top_k_accuracy:.2f}\")\n"
      ],
      "metadata": {
        "colab": {
          "base_uri": "https://localhost:8080/"
        },
        "id": "Y1Fnu3pXybYC",
        "outputId": "7a353a91-5816-4203-b1f6-fffaca29b955"
      },
      "execution_count": 26,
      "outputs": [
        {
          "output_type": "stream",
          "name": "stdout",
          "text": [
            "Regular Accuracy for LBP_128 XGB: 0.04\n",
            "Top-5 Accuracy for LBP_128 XGB: 0.10\n"
          ]
        }
      ]
    },
    {
      "cell_type": "code",
      "source": [
        "import numpy as np\n",
        "import joblib\n",
        "from sklearn.metrics import top_k_accuracy_score, accuracy_score\n",
        "\n",
        "# Load the trained RandomForest model\n",
        "knn_model = joblib.load('/content/PRML_Project/Saved models/LBP/KNN/LBP_knn_model_32_features.pkl')\n",
        "\n",
        "# Assuming 'transformed_data_32' is your feature data and 'y' are your true labels\n",
        "# Predict class labels for calculating regular accuracy\n",
        "predictions = knn_model.predict(transformed_data_32)\n",
        "regular_accuracy = accuracy_score(y, predictions)\n",
        "print(f\"Regular Accuracy for LBP_32 KNN: {regular_accuracy:.2f}\")\n",
        "\n",
        "# Predict class probabilities for calculating top-5 accuracy\n",
        "probabilities = knn_model.predict_proba(transformed_data_32)\n",
        "top_k_accuracy = top_k_accuracy_score(y, probabilities, k=5)\n",
        "print(f\"Top-5 Accuracy for LBP_32 KNN: {top_k_accuracy:.2f}\")\n"
      ],
      "metadata": {
        "colab": {
          "base_uri": "https://localhost:8080/"
        },
        "id": "wczQtSTWyxAX",
        "outputId": "2e07c04d-578c-453f-eba2-17d448bde2b6"
      },
      "execution_count": 37,
      "outputs": [
        {
          "output_type": "stream",
          "name": "stdout",
          "text": [
            "Regular Accuracy for LBP_32 KNN: 0.22\n",
            "Top-5 Accuracy for LBP_32 KNN: 1.00\n"
          ]
        }
      ]
    },
    {
      "cell_type": "code",
      "source": [
        "import numpy as np\n",
        "import joblib\n",
        "from sklearn.metrics import top_k_accuracy_score, accuracy_score\n",
        "\n",
        "# Load the trained RandomForest model\n",
        "knn_model = joblib.load('/content/PRML_Project/Saved models/LBP/KNN/LBP_knn_model_64_features.pkl')\n",
        "\n",
        "# Assuming 'transformed_data_64' is your feature data and 'y' are your true labels\n",
        "# Predict class labels for calculating regular accuracy\n",
        "predictions = knn_model.predict(transformed_data_64)\n",
        "regular_accuracy = accuracy_score(y, predictions)\n",
        "print(f\"Regular Accuracy for LBP_64 KNN: {regular_accuracy:.2f}\")\n",
        "\n",
        "# Predict class probabilities for calculating top-5 accuracy\n",
        "probabilities = knn_model.predict_proba(transformed_data_64)\n",
        "top_k_accuracy = top_k_accuracy_score(y, probabilities, k=5)\n",
        "print(f\"Top-5 Accuracy for LBP_64 KNN: {top_k_accuracy:.2f}\")\n"
      ],
      "metadata": {
        "colab": {
          "base_uri": "https://localhost:8080/"
        },
        "id": "q9H4r_mWzVrw",
        "outputId": "3b8018dc-b8de-463e-b697-4880e2ef75ab"
      },
      "execution_count": 38,
      "outputs": [
        {
          "output_type": "stream",
          "name": "stdout",
          "text": [
            "Regular Accuracy for LBP_64 KNN: 0.22\n",
            "Top-5 Accuracy for LBP_64 KNN: 1.00\n"
          ]
        }
      ]
    },
    {
      "cell_type": "code",
      "source": [
        "import numpy as np\n",
        "import joblib\n",
        "from sklearn.metrics import top_k_accuracy_score, accuracy_score\n",
        "\n",
        "# Load the trained RandomForest model\n",
        "knn_model = joblib.load('/content/PRML_Project/Saved models/LBP/KNN/LBP_knn_model_128_features.pkl')\n",
        "\n",
        "# Assuming 'transformed_data_128' is your feature data and 'y' are your true labels\n",
        "# Predict class labels for calculating regular accuracy\n",
        "predictions = knn_model.predict(transformed_data_128)\n",
        "regular_accuracy = accuracy_score(y, predictions)\n",
        "print(f\"Regular Accuracy for LBP_128 KNN: {regular_accuracy:.2f}\")\n",
        "\n",
        "# Predict class probabilities for calculating top-5 accuracy\n",
        "probabilities = knn_model.predict_proba(transformed_data_128)\n",
        "top_k_accuracy = top_k_accuracy_score(y, probabilities, k=5)\n",
        "print(f\"Top-5 Accuracy for LBP_128 KNN: {top_k_accuracy:.2f}\")\n"
      ],
      "metadata": {
        "colab": {
          "base_uri": "https://localhost:8080/"
        },
        "id": "iN2Re8ewzj9Q",
        "outputId": "a699ff64-9bd7-4471-e03d-2c940d5163a3"
      },
      "execution_count": 39,
      "outputs": [
        {
          "output_type": "stream",
          "name": "stdout",
          "text": [
            "Regular Accuracy for LBP_128 KNN: 0.22\n",
            "Top-5 Accuracy for LBP_128 KNN: 1.00\n"
          ]
        }
      ]
    },
    {
      "cell_type": "code",
      "source": [
        "import numpy as np\n",
        "import matplotlib.pyplot as plt\n",
        "import seaborn as sns\n",
        "from sklearn.metrics import confusion_matrix, precision_recall_fscore_support, accuracy_score, top_k_accuracy_score\n",
        "import joblib\n",
        "\n",
        "# Load model and data\n",
        "linear_svm_model = joblib.load('/content/PRML_Project/Saved models/LBP/Random_Forest/linear_svc_128_features.pkl')\n",
        "# Make predictions\n",
        "predictions = linear_svm_model.predict(transformed_data_32)\n",
        "decision_scores = linear_svm_model.decision_function(transformed_data_32)\n",
        "\n",
        "# Metrics\n",
        "sklearn_top5_accuracy = top_k_accuracy_score(y, decision_scores, k=5)\n",
        "accuracy = accuracy_score(y, predictions)\n",
        "precision, recall, f1, _ = precision_recall_fscore_support(y, predictions, average='macro')\n",
        "conf_matrix = confusion_matrix(y, predictions)\n",
        "\n",
        "# Output results\n",
        "print(f\"Precision: {precision:.2f}\")\n",
        "print(f\"Recall: {recall:.2f}\")\n",
        "print(f\"F1 Score: {f1:.2f}\")\n",
        "\n"
      ],
      "metadata": {
        "id": "yqG2MUgIRKgr"
      },
      "execution_count": null,
      "outputs": []
    }
  ]
}