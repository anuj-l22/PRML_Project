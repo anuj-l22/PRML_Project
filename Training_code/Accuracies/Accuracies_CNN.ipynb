{
  "nbformat": 4,
  "nbformat_minor": 0,
  "metadata": {
    "colab": {
      "provenance": [],
      "gpuType": "T4"
    },
    "kernelspec": {
      "name": "python3",
      "display_name": "Python 3"
    },
    "language_info": {
      "name": "python"
    },
    "accelerator": "GPU"
  },
  "cells": [
    {
      "cell_type": "code",
      "source": [
        "!git clone https://github.com/anuj-l22/PRML_Project.git"
      ],
      "metadata": {
        "colab": {
          "base_uri": "https://localhost:8080/"
        },
        "id": "TDgPclP61A5K",
        "outputId": "c0a1b983-1d4c-4035-bb9f-f17f7676e1d4"
      },
      "execution_count": 1,
      "outputs": [
        {
          "output_type": "stream",
          "name": "stdout",
          "text": [
            "Cloning into 'PRML_Project'...\n",
            "remote: Enumerating objects: 400, done.\u001b[K\n",
            "remote: Counting objects: 100% (285/285), done.\u001b[K\n",
            "remote: Compressing objects: 100% (143/143), done.\u001b[K\n",
            "remote: Total 400 (delta 137), reused 274 (delta 131), pack-reused 115\u001b[K\n",
            "Receiving objects: 100% (400/400), 99.78 MiB | 23.28 MiB/s, done.\n",
            "Resolving deltas: 100% (155/155), done.\n",
            "Updating files: 100% (58/58), done.\n"
          ]
        }
      ]
    },
    {
      "cell_type": "code",
      "source": [
        "!pip install gdown"
      ],
      "metadata": {
        "id": "27SZ7tuE_Eaj",
        "outputId": "1b7393db-e13a-439e-bebb-7a6fa0a72f9b",
        "colab": {
          "base_uri": "https://localhost:8080/"
        }
      },
      "execution_count": 2,
      "outputs": [
        {
          "output_type": "stream",
          "name": "stdout",
          "text": [
            "Requirement already satisfied: gdown in /usr/local/lib/python3.10/dist-packages (4.7.3)\n",
            "Requirement already satisfied: filelock in /usr/local/lib/python3.10/dist-packages (from gdown) (3.13.4)\n",
            "Requirement already satisfied: requests[socks] in /usr/local/lib/python3.10/dist-packages (from gdown) (2.31.0)\n",
            "Requirement already satisfied: six in /usr/local/lib/python3.10/dist-packages (from gdown) (1.16.0)\n",
            "Requirement already satisfied: tqdm in /usr/local/lib/python3.10/dist-packages (from gdown) (4.66.2)\n",
            "Requirement already satisfied: beautifulsoup4 in /usr/local/lib/python3.10/dist-packages (from gdown) (4.12.3)\n",
            "Requirement already satisfied: soupsieve>1.2 in /usr/local/lib/python3.10/dist-packages (from beautifulsoup4->gdown) (2.5)\n",
            "Requirement already satisfied: charset-normalizer<4,>=2 in /usr/local/lib/python3.10/dist-packages (from requests[socks]->gdown) (3.3.2)\n",
            "Requirement already satisfied: idna<4,>=2.5 in /usr/local/lib/python3.10/dist-packages (from requests[socks]->gdown) (3.7)\n",
            "Requirement already satisfied: urllib3<3,>=1.21.1 in /usr/local/lib/python3.10/dist-packages (from requests[socks]->gdown) (2.0.7)\n",
            "Requirement already satisfied: certifi>=2017.4.17 in /usr/local/lib/python3.10/dist-packages (from requests[socks]->gdown) (2024.2.2)\n",
            "Requirement already satisfied: PySocks!=1.5.7,>=1.5.6 in /usr/local/lib/python3.10/dist-packages (from requests[socks]->gdown) (1.7.1)\n"
          ]
        }
      ]
    },
    {
      "cell_type": "code",
      "source": [
        "!gdown 11dUxkkbvb6m0mpmiwX3443_4Ev-b5vtQ\n",
        "!gdown 1nJmmDchMk7nkqBkVu80uVKGlpiPqu224\n",
        "!gdown 1QUwB-yZIRMxfqzFFIUX5ONyR0wUG7rk-\n",
        "!gdown 1SqAL1qK_mEmMB8dP3U2mY7okQv3ad7X-\n",
        "!gdown 1XLWx3hqL2iU5Op6ONTkD6qoYeKZ8kIK0\n",
        "!gdown 12-LMcihxPBuLM08Ki4bGOyUM0u-6eAxT"
      ],
      "metadata": {
        "id": "PJaeQqOi_bmf",
        "colab": {
          "base_uri": "https://localhost:8080/"
        },
        "outputId": "b51956cb-b33e-46c7-8dce-b6306906833d"
      },
      "execution_count": 3,
      "outputs": [
        {
          "output_type": "stream",
          "name": "stdout",
          "text": [
            "Downloading...\n",
            "From (original): https://drive.google.com/uc?id=11dUxkkbvb6m0mpmiwX3443_4Ev-b5vtQ\n",
            "From (redirected): https://drive.google.com/uc?id=11dUxkkbvb6m0mpmiwX3443_4Ev-b5vtQ&confirm=t&uuid=c0c877a4-3492-41f9-81a1-4523dc30b1a9\n",
            "To: /content/random_forest_model_32_features.pkl\n",
            "100% 1.40G/1.40G [00:10<00:00, 139MB/s]\n",
            "Downloading...\n",
            "From (original): https://drive.google.com/uc?id=1nJmmDchMk7nkqBkVu80uVKGlpiPqu224\n",
            "From (redirected): https://drive.google.com/uc?id=1nJmmDchMk7nkqBkVu80uVKGlpiPqu224&confirm=t&uuid=ee51b8e6-5caf-49ab-98cb-bfea55c12a98\n",
            "To: /content/random_forest_model_64_features.pkl\n",
            "100% 1.10G/1.10G [00:11<00:00, 98.4MB/s]\n",
            "Downloading...\n",
            "From (original): https://drive.google.com/uc?id=1QUwB-yZIRMxfqzFFIUX5ONyR0wUG7rk-\n",
            "From (redirected): https://drive.google.com/uc?id=1QUwB-yZIRMxfqzFFIUX5ONyR0wUG7rk-&confirm=t&uuid=a5b47fc3-65f0-4fdb-998f-8c3e0c3945e7\n",
            "To: /content/random_forest_model_128_features.pkl\n",
            "100% 888M/888M [00:07<00:00, 117MB/s] \n",
            "Downloading...\n",
            "From: https://drive.google.com/uc?id=1SqAL1qK_mEmMB8dP3U2mY7okQv3ad7X-\n",
            "To: /content/xgb_model_32_features.pkl\n",
            "100% 82.4M/82.4M [00:00<00:00, 144MB/s]\n",
            "Downloading...\n",
            "From: https://drive.google.com/uc?id=1XLWx3hqL2iU5Op6ONTkD6qoYeKZ8kIK0\n",
            "To: /content/xgb_model_64_features.pkl\n",
            "100% 82.2M/82.2M [00:01<00:00, 77.4MB/s]\n",
            "Downloading...\n",
            "From: https://drive.google.com/uc?id=12-LMcihxPBuLM08Ki4bGOyUM0u-6eAxT\n",
            "To: /content/xgb_model_128_features.pkl\n",
            "100% 82.2M/82.2M [00:00<00:00, 87.8MB/s]\n"
          ]
        }
      ]
    },
    {
      "cell_type": "code",
      "execution_count": 4,
      "metadata": {
        "id": "hB-mNzKMx3CZ"
      },
      "outputs": [],
      "source": [
        "import torch"
      ]
    },
    {
      "cell_type": "code",
      "source": [
        "import numpy as np"
      ],
      "metadata": {
        "id": "tPKcWg3-yEeD"
      },
      "execution_count": 5,
      "outputs": []
    },
    {
      "cell_type": "code",
      "source": [
        "!gdown 1vkmlR2e82Iw964SvAlpskl7uODLz7X0V"
      ],
      "metadata": {
        "colab": {
          "base_uri": "https://localhost:8080/"
        },
        "id": "GRygLY0N0qTb",
        "outputId": "d8494ee7-06df-4da5-8787-7d28f75b0984"
      },
      "execution_count": 6,
      "outputs": [
        {
          "output_type": "stream",
          "name": "stdout",
          "text": [
            "Downloading...\n",
            "From (original): https://drive.google.com/uc?id=1vkmlR2e82Iw964SvAlpskl7uODLz7X0V\n",
            "From (redirected): https://drive.google.com/uc?id=1vkmlR2e82Iw964SvAlpskl7uODLz7X0V&confirm=t&uuid=39d18fb1-a868-4f84-9d4e-1e6cd8f30741\n",
            "To: /content/extracted_resnet_features.pt\n",
            "100% 113M/113M [00:01<00:00, 86.4MB/s] \n"
          ]
        }
      ]
    },
    {
      "cell_type": "code",
      "source": [
        "cnn_features = torch.load('/content/extracted_resnet_features.pt')"
      ],
      "metadata": {
        "id": "0TksfGz60hVG"
      },
      "execution_count": 7,
      "outputs": []
    },
    {
      "cell_type": "code",
      "source": [
        "import numpy as np\n",
        "\n",
        "class FacesData:\n",
        "    def __init__(self, data_dict):\n",
        "        self.data_dict = data_dict\n",
        "\n",
        "    def get_X_y(self):\n",
        "        X = []\n",
        "        y = []\n",
        "        for key, value in self.data_dict.items():\n",
        "            # Extract the label from the file path\n",
        "            label = key.split('/')[1]\n",
        "            X.append(value.flatten())  # Flatten the feature array\n",
        "            y.append(label)\n",
        "        return np.array(X), np.array(y)\n",
        "\n",
        "\n",
        "\n",
        "faces_data = FacesData(cnn_features)\n",
        "X, y = faces_data.get_X_y()\n",
        "\n",
        "print('Features (X):', X.shape)\n",
        "print('Labels (y):', y.shape)"
      ],
      "metadata": {
        "colab": {
          "base_uri": "https://localhost:8080/"
        },
        "id": "VfEjeEnE0hRO",
        "outputId": "1e95bcc6-adce-4fea-97c5-8a250caac519"
      },
      "execution_count": 8,
      "outputs": [
        {
          "output_type": "stream",
          "name": "stdout",
          "text": [
            "Features (X): (13233, 2048)\n",
            "Labels (y): (13233,)\n"
          ]
        }
      ]
    },
    {
      "cell_type": "code",
      "source": [
        "from sklearn.decomposition import PCA\n",
        "\n",
        "# Define the number of features for each split\n",
        "n_features_list = [32, 64, 128]\n",
        "\n",
        "# Dictionary to store the transformed data for each feature set\n",
        "transformed_data_dict = {}\n",
        "# Fit PCA with the maximum number of components needed\n",
        "pca = PCA(n_components=max(n_features_list) )\n",
        "X_pca = pca.fit_transform(X)\n",
        "\n",
        "# Split the data into different feature sets\n",
        "for n_features in n_features_list:\n",
        "    transformed_data_dict[n_features] = X_pca[:, :n_features]\n",
        "\n",
        "# Access the transformed data for a specific number of features\n",
        "transformed_data_32 = transformed_data_dict[32]\n",
        "transformed_data_64 = transformed_data_dict[64]\n",
        "transformed_data_128 = transformed_data_dict[128]"
      ],
      "metadata": {
        "id": "a6xOhkg90pNl"
      },
      "execution_count": 9,
      "outputs": []
    },
    {
      "cell_type": "code",
      "source": [
        "import warnings\n",
        "warnings.filterwarnings('ignore')"
      ],
      "metadata": {
        "id": "apwJrFiB2Xxv"
      },
      "execution_count": 10,
      "outputs": []
    },
    {
      "cell_type": "code",
      "source": [
        "import numpy as np\n",
        "import joblib\n",
        "from sklearn.metrics import top_k_accuracy_score\n",
        "from sklearn.metrics import accuracy_score\n",
        "# Load the trained Linear Regression model\n",
        "linear_regression_model = joblib.load('/content/PRML_Project/Saved models/CNN/Logistic_Regression/logistic_regression_32_features.pkl')\n",
        "\n",
        "# Assuming 'transformed_data_32' is your feature data and 'y' are your labels\n",
        "decision_scores = linear_regression_model.decision_function(transformed_data_32)\n",
        "sklearn_top5_accuracy = top_k_accuracy_score(y, decision_scores, k=5)\n",
        "\n",
        "\n",
        "# Regular accuracy\n",
        "predictions = linear_regression_model.predict(transformed_data_32)\n",
        "accuracy = accuracy_score(y, predictions)\n",
        "print(f\"Regular Accuracy for CNN_32 logistic regression : {accuracy:.2f}\")\n",
        "print(\"Top-5 Accuracy for CNN_32 logistic regression: {:.2f}\".format(sklearn_top5_accuracy))"
      ],
      "metadata": {
        "colab": {
          "base_uri": "https://localhost:8080/"
        },
        "id": "LuDJrY1L0vK5",
        "outputId": "2c392b33-cdcb-413c-cfbb-f6433b04e6f2"
      },
      "execution_count": null,
      "outputs": [
        {
          "output_type": "stream",
          "name": "stdout",
          "text": [
            "Regular Accuracy for CNN_32 logistic regression : 0.52\n",
            "Top-5 Accuracy for CNN_32 logistic regression: 0.78\n"
          ]
        }
      ]
    },
    {
      "cell_type": "code",
      "source": [
        "import numpy as np\n",
        "import joblib\n",
        "from sklearn.metrics import top_k_accuracy_score\n",
        "from sklearn.metrics import accuracy_score\n",
        "# Load the trained Linear Regression model\n",
        "linear_regression_model = joblib.load('/content/PRML_Project/Saved models/CNN/Logistic_Regression/logistic_regression_64_features.pkl')\n",
        "\n",
        "# Assuming 'transformed_data_64' is your feature data and 'y' are your labels\n",
        "decision_scores = linear_regression_model.decision_function(transformed_data_64)\n",
        "sklearn_top5_accuracy = top_k_accuracy_score(y, decision_scores, k=5)\n",
        "\n",
        "\n",
        "# Regular accuracy\n",
        "predictions = linear_regression_model.predict(transformed_data_64)\n",
        "accuracy = accuracy_score(y, predictions)\n",
        "print(f\"Regular Accuracy for CNN_64 logistic regression : {accuracy:.2f}\")\n",
        "print(\"Top-5 Accuracy for CNN_64 logistic regression: {:.2f}\".format(sklearn_top5_accuracy))"
      ],
      "metadata": {
        "colab": {
          "base_uri": "https://localhost:8080/"
        },
        "id": "cV-5m8Xh2oxQ",
        "outputId": "450ffcfa-423c-4725-cb18-b614d2e4c588"
      },
      "execution_count": null,
      "outputs": [
        {
          "output_type": "stream",
          "name": "stdout",
          "text": [
            "Regular Accuracy for CNN_64 logistic regression : 0.70\n",
            "Top-5 Accuracy for CNN_64 logistic regression: 0.89\n"
          ]
        }
      ]
    },
    {
      "cell_type": "code",
      "source": [
        "import numpy as np\n",
        "import joblib\n",
        "from sklearn.metrics import top_k_accuracy_score\n",
        "from sklearn.metrics import accuracy_score\n",
        "# Load the trained Balanced Linear Regression model\n",
        "linear_regression_model = joblib.load('/content/PRML_Project/Saved models/CNN/Logistic_Regression/logistic_regression_128_features.pkl')\n",
        "\n",
        "# Assuming 'transformed_data_128' is your feature data and 'y' are your labels\n",
        "decision_scores = linear_regression_model.decision_function(transformed_data_128)\n",
        "sklearn_top5_accuracy = top_k_accuracy_score(y, decision_scores, k=5)\n",
        "\n",
        "\n",
        "# Regular accuracy\n",
        "predictions = linear_regression_model.predict(transformed_data_128)\n",
        "accuracy = accuracy_score(y, predictions)\n",
        "print(f\"Regular Accuracy for CNN_128 logistic regression : {accuracy:.2f}\")\n",
        "print(\"Top-5 Accuracy for CNN_128 logistic regression: {:.2f}\".format(sklearn_top5_accuracy))"
      ],
      "metadata": {
        "colab": {
          "base_uri": "https://localhost:8080/"
        },
        "id": "r4-ev_vX4F0C",
        "outputId": "659d452c-9ee3-4ebd-e3c6-6475f3ca5b4d"
      },
      "execution_count": null,
      "outputs": [
        {
          "output_type": "stream",
          "name": "stdout",
          "text": [
            "Regular Accuracy for CNN_128 logistic regression : 0.73\n",
            "Top-5 Accuracy for CNN_128 logistic regression: 0.91\n"
          ]
        }
      ]
    },
    {
      "cell_type": "code",
      "source": [
        "import numpy as np\n",
        "import joblib\n",
        "from sklearn.metrics import top_k_accuracy_score\n",
        "from sklearn.metrics import accuracy_score\n",
        "# Load the trained Balanced Linear Regression model\n",
        "linear_regression_model = joblib.load('/content/PRML_Project/Saved models/CNN/Logistic_Regression/balanced_logistic_regression_32_features.pkl')\n",
        "\n",
        "# Assuming 'transformed_data_32' is your feature data and 'y' are your labels\n",
        "decision_scores = linear_regression_model.decision_function(transformed_data_32)\n",
        "sklearn_top5_accuracy = top_k_accuracy_score(y, decision_scores, k=5)\n",
        "\n",
        "\n",
        "# Regular accuracy\n",
        "predictions = linear_regression_model.predict(transformed_data_32)\n",
        "accuracy = accuracy_score(y, predictions)\n",
        "print(f\"Regular Accuracy for CNN_32 balanced logistic regression : {accuracy:.2f}\")\n",
        "print(\"Top-5 Accuracy for CNN_32 balanced logistic regression: {:.2f}\".format(sklearn_top5_accuracy))"
      ],
      "metadata": {
        "colab": {
          "base_uri": "https://localhost:8080/"
        },
        "id": "9ijRvLkj4YEp",
        "outputId": "7faf2f7d-5684-4c7a-afec-56e5a6b268a4"
      },
      "execution_count": null,
      "outputs": [
        {
          "output_type": "stream",
          "name": "stdout",
          "text": [
            "Regular Accuracy for CNN_32 balanced logistic regression : 0.54\n",
            "Top-5 Accuracy for CNN_32 balanced logistic regression: 0.62\n"
          ]
        }
      ]
    },
    {
      "cell_type": "code",
      "source": [
        "import numpy as np\n",
        "import joblib\n",
        "from sklearn.metrics import top_k_accuracy_score\n",
        "from sklearn.metrics import accuracy_score\n",
        "# Load the trained Balanced Linear Regression model\n",
        "linear_regression_model = joblib.load('/content/PRML_Project/Saved models/CNN/Logistic_Regression/balanced_logistic_regression_64_features.pkl')\n",
        "\n",
        "# Assuming 'transformed_data_64' is your feature data and 'y' are your labels\n",
        "decision_scores = linear_regression_model.decision_function(transformed_data_64)\n",
        "sklearn_top5_accuracy = top_k_accuracy_score(y, decision_scores, k=5)\n",
        "\n",
        "\n",
        "# Regular accuracy\n",
        "predictions = linear_regression_model.predict(transformed_data_64)\n",
        "accuracy = accuracy_score(y, predictions)\n",
        "print(f\"Regular Accuracy for CNN_64 balanced logistic regression : {accuracy:.2f}\")\n",
        "print(\"Top-5 Accuracy for CNN_64 balanced logistic regression: {:.2f}\".format(sklearn_top5_accuracy))"
      ],
      "metadata": {
        "colab": {
          "base_uri": "https://localhost:8080/"
        },
        "id": "hTbbjWnS4yRD",
        "outputId": "645772a1-743b-4069-bcbe-0d00cfa6e911"
      },
      "execution_count": null,
      "outputs": [
        {
          "output_type": "stream",
          "name": "stdout",
          "text": [
            "Regular Accuracy for CNN_32 balanced logistic regression : 0.61\n",
            "Top-5 Accuracy for CNN_32 balanced logistic regression: 0.68\n"
          ]
        }
      ]
    },
    {
      "cell_type": "code",
      "source": [
        "import numpy as np\n",
        "import joblib\n",
        "from sklearn.metrics import top_k_accuracy_score\n",
        "from sklearn.metrics import accuracy_score\n",
        "# Load the trained Balanced Linear Regression model\n",
        "linear_regression_model = joblib.load('/content/PRML_Project/Saved models/CNN/Logistic_Regression/balanced_logistic_regression_128_features.pkl')\n",
        "\n",
        "# Assuming 'transformed_data_128' is your feature data and 'y' are your labels\n",
        "decision_scores = linear_regression_model.decision_function(transformed_data_128)\n",
        "sklearn_top5_accuracy = top_k_accuracy_score(y, decision_scores, k=5)\n",
        "\n",
        "\n",
        "# Regular accuracy\n",
        "predictions = linear_regression_model.predict(transformed_data_128)\n",
        "accuracy = accuracy_score(y, predictions)\n",
        "print(f\"Regular Accuracy for CNN_128 balanced logistic regression : {accuracy:.2f}\")\n",
        "print(\"Top-5 Accuracy for CNN_128 balanced logistic regression: {:.2f}\".format(sklearn_top5_accuracy))"
      ],
      "metadata": {
        "colab": {
          "base_uri": "https://localhost:8080/"
        },
        "id": "1VKtRSsR5cgU",
        "outputId": "5d1eae69-1e4a-4d79-cb09-3a9d446b8a69"
      },
      "execution_count": null,
      "outputs": [
        {
          "output_type": "stream",
          "name": "stdout",
          "text": [
            "Regular Accuracy for CNN_128 balanced logistic regression : 0.65\n",
            "Top-5 Accuracy for CNN_128 balanced logistic regression: 0.72\n"
          ]
        }
      ]
    },
    {
      "cell_type": "code",
      "source": [
        "import numpy as np\n",
        "import joblib\n",
        "from sklearn.metrics import top_k_accuracy_score\n",
        "\n",
        "# Load the trained LinearSVC model\n",
        "linear_svm_model = joblib.load('/content/PRML_Project/Saved models/CNN/SVM_linear_kernel/linear_svc_32_features.pkl')\n",
        "\n",
        "# Assuming 'transformed_data_32' is your feature data and 'y' are your labels\n",
        "decision_scores = linear_svm_model.decision_function(transformed_data_32)\n",
        "sklearn_top5_accuracy = top_k_accuracy_score(y, decision_scores, k=5)\n",
        "\n",
        "\n",
        "# Regular accuracy\n",
        "predictions = linear_svm_model.predict(transformed_data_32)\n",
        "accuracy = accuracy_score(y, predictions)\n",
        "print(f\"Regular Accuracy for CNN_32 LinearSVC : {accuracy:.2f}\")\n",
        "print(\"Top-5 Accuracy for CNN_32 LinearSVC : {:.2f}\".format(sklearn_top5_accuracy))"
      ],
      "metadata": {
        "colab": {
          "base_uri": "https://localhost:8080/"
        },
        "id": "gag8EhUR5vEp",
        "outputId": "0b933841-147f-4ab4-c098-2b7c13e057ec"
      },
      "execution_count": null,
      "outputs": [
        {
          "output_type": "stream",
          "name": "stdout",
          "text": [
            "Regular Accuracy for CNN_32 LinearSVC : 0.67\n",
            "Top-5 Accuracy for CNN_32 LinearSVC : 0.82\n"
          ]
        }
      ]
    },
    {
      "cell_type": "code",
      "source": [
        "import numpy as np\n",
        "import joblib\n",
        "from sklearn.metrics import top_k_accuracy_score\n",
        "\n",
        "# Load the trained LinearSVC model\n",
        "linear_svm_model = joblib.load('/content/PRML_Project/Saved models/CNN/SVM_linear_kernel/linear_svc_64_features.pkl')\n",
        "\n",
        "# Assuming 'transformed_data_64' is your feature data and 'y' are your labels\n",
        "decision_scores = linear_svm_model.decision_function(transformed_data_64)\n",
        "sklearn_top5_accuracy = top_k_accuracy_score(y, decision_scores, k=5)\n",
        "\n",
        "\n",
        "# Regular accuracy\n",
        "predictions = linear_svm_model.predict(transformed_data_64)\n",
        "accuracy = accuracy_score(y, predictions)\n",
        "print(f\"Regular Accuracy for CNN_64 LinearSVC : {accuracy:.2f}\")\n",
        "print(\"Top-5 Accuracy for CNN_64 LinearSVC : {:.2f}\".format(sklearn_top5_accuracy))"
      ],
      "metadata": {
        "colab": {
          "base_uri": "https://localhost:8080/"
        },
        "id": "V6qO3sQ06jad",
        "outputId": "7e7c87e8-71e9-4502-8330-d97f79e0ebba"
      },
      "execution_count": null,
      "outputs": [
        {
          "output_type": "stream",
          "name": "stdout",
          "text": [
            "Regular Accuracy for CNN_64 LinearSVC : 0.87\n",
            "Top-5 Accuracy for CNN_64 LinearSVC : 0.94\n"
          ]
        }
      ]
    },
    {
      "cell_type": "code",
      "source": [
        "import numpy as np\n",
        "import joblib\n",
        "from sklearn.metrics import top_k_accuracy_score\n",
        "\n",
        "# Load the trained LinearSVC model\n",
        "linear_svm_model = joblib.load('/content/PRML_Project/Saved models/CNN/SVM_linear_kernel/linear_svc_128_features.pkl')\n",
        "\n",
        "# Assuming 'transformed_data_128' is your feature data and 'y' are your labels\n",
        "decision_scores = linear_svm_model.decision_function(transformed_data_128)\n",
        "sklearn_top5_accuracy = top_k_accuracy_score(y, decision_scores, k=5)\n",
        "\n",
        "\n",
        "# Regular accuracy\n",
        "predictions = linear_svm_model.predict(transformed_data_128)\n",
        "accuracy = accuracy_score(y, predictions)\n",
        "print(f\"Regular Accuracy for CNN_128 LinearSVC : {accuracy:.2f}\")\n",
        "print(\"Top-5 Accuracy for CNN_128 LinearSVC : {:.2f}\".format(sklearn_top5_accuracy))"
      ],
      "metadata": {
        "colab": {
          "base_uri": "https://localhost:8080/"
        },
        "id": "WEnVf47663td",
        "outputId": "0bbd6639-55cd-44fc-e964-29601ce1b1bf"
      },
      "execution_count": null,
      "outputs": [
        {
          "output_type": "stream",
          "name": "stdout",
          "text": [
            "Regular Accuracy for CNN_128 LinearSVC : 0.91\n",
            "Top-5 Accuracy for CNN_128 LinearSVC : 0.96\n"
          ]
        }
      ]
    },
    {
      "cell_type": "code",
      "source": [
        "import numpy as np\n",
        "import joblib\n",
        "from sklearn.metrics import top_k_accuracy_score, accuracy_score\n",
        "\n",
        "# Load the trained RandomForest model\n",
        "rf_model = joblib.load('/content/random_forest_model_32_features.pkl')\n",
        "\n",
        "# Assuming 'transformed_data_32' is your feature data and 'y' are your true labels\n",
        "# Predict class labels for calculating regular accuracy\n",
        "predictions = rf_model.predict(transformed_data_32)\n",
        "regular_accuracy = accuracy_score(y, predictions)\n",
        "print(f\"Regular Accuracy for CNN_32 Random_Forest: {regular_accuracy:.2f}\")\n",
        "\n",
        "# Predict class probabilities for calculating top-5 accuracy\n",
        "probabilities = rf_model.predict_proba(transformed_data_32)\n",
        "top_k_accuracy = top_k_accuracy_score(y, probabilities, k=5)\n",
        "print(f\"Top-5 Accuracy for CNN_32 Random_Forest: {top_k_accuracy:.2f}\")\n"
      ],
      "metadata": {
        "colab": {
          "base_uri": "https://localhost:8080/"
        },
        "id": "OIfEPhW_7RVW",
        "outputId": "87b80972-6d13-416b-b7bf-f47204c29722"
      },
      "execution_count": 9,
      "outputs": [
        {
          "output_type": "stream",
          "name": "stdout",
          "text": [
            "Regular Accuracy for CNN_32 Random_Forest: 0.63\n",
            "Top-5 Accuracy for CNN_32 Random_Forest: 0.76\n"
          ]
        }
      ]
    },
    {
      "cell_type": "code",
      "source": [
        "import numpy as np\n",
        "import joblib\n",
        "from sklearn.metrics import top_k_accuracy_score, accuracy_score\n",
        "\n",
        "# Load the trained RandomForest model\n",
        "rf_model = joblib.load('/content/random_forest_model_64_features.pkl')\n",
        "\n",
        "# Assuming 'transformed_data_64' is your feature data and 'y' are your true labels\n",
        "# Predict class labels for calculating regular accuracy\n",
        "predictions = rf_model.predict(transformed_data_64)\n",
        "regular_accuracy = accuracy_score(y, predictions)\n",
        "print(f\"Regular Accuracy for CNN_64 Random_Forest: {regular_accuracy:.2f}\")\n",
        "\n",
        "# Predict class probabilities for calculating top-5 accuracy\n",
        "probabilities = rf_model.predict_proba(transformed_data_64)\n",
        "top_k_accuracy = top_k_accuracy_score(y, probabilities, k=5)\n",
        "print(f\"Top-5 Accuracy for CNN_64 Random_Forest: {top_k_accuracy:.2f}\")\n"
      ],
      "metadata": {
        "colab": {
          "base_uri": "https://localhost:8080/"
        },
        "id": "YdDBPO-UwbSU",
        "outputId": "f92f08c9-35ce-4407-d36c-00943120661e"
      },
      "execution_count": 10,
      "outputs": [
        {
          "output_type": "stream",
          "name": "stdout",
          "text": [
            "Regular Accuracy for CNN_64 Random_Forest: 0.55\n",
            "Top-5 Accuracy for CNN_64 Random_Forest: 0.68\n"
          ]
        }
      ]
    },
    {
      "cell_type": "code",
      "source": [
        "import numpy as np\n",
        "import joblib\n",
        "from sklearn.metrics import top_k_accuracy_score, accuracy_score\n",
        "\n",
        "# Load the trained RandomForest model\n",
        "rf_model = joblib.load('/content/random_forest_model_128_features.pkl')\n",
        "\n",
        "# Assuming 'transformed_data_128' is your feature data and 'y' are your true labels\n",
        "# Predict class labels for calculating regular accuracy\n",
        "predictions = rf_model.predict(transformed_data_128)\n",
        "regular_accuracy = accuracy_score(y, predictions)\n",
        "print(f\"Regular Accuracy for CNN_128 Random_Forest: {regular_accuracy:.2f}\")\n",
        "\n",
        "# Predict class probabilities for calculating top-5 accuracy\n",
        "probabilities = rf_model.predict_proba(transformed_data_128)\n",
        "top_k_accuracy = top_k_accuracy_score(y, probabilities, k=5)\n",
        "print(f\"Top-5 Accuracy for CNN_128 Random_Forest: {top_k_accuracy:.2f}\")\n"
      ],
      "metadata": {
        "colab": {
          "base_uri": "https://localhost:8080/"
        },
        "id": "7v1x2DpSwo2p",
        "outputId": "a43f3710-3d47-473e-a098-c66ad5975f12"
      },
      "execution_count": 11,
      "outputs": [
        {
          "output_type": "stream",
          "name": "stdout",
          "text": [
            "Regular Accuracy for CNN_128 Random_Forest: 0.36\n",
            "Top-5 Accuracy for CNN_128 Random_Forest: 0.51\n"
          ]
        }
      ]
    },
    {
      "cell_type": "code",
      "source": [
        "import numpy as np\n",
        "import joblib\n",
        "from sklearn.metrics import top_k_accuracy_score, accuracy_score\n",
        "from sklearn.preprocessing import LabelEncoder\n",
        "# Load the trained RandomForest model\n",
        "xgb_model = joblib.load('/content/xgb_model_32_features.pkl')\n",
        "label_encoder = LabelEncoder()\n",
        "y_encoded = label_encoder.fit_transform(y)\n",
        "# Assuming 'transformed_data_32' is your feature data and 'y' are your true labels\n",
        "# Predict class labels for calculating regular accuracy\n",
        "predictions = xgb_model.predict(transformed_data_32)\n",
        "regular_accuracy = accuracy_score(y_encoded, predictions)\n",
        "print(f\"Regular Accuracy for CNN_32 XGB: {regular_accuracy:.2f}\")\n",
        "\n",
        "# Predict class probabilities for calculating top-5 accuracy\n",
        "probabilities = xgb_model.predict_proba(transformed_data_32)\n",
        "top_k_accuracy = top_k_accuracy_score(y_encoded, probabilities, k=5)\n",
        "print(f\"Top-5 Accuracy for CNN_32 XGB: {top_k_accuracy:.2f}\")\n"
      ],
      "metadata": {
        "colab": {
          "base_uri": "https://localhost:8080/"
        },
        "id": "f4kUYXUexSmJ",
        "outputId": "b8d0e8f7-a3b3-439b-dda3-c51f7ed4cfcd"
      },
      "execution_count": 15,
      "outputs": [
        {
          "output_type": "stream",
          "name": "stdout",
          "text": [
            "Regular Accuracy for CNN_32 XGB: 0.21\n",
            "Top-5 Accuracy for CNN_32 XGB: 0.25\n"
          ]
        }
      ]
    },
    {
      "cell_type": "code",
      "source": [
        "import numpy as np\n",
        "import joblib\n",
        "from sklearn.metrics import top_k_accuracy_score, accuracy_score\n",
        "from sklearn.preprocessing import LabelEncoder\n",
        "# Load the trained RandomForest model\n",
        "xgb_model = joblib.load('/content/xgb_model_64_features.pkl')\n",
        "label_encoder = LabelEncoder()\n",
        "y_encoded = label_encoder.fit_transform(y)\n",
        "# Assuming 'transformed_data_64' is your feature data and 'y' are your true labels\n",
        "# Predict class labels for calculating regular accuracy\n",
        "predictions = xgb_model.predict(transformed_data_64)\n",
        "regular_accuracy = accuracy_score(y_encoded, predictions)\n",
        "print(f\"Regular Accuracy for CNN_64 XGB: {regular_accuracy:.2f}\")\n",
        "\n",
        "# Predict class probabilities for calculating top-5 accuracy\n",
        "probabilities = xgb_model.predict_proba(transformed_data_64)\n",
        "top_k_accuracy = top_k_accuracy_score(y_encoded, probabilities, k=5)\n",
        "print(f\"Top-5 Accuracy for CNN_64 XGB: {top_k_accuracy:.2f}\")\n"
      ],
      "metadata": {
        "colab": {
          "base_uri": "https://localhost:8080/"
        },
        "id": "qkDTHsaBySCM",
        "outputId": "9c99782a-3b2f-44d7-a587-09478f477720"
      },
      "execution_count": 16,
      "outputs": [
        {
          "output_type": "stream",
          "name": "stdout",
          "text": [
            "Regular Accuracy for CNN_64 XGB: 0.22\n",
            "Top-5 Accuracy for CNN_64 XGB: 0.26\n"
          ]
        }
      ]
    },
    {
      "cell_type": "code",
      "source": [
        "import numpy as np\n",
        "import joblib\n",
        "from sklearn.metrics import top_k_accuracy_score, accuracy_score\n",
        "from sklearn.preprocessing import LabelEncoder\n",
        "# Load the trained RandomForest model\n",
        "xgb_model = joblib.load('/content/xgb_model_128_features.pkl')\n",
        "label_encoder = LabelEncoder()\n",
        "y_encoded = label_encoder.fit_transform(y)\n",
        "# Assuming 'transformed_data_128' is your feature data and 'y' are your true labels\n",
        "# Predict class labels for calculating regular accuracy\n",
        "predictions = xgb_model.predict(transformed_data_128)\n",
        "regular_accuracy = accuracy_score(y_encoded, predictions)\n",
        "print(f\"Regular Accuracy for CNN_128 XGB: {regular_accuracy:.2f}\")\n",
        "\n",
        "# Predict class probabilities for calculating top-5 accuracy\n",
        "probabilities = xgb_model.predict_proba(transformed_data_128)\n",
        "top_k_accuracy = top_k_accuracy_score(y_encoded, probabilities, k=5)\n",
        "print(f\"Top-5 Accuracy for CNN_128 XGB: {top_k_accuracy:.2f}\")\n"
      ],
      "metadata": {
        "colab": {
          "base_uri": "https://localhost:8080/"
        },
        "id": "Y1Fnu3pXybYC",
        "outputId": "1f85941a-47a3-4b2e-c1a3-13eb034ecb20"
      },
      "execution_count": 17,
      "outputs": [
        {
          "output_type": "stream",
          "name": "stdout",
          "text": [
            "Regular Accuracy for CNN_128 XGB: 0.14\n",
            "Top-5 Accuracy for CNN_128 XGB: 0.25\n"
          ]
        }
      ]
    },
    {
      "cell_type": "code",
      "source": [
        "import numpy as np\n",
        "import joblib\n",
        "from sklearn.metrics import top_k_accuracy_score, accuracy_score\n",
        "\n",
        "# Load the trained RandomForest model\n",
        "knn_model = joblib.load('/content/PRML_Project/Saved models/CNN/KNN/knn_model_32_features.pkl')\n",
        "\n",
        "# Assuming 'transformed_data_32' is your feature data and 'y' are your true labels\n",
        "# Predict class labels for calculating regular accuracy\n",
        "predictions = knn_model.predict(transformed_data_32)\n",
        "regular_accuracy = accuracy_score(y, predictions)\n",
        "print(f\"Regular Accuracy for CNN_32 KNN: {regular_accuracy:.2f}\")\n",
        "\n",
        "# Predict class probabilities for calculating top-5 accuracy\n",
        "probabilities = knn_model.predict_proba(transformed_data_32)\n",
        "top_k_accuracy = top_k_accuracy_score(y, probabilities, k=5)\n",
        "print(f\"Top-5 Accuracy for CNN_32 KNN: {top_k_accuracy:.2f}\")\n"
      ],
      "metadata": {
        "colab": {
          "base_uri": "https://localhost:8080/"
        },
        "id": "wczQtSTWyxAX",
        "outputId": "3499bfc2-d666-4b83-a9c6-ace5d8b383a2"
      },
      "execution_count": 11,
      "outputs": [
        {
          "output_type": "stream",
          "name": "stderr",
          "text": [
            "/usr/local/lib/python3.10/dist-packages/sklearn/base.py:318: UserWarning: Trying to unpickle estimator KNeighborsClassifier from version 1.3.0 when using version 1.2.2. This might lead to breaking code or invalid results. Use at your own risk. For more info please refer to:\n",
            "https://scikit-learn.org/stable/model_persistence.html#security-maintainability-limitations\n",
            "  warnings.warn(\n"
          ]
        },
        {
          "output_type": "stream",
          "name": "stdout",
          "text": [
            "Regular Accuracy for CNN_32 KNN: 0.29\n",
            "Top-5 Accuracy for CNN_32 KNN: 1.00\n"
          ]
        }
      ]
    },
    {
      "cell_type": "code",
      "source": [
        "import numpy as np\n",
        "import joblib\n",
        "from sklearn.metrics import top_k_accuracy_score, accuracy_score\n",
        "\n",
        "# Load the trained RandomForest model\n",
        "knn_model = joblib.load('/content/PRML_Project/Saved models/CNN/KNN/knn_model_64_features.pkl')\n",
        "\n",
        "# Assuming 'transformed_data_64' is your feature data and 'y' are your true labels\n",
        "# Predict class labels for calculating regular accuracy\n",
        "predictions = knn_model.predict(transformed_data_64)\n",
        "regular_accuracy = accuracy_score(y, predictions)\n",
        "print(f\"Regular Accuracy for CNN_64 KNN: {regular_accuracy:.2f}\")\n",
        "\n",
        "# Predict class probabilities for calculating top-5 accuracy\n",
        "probabilities = knn_model.predict_proba(transformed_data_64)\n",
        "top_k_accuracy = top_k_accuracy_score(y, probabilities, k=5)\n",
        "print(f\"Top-5 Accuracy for CNN_64 KNN: {top_k_accuracy:.2f}\")\n"
      ],
      "metadata": {
        "colab": {
          "base_uri": "https://localhost:8080/"
        },
        "id": "q9H4r_mWzVrw",
        "outputId": "95073527-b76f-4c5c-f6b2-3156065644c8"
      },
      "execution_count": 12,
      "outputs": [
        {
          "output_type": "stream",
          "name": "stderr",
          "text": [
            "/usr/local/lib/python3.10/dist-packages/sklearn/base.py:318: UserWarning: Trying to unpickle estimator KNeighborsClassifier from version 1.3.0 when using version 1.2.2. This might lead to breaking code or invalid results. Use at your own risk. For more info please refer to:\n",
            "https://scikit-learn.org/stable/model_persistence.html#security-maintainability-limitations\n",
            "  warnings.warn(\n"
          ]
        },
        {
          "output_type": "stream",
          "name": "stdout",
          "text": [
            "Regular Accuracy for CNN_64 KNN: 0.31\n",
            "Top-5 Accuracy for CNN_64 KNN: 1.00\n"
          ]
        }
      ]
    },
    {
      "cell_type": "code",
      "source": [
        "import numpy as np\n",
        "import joblib\n",
        "from sklearn.metrics import top_k_accuracy_score, accuracy_score\n",
        "\n",
        "# Load the trained RandomForest model\n",
        "knn_model = joblib.load('/content/PRML_Project/Saved models/CNN/KNN/knn_model_128_features.pkl')\n",
        "\n",
        "# Assuming 'transformed_data_128' is your feature data and 'y' are your true labels\n",
        "# Predict class labels for calculating regular accuracy\n",
        "predictions = knn_model.predict(transformed_data_128)\n",
        "regular_accuracy = accuracy_score(y, predictions)\n",
        "print(f\"Regular Accuracy for CNN_128 KNN: {regular_accuracy:.2f}\")\n",
        "\n",
        "# Predict class probabilities for calculating top-5 accuracy\n",
        "probabilities = knn_model.predict_proba(transformed_data_128)\n",
        "top_k_accuracy = top_k_accuracy_score(y, probabilities, k=5)\n",
        "print(f\"Top-5 Accuracy for CNN_128 KNN: {top_k_accuracy:.2f}\")\n"
      ],
      "metadata": {
        "colab": {
          "base_uri": "https://localhost:8080/"
        },
        "id": "iN2Re8ewzj9Q",
        "outputId": "4afa7a5e-8935-44d3-e772-b87489825dbe"
      },
      "execution_count": 13,
      "outputs": [
        {
          "output_type": "stream",
          "name": "stderr",
          "text": [
            "/usr/local/lib/python3.10/dist-packages/sklearn/base.py:318: UserWarning: Trying to unpickle estimator KNeighborsClassifier from version 1.3.0 when using version 1.2.2. This might lead to breaking code or invalid results. Use at your own risk. For more info please refer to:\n",
            "https://scikit-learn.org/stable/model_persistence.html#security-maintainability-limitations\n",
            "  warnings.warn(\n"
          ]
        },
        {
          "output_type": "stream",
          "name": "stdout",
          "text": [
            "Regular Accuracy for CNN_128 KNN: 0.32\n",
            "Top-5 Accuracy for CNN_128 KNN: 1.00\n"
          ]
        }
      ]
    },
    {
      "cell_type": "code",
      "source": [
        "import sklearn\n",
        "print(sklearn.__version__)\n"
      ],
      "metadata": {
        "colab": {
          "base_uri": "https://localhost:8080/"
        },
        "id": "k0nXk2PtngAI",
        "outputId": "578b4b99-d8e4-47fd-df71-7493ec652fc8"
      },
      "execution_count": 8,
      "outputs": [
        {
          "output_type": "stream",
          "name": "stdout",
          "text": [
            "1.4.2\n"
          ]
        }
      ]
    },
    {
      "cell_type": "code",
      "source": [
        "!pip install scikit-learn==1.3.0"
      ],
      "metadata": {
        "colab": {
          "base_uri": "https://localhost:8080/",
          "height": 340
        },
        "id": "oKpZd-Uku0D1",
        "outputId": "58dd6395-fdd7-4ebe-d340-aebc9a27d2b2"
      },
      "execution_count": 9,
      "outputs": [
        {
          "output_type": "stream",
          "name": "stdout",
          "text": [
            "Collecting scikit-learn==1.3.0\n",
            "  Downloading scikit_learn-1.3.0-cp310-cp310-manylinux_2_17_x86_64.manylinux2014_x86_64.whl (10.8 MB)\n",
            "\u001b[2K     \u001b[90m━━━━━━━━━━━━━━━━━━━━━━━━━━━━━━━━━━━━━━━━\u001b[0m \u001b[32m10.8/10.8 MB\u001b[0m \u001b[31m34.0 MB/s\u001b[0m eta \u001b[36m0:00:00\u001b[0m\n",
            "\u001b[?25hRequirement already satisfied: numpy>=1.17.3 in /usr/local/lib/python3.10/dist-packages (from scikit-learn==1.3.0) (1.25.2)\n",
            "Requirement already satisfied: scipy>=1.5.0 in /usr/local/lib/python3.10/dist-packages (from scikit-learn==1.3.0) (1.11.4)\n",
            "Requirement already satisfied: joblib>=1.1.1 in /usr/local/lib/python3.10/dist-packages (from scikit-learn==1.3.0) (1.4.0)\n",
            "Requirement already satisfied: threadpoolctl>=2.0.0 in /usr/local/lib/python3.10/dist-packages (from scikit-learn==1.3.0) (3.4.0)\n",
            "Installing collected packages: scikit-learn\n",
            "  Attempting uninstall: scikit-learn\n",
            "    Found existing installation: scikit-learn 1.4.2\n",
            "    Uninstalling scikit-learn-1.4.2:\n",
            "      Successfully uninstalled scikit-learn-1.4.2\n",
            "Successfully installed scikit-learn-1.3.0\n"
          ]
        },
        {
          "output_type": "display_data",
          "data": {
            "application/vnd.colab-display-data+json": {
              "pip_warning": {
                "packages": [
                  "sklearn"
                ]
              },
              "id": "8f12384f50704fc7acee5133102921f4"
            }
          },
          "metadata": {}
        }
      ]
    },
    {
      "cell_type": "code",
      "source": [
        "import numpy as np\n",
        "import matplotlib.pyplot as plt\n",
        "import seaborn as sns\n",
        "from sklearn.metrics import confusion_matrix, precision_recall_fscore_support, accuracy_score, top_k_accuracy_score\n",
        "import joblib\n",
        "\n",
        "# Load model and data\n",
        "linear_svm_model = joblib.load('/content/PRML_Project/Saved models/CNN/SVM_linear_kernel/linear_svc_128_features.pkl')\n",
        "# Make predictions\n",
        "predictions = linear_svm_model.predict(transformed_data_128)\n",
        "decision_scores = linear_svm_model.decision_function(transformed_data_128)\n",
        "\n",
        "# Metrics\n",
        "sklearn_top5_accuracy = top_k_accuracy_score(y, decision_scores, k=5)\n",
        "accuracy = accuracy_score(y, predictions)\n",
        "precision, recall, f1, _ = precision_recall_fscore_support(y, predictions, average='macro')\n",
        "conf_matrix = confusion_matrix(y, predictions)\n",
        "\n",
        "# Output results\n",
        "print(f\"Precision: {precision:.2f}\")\n",
        "print(f\"Recall: {recall:.2f}\")\n",
        "print(f\"F1 Score: {f1:.2f}\")\n",
        "\n"
      ],
      "metadata": {
        "colab": {
          "base_uri": "https://localhost:8080/"
        },
        "id": "pI40RQACPwzR",
        "outputId": "7b632a70-3e44-43ef-b566-1308e6b0b030"
      },
      "execution_count": 12,
      "outputs": [
        {
          "output_type": "stream",
          "name": "stdout",
          "text": [
            "Precision: 0.96\n",
            "Recall: 0.98\n",
            "F1 Score: 0.97\n"
          ]
        }
      ]
    }
  ]
}