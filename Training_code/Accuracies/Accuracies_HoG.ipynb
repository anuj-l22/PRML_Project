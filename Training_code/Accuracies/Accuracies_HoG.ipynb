{
  "nbformat": 4,
  "nbformat_minor": 0,
  "metadata": {
    "colab": {
      "provenance": [],
      "gpuType": "T4"
    },
    "kernelspec": {
      "name": "python3",
      "display_name": "Python 3"
    },
    "language_info": {
      "name": "python"
    },
    "accelerator": "GPU"
  },
  "cells": [
    {
      "cell_type": "code",
      "source": [
        "!pip install scikit-learn==1.3.0"
      ],
      "metadata": {
        "colab": {
          "base_uri": "https://localhost:8080/"
        },
        "id": "Y7kh04OiCaDR",
        "outputId": "2e73e60a-6903-44b6-9a65-e2f682cde641"
      },
      "execution_count": 1,
      "outputs": [
        {
          "output_type": "stream",
          "name": "stdout",
          "text": [
            "Collecting scikit-learn==1.3.0\n",
            "  Downloading scikit_learn-1.3.0-cp310-cp310-manylinux_2_17_x86_64.manylinux2014_x86_64.whl (10.8 MB)\n",
            "\u001b[2K     \u001b[90m━━━━━━━━━━━━━━━━━━━━━━━━━━━━━━━━━━━━━━━━\u001b[0m \u001b[32m10.8/10.8 MB\u001b[0m \u001b[31m24.7 MB/s\u001b[0m eta \u001b[36m0:00:00\u001b[0m\n",
            "\u001b[?25hRequirement already satisfied: numpy>=1.17.3 in /usr/local/lib/python3.10/dist-packages (from scikit-learn==1.3.0) (1.25.2)\n",
            "Requirement already satisfied: scipy>=1.5.0 in /usr/local/lib/python3.10/dist-packages (from scikit-learn==1.3.0) (1.11.4)\n",
            "Requirement already satisfied: joblib>=1.1.1 in /usr/local/lib/python3.10/dist-packages (from scikit-learn==1.3.0) (1.4.0)\n",
            "Requirement already satisfied: threadpoolctl>=2.0.0 in /usr/local/lib/python3.10/dist-packages (from scikit-learn==1.3.0) (3.4.0)\n",
            "Installing collected packages: scikit-learn\n",
            "  Attempting uninstall: scikit-learn\n",
            "    Found existing installation: scikit-learn 1.2.2\n",
            "    Uninstalling scikit-learn-1.2.2:\n",
            "      Successfully uninstalled scikit-learn-1.2.2\n",
            "Successfully installed scikit-learn-1.3.0\n"
          ]
        }
      ]
    },
    {
      "cell_type": "code",
      "source": [
        "!git clone https://github.com/anuj-l22/PRML_Project.git"
      ],
      "metadata": {
        "colab": {
          "base_uri": "https://localhost:8080/"
        },
        "id": "TDgPclP61A5K",
        "outputId": "69916a57-68c4-481d-9a06-29a0a21398e9"
      },
      "execution_count": 2,
      "outputs": [
        {
          "output_type": "stream",
          "name": "stdout",
          "text": [
            "Cloning into 'PRML_Project'...\n",
            "remote: Enumerating objects: 400, done.\u001b[K\n",
            "remote: Counting objects: 100% (285/285), done.\u001b[K\n",
            "remote: Compressing objects: 100% (143/143), done.\u001b[K\n",
            "remote: Total 400 (delta 137), reused 274 (delta 131), pack-reused 115\u001b[K\n",
            "Receiving objects: 100% (400/400), 99.78 MiB | 23.29 MiB/s, done.\n",
            "Resolving deltas: 100% (155/155), done.\n",
            "Updating files: 100% (58/58), done.\n"
          ]
        }
      ]
    },
    {
      "cell_type": "code",
      "source": [
        "!pip install gdown"
      ],
      "metadata": {
        "id": "27SZ7tuE_Eaj",
        "outputId": "25791829-0d1d-4f78-f608-63ef94747865",
        "colab": {
          "base_uri": "https://localhost:8080/"
        }
      },
      "execution_count": 3,
      "outputs": [
        {
          "output_type": "stream",
          "name": "stdout",
          "text": [
            "Requirement already satisfied: gdown in /usr/local/lib/python3.10/dist-packages (4.7.3)\n",
            "Requirement already satisfied: filelock in /usr/local/lib/python3.10/dist-packages (from gdown) (3.13.4)\n",
            "Requirement already satisfied: requests[socks] in /usr/local/lib/python3.10/dist-packages (from gdown) (2.31.0)\n",
            "Requirement already satisfied: six in /usr/local/lib/python3.10/dist-packages (from gdown) (1.16.0)\n",
            "Requirement already satisfied: tqdm in /usr/local/lib/python3.10/dist-packages (from gdown) (4.66.2)\n",
            "Requirement already satisfied: beautifulsoup4 in /usr/local/lib/python3.10/dist-packages (from gdown) (4.12.3)\n",
            "Requirement already satisfied: soupsieve>1.2 in /usr/local/lib/python3.10/dist-packages (from beautifulsoup4->gdown) (2.5)\n",
            "Requirement already satisfied: charset-normalizer<4,>=2 in /usr/local/lib/python3.10/dist-packages (from requests[socks]->gdown) (3.3.2)\n",
            "Requirement already satisfied: idna<4,>=2.5 in /usr/local/lib/python3.10/dist-packages (from requests[socks]->gdown) (3.7)\n",
            "Requirement already satisfied: urllib3<3,>=1.21.1 in /usr/local/lib/python3.10/dist-packages (from requests[socks]->gdown) (2.0.7)\n",
            "Requirement already satisfied: certifi>=2017.4.17 in /usr/local/lib/python3.10/dist-packages (from requests[socks]->gdown) (2024.2.2)\n",
            "Requirement already satisfied: PySocks!=1.5.7,>=1.5.6 in /usr/local/lib/python3.10/dist-packages (from requests[socks]->gdown) (1.7.1)\n"
          ]
        }
      ]
    },
    {
      "cell_type": "code",
      "source": [
        "!gdown 1PsWWglrrOa8Zu5htGoJyRUZflsCXnq9R\n",
        "!gdown 1ZfKyPX4NcB9welVMK-H2MKx6Efeynag4\n",
        "!gdown 1xktguqwSC-OUHVl5F02oPlfNvfwO11n_\n",
        "!gdown 1qJr1m3VDulLd3elkrR2mJFHE6WxUDWqH\n",
        "!gdown 1YkdvSj4SkbW-i7_CNaMWi2QtoXW1OCUE\n",
        "!gdown 1f98UazgSjiQPIZllfEd1bgS1zw8W-keX"
      ],
      "metadata": {
        "id": "PJaeQqOi_bmf",
        "colab": {
          "base_uri": "https://localhost:8080/"
        },
        "outputId": "d2df06e9-ae05-4d0b-cdf0-f73ca84743de"
      },
      "execution_count": 4,
      "outputs": [
        {
          "output_type": "stream",
          "name": "stdout",
          "text": [
            "Downloading...\n",
            "From (original): https://drive.google.com/uc?id=1PsWWglrrOa8Zu5htGoJyRUZflsCXnq9R\n",
            "From (redirected): https://drive.google.com/uc?id=1PsWWglrrOa8Zu5htGoJyRUZflsCXnq9R&confirm=t&uuid=34ff93d1-3250-4591-a77b-090f925905d5\n",
            "To: /content/HoG_random_forest_model_32_features.pkl\n",
            "100% 826M/826M [00:05<00:00, 156MB/s]\n",
            "Downloading...\n",
            "From (original): https://drive.google.com/uc?id=1ZfKyPX4NcB9welVMK-H2MKx6Efeynag4\n",
            "From (redirected): https://drive.google.com/uc?id=1ZfKyPX4NcB9welVMK-H2MKx6Efeynag4&confirm=t&uuid=bc61e605-48fa-4e38-b193-bb63eec48fbc\n",
            "To: /content/HoG_random_forest_model_64_features.pkl\n",
            "100% 718M/718M [00:07<00:00, 93.4MB/s]\n",
            "Downloading...\n",
            "From (original): https://drive.google.com/uc?id=1xktguqwSC-OUHVl5F02oPlfNvfwO11n_\n",
            "From (redirected): https://drive.google.com/uc?id=1xktguqwSC-OUHVl5F02oPlfNvfwO11n_&confirm=t&uuid=b597f2f3-a881-4697-94ce-58a06e7b072d\n",
            "To: /content/HoG_random_forest_model_128_features.pkl\n",
            "100% 613M/613M [00:04<00:00, 145MB/s]\n",
            "Downloading...\n",
            "From: https://drive.google.com/uc?id=1qJr1m3VDulLd3elkrR2mJFHE6WxUDWqH\n",
            "To: /content/HoG_xgb_model_32_features.pkl\n",
            "100% 81.9M/81.9M [00:00<00:00, 132MB/s]\n",
            "Downloading...\n",
            "From: https://drive.google.com/uc?id=1YkdvSj4SkbW-i7_CNaMWi2QtoXW1OCUE\n",
            "To: /content/HoG_xgb_model_64_features.pkl\n",
            "100% 82.2M/82.2M [00:00<00:00, 166MB/s]\n",
            "Downloading...\n",
            "From: https://drive.google.com/uc?id=1f98UazgSjiQPIZllfEd1bgS1zw8W-keX\n",
            "To: /content/HoG_xgb_model_128_features.pkl\n",
            "100% 82.3M/82.3M [00:00<00:00, 122MB/s]\n"
          ]
        }
      ]
    },
    {
      "cell_type": "code",
      "execution_count": 4,
      "metadata": {
        "id": "hB-mNzKMx3CZ"
      },
      "outputs": [],
      "source": [
        "import torch"
      ]
    },
    {
      "cell_type": "code",
      "source": [
        "import numpy as np"
      ],
      "metadata": {
        "id": "tPKcWg3-yEeD"
      },
      "execution_count": 5,
      "outputs": []
    },
    {
      "cell_type": "code",
      "source": [
        "# Load the PCA model\n",
        "import joblib\n",
        "\n",
        "# Load the transformed data\n",
        "transformed_data_32 = joblib.load('/content/PRML_Project/Saved models/HoG/Data_n_labels/HoG_transformed_data_32.joblib')\n",
        "transformed_data_64 = joblib.load('/content/PRML_Project/Saved models/HoG/Data_n_labels/HoG_transformed_data_64.joblib')\n",
        "transformed_data_128 = joblib.load('/content/PRML_Project/Saved models/HoG/Data_n_labels/HoG_transformed_data_128.joblib')\n",
        "\n",
        "# Now, transformed_data_32, transformed_data_64, and transformed_data_128 can be used as needed\n",
        "y = joblib.load('/content/PRML_Project/Saved models/HoG/Data_n_labels/labels.joblib')"
      ],
      "metadata": {
        "id": "dLPdwgQhLWBH"
      },
      "execution_count": 6,
      "outputs": []
    },
    {
      "cell_type": "code",
      "source": [
        "import warnings\n",
        "warnings.filterwarnings('ignore')"
      ],
      "metadata": {
        "id": "apwJrFiB2Xxv"
      },
      "execution_count": 7,
      "outputs": []
    },
    {
      "cell_type": "code",
      "source": [
        "import numpy as np\n",
        "import joblib\n",
        "from sklearn.metrics import top_k_accuracy_score\n",
        "from sklearn.metrics import accuracy_score\n",
        "# Load the trained Linear Regression model\n",
        "linear_regression_model = joblib.load('/content/PRML_Project/Saved models/HoG/Logistic_Regression/HoG_logistic_regression_32_features.pkl')\n",
        "\n",
        "# Assuming 'transformed_data_32' is your feature data and 'y' are your labels\n",
        "decision_scores = linear_regression_model.decision_function(transformed_data_32)\n",
        "sklearn_top5_accuracy = top_k_accuracy_score(y, decision_scores, k=5)\n",
        "\n",
        "\n",
        "# Regular accuracy\n",
        "predictions = linear_regression_model.predict(transformed_data_32)\n",
        "accuracy = accuracy_score(y, predictions)\n",
        "print(f\"Regular Accuracy for HoG_32 logistic regression : {accuracy:.2f}\")\n",
        "print(\"Top-5 Accuracy for HoG_32 logistic regression: {:.2f}\".format(sklearn_top5_accuracy))"
      ],
      "metadata": {
        "colab": {
          "base_uri": "https://localhost:8080/"
        },
        "id": "LuDJrY1L0vK5",
        "outputId": "718860ed-1a65-44fb-c07c-70fe696afcb0"
      },
      "execution_count": 10,
      "outputs": [
        {
          "output_type": "stream",
          "name": "stdout",
          "text": [
            "Regular Accuracy for HoG_32 logistic regression : 0.57\n",
            "Top-5 Accuracy for HoG_32 logistic regression: 0.76\n"
          ]
        }
      ]
    },
    {
      "cell_type": "code",
      "source": [
        "import numpy as np\n",
        "import joblib\n",
        "from sklearn.metrics import top_k_accuracy_score\n",
        "from sklearn.metrics import accuracy_score\n",
        "# Load the trained Linear Regression model\n",
        "linear_regression_model = joblib.load('/content/PRML_Project/Saved models/HoG/Logistic_Regression/HoG_logistic_regression_64_features.pkl')\n",
        "\n",
        "# Assuming 'transformed_data_64' is your feature data and 'y' are your labels\n",
        "decision_scores = linear_regression_model.decision_function(transformed_data_64)\n",
        "sklearn_top5_accuracy = top_k_accuracy_score(y, decision_scores, k=5)\n",
        "\n",
        "\n",
        "# Regular accuracy\n",
        "predictions = linear_regression_model.predict(transformed_data_64)\n",
        "accuracy = accuracy_score(y, predictions)\n",
        "print(f\"Regular Accuracy for HoG_64 logistic regression : {accuracy:.2f}\")\n",
        "print(\"Top-5 Accuracy for HoG_64 logistic regression: {:.2f}\".format(sklearn_top5_accuracy))"
      ],
      "metadata": {
        "colab": {
          "base_uri": "https://localhost:8080/"
        },
        "id": "cV-5m8Xh2oxQ",
        "outputId": "06397b19-582e-4e92-afdb-55bf623cfd7f"
      },
      "execution_count": 11,
      "outputs": [
        {
          "output_type": "stream",
          "name": "stdout",
          "text": [
            "Regular Accuracy for HoG_64 logistic regression : 0.83\n",
            "Top-5 Accuracy for HoG_64 logistic regression: 0.93\n"
          ]
        }
      ]
    },
    {
      "cell_type": "code",
      "source": [
        "import numpy as np\n",
        "import joblib\n",
        "from sklearn.metrics import top_k_accuracy_score\n",
        "from sklearn.metrics import accuracy_score\n",
        "# Load the trained Balanced Linear Regression model\n",
        "linear_regression_model = joblib.load('/content/PRML_Project/Saved models/HoG/Logistic_Regression/HoG_logistic_regression_128_features.pkl')\n",
        "\n",
        "# Assuming 'transformed_data_128' is your feature data and 'y' are your labels\n",
        "decision_scores = linear_regression_model.decision_function(transformed_data_128)\n",
        "sklearn_top5_accuracy = top_k_accuracy_score(y, decision_scores, k=5)\n",
        "\n",
        "\n",
        "# Regular accuracy\n",
        "predictions = linear_regression_model.predict(transformed_data_128)\n",
        "accuracy = accuracy_score(y, predictions)\n",
        "print(f\"Regular Accuracy for HoG_128 logistic regression : {accuracy:.2f}\")\n",
        "print(\"Top-5 Accuracy for HoG_128 logistic regression: {:.2f}\".format(sklearn_top5_accuracy))"
      ],
      "metadata": {
        "colab": {
          "base_uri": "https://localhost:8080/"
        },
        "id": "r4-ev_vX4F0C",
        "outputId": "d5c7d076-fc1f-459f-dd7e-8b66233a6aa6"
      },
      "execution_count": 12,
      "outputs": [
        {
          "output_type": "stream",
          "name": "stdout",
          "text": [
            "Regular Accuracy for HoG_128 logistic regression : 0.97\n",
            "Top-5 Accuracy for HoG_128 logistic regression: 0.99\n"
          ]
        }
      ]
    },
    {
      "cell_type": "code",
      "source": [
        "import numpy as np\n",
        "import joblib\n",
        "from sklearn.metrics import top_k_accuracy_score, accuracy_score\n",
        "\n",
        "# Load the trained RandomForest model\n",
        "rf_model = joblib.load('/content/HoG_random_forest_model_32_features.pkl')\n",
        "\n",
        "# Assuming 'transformed_data_32' is your feature data and 'y' are your true labels\n",
        "# Predict class labels for calculating regular accuracy\n",
        "predictions = rf_model.predict(transformed_data_32)\n",
        "regular_accuracy = accuracy_score(y, predictions)\n",
        "print(f\"Regular Accuracy for HoG_32 Random_Forest: {regular_accuracy:.2f}\")\n",
        "\n",
        "# Predict class probabilities for calculating top-5 accuracy\n",
        "probabilities = rf_model.predict_proba(transformed_data_32)\n",
        "top_k_accuracy = top_k_accuracy_score(y, probabilities, k=5)\n",
        "print(f\"Top-5 Accuracy for HoG_32 Random_Forest: {top_k_accuracy:.2f}\")\n"
      ],
      "metadata": {
        "colab": {
          "base_uri": "https://localhost:8080/"
        },
        "id": "OIfEPhW_7RVW",
        "outputId": "eaed20a8-70ed-4faf-d2a8-4314f75832a0"
      },
      "execution_count": 13,
      "outputs": [
        {
          "output_type": "stream",
          "name": "stdout",
          "text": [
            "Regular Accuracy for HoG_32 Random_Forest: 0.42\n",
            "Top-5 Accuracy for HoG_32 Random_Forest: 0.53\n"
          ]
        }
      ]
    },
    {
      "cell_type": "code",
      "source": [
        "import numpy as np\n",
        "import joblib\n",
        "from sklearn.metrics import top_k_accuracy_score, accuracy_score\n",
        "\n",
        "# Load the trained RandomForest model\n",
        "rf_model = joblib.load('/content/HoG_random_forest_model_64_features.pkl')\n",
        "\n",
        "# Assuming 'transformed_data_64' is your feature data and 'y' are your true labels\n",
        "# Predict class labels for calculating regular accuracy\n",
        "predictions = rf_model.predict(transformed_data_64)\n",
        "regular_accuracy = accuracy_score(y, predictions)\n",
        "print(f\"Regular Accuracy for HoG_64 Random_Forest: {regular_accuracy:.2f}\")\n",
        "\n",
        "# Predict class probabilities for calculating top-5 accuracy\n",
        "probabilities = rf_model.predict_proba(transformed_data_64)\n",
        "top_k_accuracy = top_k_accuracy_score(y, probabilities, k=5)\n",
        "print(f\"Top-5 Accuracy for HoG_64 Random_Forest: {top_k_accuracy:.2f}\")\n"
      ],
      "metadata": {
        "colab": {
          "base_uri": "https://localhost:8080/"
        },
        "id": "YdDBPO-UwbSU",
        "outputId": "c6562e90-d684-4a5b-b898-26edfcb1ca46"
      },
      "execution_count": 14,
      "outputs": [
        {
          "output_type": "stream",
          "name": "stdout",
          "text": [
            "Regular Accuracy for HoG_64 Random_Forest: 0.39\n",
            "Top-5 Accuracy for HoG_64 Random_Forest: 0.49\n"
          ]
        }
      ]
    },
    {
      "cell_type": "code",
      "source": [
        "import numpy as np\n",
        "import joblib\n",
        "from sklearn.metrics import top_k_accuracy_score, accuracy_score\n",
        "\n",
        "# Load the trained RandomForest model\n",
        "rf_model = joblib.load('/content/HoG_random_forest_model_128_features.pkl')\n",
        "\n",
        "# Assuming 'transformed_data_128' is your feature data and 'y' are your true labels\n",
        "# Predict class labels for calculating regular accuracy\n",
        "predictions = rf_model.predict(transformed_data_128)\n",
        "regular_accuracy = accuracy_score(y, predictions)\n",
        "print(f\"Regular Accuracy for HoG_128 Random_Forest: {regular_accuracy:.2f}\")\n",
        "\n",
        "# Predict class probabilities for calculating top-5 accuracy\n",
        "probabilities = rf_model.predict_proba(transformed_data_128)\n",
        "top_k_accuracy = top_k_accuracy_score(y, probabilities, k=5)\n",
        "print(f\"Top-5 Accuracy for HoG_128 Random_Forest: {top_k_accuracy:.2f}\")\n"
      ],
      "metadata": {
        "colab": {
          "base_uri": "https://localhost:8080/"
        },
        "id": "7v1x2DpSwo2p",
        "outputId": "f32e5795-769e-46c3-9745-4131d10896ac"
      },
      "execution_count": 15,
      "outputs": [
        {
          "output_type": "stream",
          "name": "stdout",
          "text": [
            "Regular Accuracy for HoG_128 Random_Forest: 0.37\n",
            "Top-5 Accuracy for HoG_128 Random_Forest: 0.46\n"
          ]
        }
      ]
    },
    {
      "cell_type": "code",
      "source": [
        "import numpy as np\n",
        "import joblib\n",
        "from sklearn.metrics import top_k_accuracy_score\n",
        "\n",
        "# Load the trained LinearSVC model\n",
        "linear_svm_model = joblib.load('/content/PRML_Project/Saved models/HoG/SVM_linear_kernel/HoG_linear_svc_32_features.pkl')\n",
        "\n",
        "# Assuming 'transformed_data_32' is your feature data and 'y' are your labels\n",
        "decision_scores = linear_svm_model.decision_function(transformed_data_32)\n",
        "sklearn_top5_accuracy = top_k_accuracy_score(y, decision_scores, k=5)\n",
        "\n",
        "\n",
        "# Regular accuracy\n",
        "predictions = linear_svm_model.predict(transformed_data_32)\n",
        "accuracy = accuracy_score(y, predictions)\n",
        "print(f\"Regular Accuracy for HoG_32 LinearSVC : {accuracy:.2f}\")\n",
        "print(\"Top-5 Accuracy for HoG_32 LinearSVC : {:.2f}\".format(sklearn_top5_accuracy))"
      ],
      "metadata": {
        "colab": {
          "base_uri": "https://localhost:8080/"
        },
        "id": "gag8EhUR5vEp",
        "outputId": "1d187394-9cb3-46f2-a4fe-3c207c16c611"
      },
      "execution_count": 16,
      "outputs": [
        {
          "output_type": "stream",
          "name": "stdout",
          "text": [
            "Regular Accuracy for HoG_32 LinearSVC : 0.58\n",
            "Top-5 Accuracy for HoG_32 LinearSVC : 0.71\n"
          ]
        }
      ]
    },
    {
      "cell_type": "code",
      "source": [
        "import numpy as np\n",
        "import joblib\n",
        "from sklearn.metrics import top_k_accuracy_score\n",
        "\n",
        "# Load the trained LinearSVC model\n",
        "linear_svm_model = joblib.load('/content/PRML_Project/Saved models/HoG/SVM_linear_kernel/HoG_linear_svc_64_features.pkl')\n",
        "\n",
        "# Assuming 'transformed_data_64' is your feature data and 'y' are your labels\n",
        "decision_scores = linear_svm_model.decision_function(transformed_data_64)\n",
        "sklearn_top5_accuracy = top_k_accuracy_score(y, decision_scores, k=5)\n",
        "\n",
        "\n",
        "# Regular accuracy\n",
        "predictions = linear_svm_model.predict(transformed_data_64)\n",
        "accuracy = accuracy_score(y, predictions)\n",
        "print(f\"Regular Accuracy for HoG_64 LinearSVC : {accuracy:.2f}\")\n",
        "print(\"Top-5 Accuracy for HoG_64 LinearSVC : {:.2f}\".format(sklearn_top5_accuracy))"
      ],
      "metadata": {
        "colab": {
          "base_uri": "https://localhost:8080/"
        },
        "id": "V6qO3sQ06jad",
        "outputId": "04cc5faa-d81b-4ff3-9895-e4ad9108884c"
      },
      "execution_count": 17,
      "outputs": [
        {
          "output_type": "stream",
          "name": "stdout",
          "text": [
            "Regular Accuracy for HoG_64 LinearSVC : 0.82\n",
            "Top-5 Accuracy for HoG_64 LinearSVC : 0.91\n"
          ]
        }
      ]
    },
    {
      "cell_type": "code",
      "source": [
        "import numpy as np\n",
        "import joblib\n",
        "from sklearn.metrics import top_k_accuracy_score\n",
        "\n",
        "# Load the trained LinearSVC model\n",
        "linear_svm_model = joblib.load('/content/PRML_Project/Saved models/HoG/SVM_linear_kernel/HoG_linear_svc_128_features.pkl')\n",
        "\n",
        "# Assuming 'transformed_data_128' is your feature data and 'y' are your labels\n",
        "decision_scores = linear_svm_model.decision_function(transformed_data_128)\n",
        "sklearn_top5_accuracy = top_k_accuracy_score(y, decision_scores, k=5)\n",
        "\n",
        "\n",
        "# Regular accuracy\n",
        "predictions = linear_svm_model.predict(transformed_data_128)\n",
        "accuracy = accuracy_score(y, predictions)\n",
        "print(f\"Regular Accuracy for HoG_128 LinearSVC : {accuracy:.2f}\")\n",
        "print(\"Top-5 Accuracy for HoG_128 LinearSVC : {:.2f}\".format(sklearn_top5_accuracy))"
      ],
      "metadata": {
        "colab": {
          "base_uri": "https://localhost:8080/"
        },
        "id": "WEnVf47663td",
        "outputId": "b8c83eb3-c455-4b41-f31c-b057bb229624"
      },
      "execution_count": 18,
      "outputs": [
        {
          "output_type": "stream",
          "name": "stdout",
          "text": [
            "Regular Accuracy for HoG_128 LinearSVC : 0.97\n",
            "Top-5 Accuracy for HoG_128 LinearSVC : 0.98\n"
          ]
        }
      ]
    },
    {
      "cell_type": "code",
      "source": [
        "import numpy as np\n",
        "import joblib\n",
        "from sklearn.metrics import top_k_accuracy_score, accuracy_score\n",
        "from sklearn.preprocessing import LabelEncoder\n",
        "# Load the trained RandomForest model\n",
        "xgb_model = joblib.load('/content/HoG_xgb_model_32_features.pkl')\n",
        "label_encoder = LabelEncoder()\n",
        "y_encoded = label_encoder.fit_transform(y)\n",
        "# Assuming 'transformed_data_32' is your feature data and 'y' are your true labels\n",
        "# Predict class labels for calculating regular accuracy\n",
        "predictions = xgb_model.predict(transformed_data_32)\n",
        "regular_accuracy = accuracy_score(y_encoded, predictions)\n",
        "print(f\"Regular Accuracy for HoG_32 XGB: {regular_accuracy:.2f}\")\n",
        "\n",
        "# Predict class probabilities for calculating top-5 accuracy\n",
        "probabilities = xgb_model.predict_proba(transformed_data_32)\n",
        "top_k_accuracy = top_k_accuracy_score(y_encoded, probabilities, k=5)\n",
        "print(f\"Top-5 Accuracy for HoG_32 XGB: {top_k_accuracy:.2f}\")\n"
      ],
      "metadata": {
        "colab": {
          "base_uri": "https://localhost:8080/"
        },
        "id": "f4kUYXUexSmJ",
        "outputId": "edd90bee-9c84-447d-ed91-b789249f95ec"
      },
      "execution_count": 19,
      "outputs": [
        {
          "output_type": "stream",
          "name": "stdout",
          "text": [
            "Regular Accuracy for HoG_32 XGB: 0.16\n",
            "Top-5 Accuracy for HoG_32 XGB: 0.20\n"
          ]
        }
      ]
    },
    {
      "cell_type": "code",
      "source": [
        "import numpy as np\n",
        "import joblib\n",
        "from sklearn.metrics import top_k_accuracy_score, accuracy_score\n",
        "from sklearn.preprocessing import LabelEncoder\n",
        "# Load the trained RandomForest model\n",
        "xgb_model = joblib.load('/content/HoG_xgb_model_64_features.pkl')\n",
        "label_encoder = LabelEncoder()\n",
        "y_encoded = label_encoder.fit_transform(y)\n",
        "# Assuming 'transformed_data_64' is your feature data and 'y' are your true labels\n",
        "# Predict class labels for calculating regular accuracy\n",
        "predictions = xgb_model.predict(transformed_data_64)\n",
        "regular_accuracy = accuracy_score(y_encoded, predictions)\n",
        "print(f\"Regular Accuracy for HoG_64 XGB: {regular_accuracy:.2f}\")\n",
        "\n",
        "# Predict class probabilities for calculating top-5 accuracy\n",
        "probabilities = xgb_model.predict_proba(transformed_data_64)\n",
        "top_k_accuracy = top_k_accuracy_score(y_encoded, probabilities, k=5)\n",
        "print(f\"Top-5 Accuracy for HoG_64 XGB: {top_k_accuracy:.2f}\")\n"
      ],
      "metadata": {
        "colab": {
          "base_uri": "https://localhost:8080/"
        },
        "id": "qkDTHsaBySCM",
        "outputId": "68395944-7235-478f-ae6c-7095b7427169"
      },
      "execution_count": 20,
      "outputs": [
        {
          "output_type": "stream",
          "name": "stdout",
          "text": [
            "Regular Accuracy for HoG_64 XGB: 0.22\n",
            "Top-5 Accuracy for HoG_64 XGB: 0.25\n"
          ]
        }
      ]
    },
    {
      "cell_type": "code",
      "source": [
        "import numpy as np\n",
        "import joblib\n",
        "from sklearn.metrics import top_k_accuracy_score, accuracy_score\n",
        "from sklearn.preprocessing import LabelEncoder\n",
        "# Load the trained RandomForest model\n",
        "xgb_model = joblib.load('/content/HoG_xgb_model_128_features.pkl')\n",
        "label_encoder = LabelEncoder()\n",
        "y_encoded = label_encoder.fit_transform(y)\n",
        "# Assuming 'transformed_data_128' is your feature data and 'y' are your true labels\n",
        "# Predict class labels for calculating regular accuracy\n",
        "predictions = xgb_model.predict(transformed_data_128)\n",
        "regular_accuracy = accuracy_score(y_encoded, predictions)\n",
        "print(f\"Regular Accuracy for HoG_128 XGB: {regular_accuracy:.2f}\")\n",
        "\n",
        "# Predict class probabilities for calculating top-5 accuracy\n",
        "probabilities = xgb_model.predict_proba(transformed_data_128)\n",
        "top_k_accuracy = top_k_accuracy_score(y_encoded, probabilities, k=5)\n",
        "print(f\"Top-5 Accuracy for HoG_128 XGB: {top_k_accuracy:.2f}\")\n"
      ],
      "metadata": {
        "colab": {
          "base_uri": "https://localhost:8080/"
        },
        "id": "Y1Fnu3pXybYC",
        "outputId": "6e35655f-5138-465c-a89c-261aa890e57b"
      },
      "execution_count": 21,
      "outputs": [
        {
          "output_type": "stream",
          "name": "stdout",
          "text": [
            "Regular Accuracy for HoG_128 XGB: 0.23\n",
            "Top-5 Accuracy for HoG_128 XGB: 0.27\n"
          ]
        }
      ]
    },
    {
      "cell_type": "code",
      "source": [
        "import numpy as np\n",
        "import joblib\n",
        "from sklearn.metrics import top_k_accuracy_score, accuracy_score\n",
        "\n",
        "# Load the trained RandomForest model\n",
        "knn_model = joblib.load('/content/PRML_Project/Saved models/HoG/KNN/HoG_knn_model_32_features.pkl')\n",
        "\n",
        "# Assuming 'transformed_data_32' is your feature data and 'y' are your true labels\n",
        "# Predict class labels for calculating regular accuracy\n",
        "predictions = knn_model.predict(transformed_data_32)\n",
        "regular_accuracy = accuracy_score(y, predictions)\n",
        "print(f\"Regular Accuracy for HoG_32 KNN: {regular_accuracy:.2f}\")\n",
        "\n",
        "# Predict class probabilities for calculating top-5 accuracy\n",
        "probabilities = knn_model.predict_proba(transformed_data_32)\n",
        "top_k_accuracy = top_k_accuracy_score(y, probabilities, k=5)\n",
        "print(f\"Top-5 Accuracy for HoG_32 KNN: {top_k_accuracy:.2f}\")\n"
      ],
      "metadata": {
        "colab": {
          "base_uri": "https://localhost:8080/"
        },
        "id": "wczQtSTWyxAX",
        "outputId": "f40a6771-2b5c-4604-f356-c92500349596"
      },
      "execution_count": 26,
      "outputs": [
        {
          "output_type": "stream",
          "name": "stdout",
          "text": [
            "Regular Accuracy for HoG_32 KNN: 0.24\n",
            "Top-5 Accuracy for HoG_32 KNN: 1.00\n"
          ]
        }
      ]
    },
    {
      "cell_type": "code",
      "source": [
        "import numpy as np\n",
        "import joblib\n",
        "from sklearn.metrics import top_k_accuracy_score, accuracy_score\n",
        "\n",
        "# Load the trained RandomForest model\n",
        "knn_model = joblib.load('/content/PRML_Project/Saved models/HoG/KNN/HoG_knn_model_64_features.pkl')\n",
        "\n",
        "# Assuming 'transformed_data_64' is your feature data and 'y' are your true labels\n",
        "# Predict class labels for calculating regular accuracy\n",
        "predictions = knn_model.predict(transformed_data_64)\n",
        "regular_accuracy = accuracy_score(y, predictions)\n",
        "print(f\"Regular Accuracy for HoG_64 KNN: {regular_accuracy:.2f}\")\n",
        "\n",
        "# Predict class probabilities for calculating top-5 accuracy\n",
        "probabilities = knn_model.predict_proba(transformed_data_64)\n",
        "top_k_accuracy = top_k_accuracy_score(y, probabilities, k=5)\n",
        "print(f\"Top-5 Accuracy for HoG_64 KNN: {top_k_accuracy:.2f}\")\n"
      ],
      "metadata": {
        "colab": {
          "base_uri": "https://localhost:8080/"
        },
        "id": "q9H4r_mWzVrw",
        "outputId": "a1cbb649-515f-4c48-c799-90457b449bd7"
      },
      "execution_count": 27,
      "outputs": [
        {
          "output_type": "stream",
          "name": "stdout",
          "text": [
            "Regular Accuracy for HoG_64 KNN: 0.26\n",
            "Top-5 Accuracy for HoG_64 KNN: 1.00\n"
          ]
        }
      ]
    },
    {
      "cell_type": "code",
      "source": [
        "import numpy as np\n",
        "import joblib\n",
        "from sklearn.metrics import top_k_accuracy_score, accuracy_score\n",
        "\n",
        "# Load the trained RandomForest model\n",
        "knn_model = joblib.load('/content/PRML_Project/Saved models/HoG/KNN/HoG_knn_model_128_features.pkl')\n",
        "\n",
        "# Assuming 'transformed_data_128' is your feature data and 'y' are your true labels\n",
        "# Predict class labels for calculating regular accuracy\n",
        "predictions = knn_model.predict(transformed_data_128)\n",
        "regular_accuracy = accuracy_score(y, predictions)\n",
        "print(f\"Regular Accuracy for HoG_128 KNN: {regular_accuracy:.2f}\")\n",
        "\n",
        "# Predict class probabilities for calculating top-5 accuracy\n",
        "probabilities = knn_model.predict_proba(transformed_data_128)\n",
        "top_k_accuracy = top_k_accuracy_score(y, probabilities, k=5)\n",
        "print(f\"Top-5 Accuracy for HoG_128 KNN: {top_k_accuracy:.2f}\")\n"
      ],
      "metadata": {
        "colab": {
          "base_uri": "https://localhost:8080/"
        },
        "id": "iN2Re8ewzj9Q",
        "outputId": "f529c0e8-7bf4-4890-832e-d070d8116a63"
      },
      "execution_count": 28,
      "outputs": [
        {
          "output_type": "stream",
          "name": "stdout",
          "text": [
            "Regular Accuracy for HoG_128 KNN: 0.27\n",
            "Top-5 Accuracy for HoG_128 KNN: 1.00\n"
          ]
        }
      ]
    },
    {
      "cell_type": "code",
      "source": [
        "import numpy as np\n",
        "import matplotlib.pyplot as plt\n",
        "import seaborn as sns\n",
        "from sklearn.metrics import confusion_matrix, precision_recall_fscore_support, accuracy_score, top_k_accuracy_score\n",
        "import joblib\n",
        "\n",
        "# Load model and data\n",
        "linear_svm_model = joblib.load('/content/PRML_Project/Saved models/HoG/SVM_linear_kernel/HoG_linear_svc_128_features.pkl')\n",
        "# Make predictions\n",
        "predictions = linear_svm_model.predict(transformed_data_128)\n",
        "decision_scores = linear_svm_model.decision_function(transformed_data_128)\n",
        "\n",
        "# Metrics\n",
        "sklearn_top5_accuracy = top_k_accuracy_score(y, decision_scores, k=5)\n",
        "accuracy = accuracy_score(y, predictions)\n",
        "precision, recall, f1, _ = precision_recall_fscore_support(y, predictions, average='macro')\n",
        "conf_matrix = confusion_matrix(y, predictions)\n",
        "\n",
        "# Output results\n",
        "print(f\"Precision: {precision:.2f}\")\n",
        "print(f\"Recall: {recall:.2f}\")\n",
        "print(f\"F1 Score: {f1:.2f}\")\n",
        "\n"
      ],
      "metadata": {
        "colab": {
          "base_uri": "https://localhost:8080/"
        },
        "id": "R47rbJAoROC_",
        "outputId": "d39084b7-84c3-45a2-8f5b-22add1f3579b"
      },
      "execution_count": 8,
      "outputs": [
        {
          "output_type": "stream",
          "name": "stdout",
          "text": [
            "Precision: 0.99\n",
            "Recall: 1.00\n",
            "F1 Score: 1.00\n"
          ]
        }
      ]
    }
  ]
}