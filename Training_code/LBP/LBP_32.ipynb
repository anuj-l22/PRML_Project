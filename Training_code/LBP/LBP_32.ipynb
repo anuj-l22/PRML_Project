{
 "cells": [
  {
   "cell_type": "markdown",
   "id": "ff264d0e-06c2-4001-badb-f37050adb789",
   "metadata": {},
   "source": [
    "# This notebook consists of loading extracted LBP features , applying PCA on it and then some models for testing and then storing in .pkl files\n"
   ]
  },
  {
   "cell_type": "code",
   "execution_count": 2,
   "id": "b835b0f8-40c3-4d9a-b4fe-ba317985a470",
   "metadata": {},
   "outputs": [],
   "source": [
    "import torch"
   ]
  },
  {
   "cell_type": "code",
   "execution_count": 3,
   "id": "8db9756f-6438-4dda-b30e-0b9d6685e095",
   "metadata": {},
   "outputs": [],
   "source": [
    "import numpy as np"
   ]
  },
  {
   "cell_type": "code",
   "execution_count": 4,
   "id": "59877b7d-ef32-4be7-9e6e-18eda2dbe772",
   "metadata": {},
   "outputs": [],
   "source": [
    "lbp_features = torch.load('extracted_lbp_features.pt')"
   ]
  },
  {
   "cell_type": "code",
   "execution_count": 5,
   "id": "254ee9c2-f649-4c9f-9fa2-e6d645061cb9",
   "metadata": {},
   "outputs": [
    {
     "name": "stdout",
     "output_type": "stream",
     "text": [
      "Features (X): (13233, 256)\n",
      "Labels (y): (13233,)\n"
     ]
    }
   ],
   "source": [
    "import numpy as np\n",
    "\n",
    "class FacesData:\n",
    "    def __init__(self, data_dict):\n",
    "        self.data_dict = data_dict\n",
    "\n",
    "    def get_X_y(self):\n",
    "        X = []\n",
    "        y = []\n",
    "        for key, value in self.data_dict.items():\n",
    "            # Extract the label from the file path\n",
    "            label = key.split('/')[1]\n",
    "            X.append(value.flatten())  # Flatten the feature array\n",
    "            y.append(label)\n",
    "        return np.array(X), np.array(y)\n",
    "\n",
    "\n",
    "\n",
    "faces_data = FacesData(lbp_features)\n",
    "X, y = faces_data.get_X_y()\n",
    "\n",
    "print('Features (X):', X.shape)\n",
    "print('Labels (y):', y.shape)\n"
   ]
  },
  {
   "cell_type": "code",
   "execution_count": 11,
   "id": "6c72d493-7d08-45f5-acc6-67d647406fcf",
   "metadata": {},
   "outputs": [
    {
     "name": "stdout",
     "output_type": "stream",
     "text": [
      "(5749,)\n"
     ]
    }
   ],
   "source": [
    "print(np.unique(y).shape)"
   ]
  },
  {
   "cell_type": "markdown",
   "id": "7a5dd84f-dab6-4575-8ab9-6db0572e9e9e",
   "metadata": {},
   "source": [
    "### Till above are imports and code for face data extraction from LBP"
   ]
  },
  {
   "cell_type": "markdown",
   "id": "fee08a7f-2215-415e-807f-76f78e071994",
   "metadata": {},
   "source": [
    "### Code for PCA"
   ]
  },
  {
   "cell_type": "code",
   "execution_count": 6,
   "id": "b5e9a87e-9a47-48d6-aa58-ec607b803b19",
   "metadata": {},
   "outputs": [],
   "source": [
    "# from sklearn.decomposition import PCA\n",
    "# transformed_data = []\n",
    "# pca = PCA(n_components=16)\n",
    "# X_pca = pca.fit_transform(X)\n",
    "# transformed_data = X_pca\n",
    "from sklearn.decomposition import PCA\n",
    "\n",
    "# Define the number of features for each split\n",
    "n_features_list = [32, 64, 128]\n",
    "\n",
    "# Dictionary to store the transformed data for each feature set\n",
    "transformed_data_dict = {}\n",
    "\n",
    "# Fit PCA with the maximum number of components needed\n",
    "pca = PCA(n_components=max(n_features_list))\n",
    "X_pca = pca.fit_transform(X)\n",
    "\n",
    "# Split the data into different feature sets\n",
    "for n_features in n_features_list:\n",
    "    transformed_data_dict[n_features] = X_pca[:, :n_features]\n",
    "\n",
    "# Access the transformed data for a specific number of features\n",
    "transformed_data_32 = transformed_data_dict[32]\n",
    "transformed_data_64 = transformed_data_dict[64]\n",
    "transformed_data_128 = transformed_data_dict[128]"
   ]
  },
  {
   "cell_type": "markdown",
   "id": "2d7892c7-d20b-48d9-aecd-60823c63147f",
   "metadata": {},
   "source": [
    "### Random Forest Model"
   ]
  },
  {
   "cell_type": "code",
   "execution_count": 7,
   "id": "2829208b-3915-44f6-9457-6887d482b741",
   "metadata": {},
   "outputs": [
    {
     "name": "stdout",
     "output_type": "stream",
     "text": [
      "Time taken to fit the model: 23.12 seconds\n"
     ]
    }
   ],
   "source": [
    "from sklearn.ensemble import RandomForestClassifier\n",
    "import joblib\n",
    "import time\n",
    "\n",
    "accuracies_RF = {}\n",
    "# Initialize the Random Forest model\n",
    "rf_model = RandomForestClassifier(n_estimators=10, max_depth=20, max_features='sqrt', random_state=42, n_jobs=-1)\n",
    "\n",
    "# Start timing\n",
    "start_time = time.time()\n",
    "\n",
    "# Train the Random Forest model on the dataset\n",
    "rf_model.fit(transformed_data_32, y)\n",
    "\n",
    "# Calculate elapsed time\n",
    "elapsed_time = time.time() - start_time\n",
    "\n",
    "# Save the trained Random Forest model\n",
    "joblib.dump(rf_model, 'LBP_random_forest_model_32_features.pkl')\n",
    "\n",
    "# Print accuracy on the training dataset\n",
    "accuracies_RF['32'] = rf_model.score(transformed_data_32, y)\n",
    "\n",
    "# Print the time taken to train the model\n",
    "print(f\"Time taken to fit the model: {elapsed_time:.2f} seconds\")"
   ]
  },
  {
   "cell_type": "code",
   "execution_count": 8,
   "id": "98f4560c-d88b-44af-ac6a-d3b526b2d803",
   "metadata": {},
   "outputs": [
    {
     "name": "stdout",
     "output_type": "stream",
     "text": [
      "0.3895564120003023\n"
     ]
    }
   ],
   "source": [
    "print(accuracies_RF['32'])"
   ]
  },
  {
   "cell_type": "markdown",
   "id": "a91ab326-089e-47de-aed1-d2667b99a385",
   "metadata": {},
   "source": [
    "### XGBoost Model"
   ]
  },
  {
   "cell_type": "code",
   "execution_count": 8,
   "id": "f1f55266-9832-4aa2-8c81-11922e7a6ce1",
   "metadata": {},
   "outputs": [
    {
     "name": "stdout",
     "output_type": "stream",
     "text": [
      "Time taken to fit the model: 129.59 seconds\n"
     ]
    }
   ],
   "source": [
    "import xgboost as xgb\n",
    "from sklearn.metrics import accuracy_score\n",
    "from sklearn.preprocessing import LabelEncoder\n",
    "import joblib\n",
    "import time\n",
    "# Assuming transformed_data_32, transformed_data_64, and transformed_data_128 are your feature sets\n",
    "# and 'y' is your target variable with class labels\n",
    "\n",
    "# Encode the class labels in 'y'\n",
    "label_encoder = LabelEncoder()\n",
    "y_encoded = label_encoder.fit_transform(y)\n",
    "\n",
    "# Initialize a dictionary to store accuracies for different feature sets\n",
    "accuracies_XGB = {}\n",
    "\n",
    "# Set n_jobs to -1 to use all available cores\n",
    "xgb_model_32 = xgb.XGBClassifier(n_estimators=20, max_depth=20, random_state=42, n_jobs=-1)\n",
    "\n",
    "start_time = time.time()\n",
    "xgb_model_32.fit(transformed_data_32, y_encoded)\n",
    "elapsed_time = time.time() - start_time\n",
    "\n",
    "joblib.dump(xgb_model_32, 'LBP_xgb_model_32_features.pkl')\n",
    "\n",
    "predictions_32 = xgb_model_32.predict(transformed_data_32)\n",
    "accuracies_XGB['32'] = accuracy_score(y_encoded, predictions_32)\n",
    "print(f\"Time taken to fit the model: {elapsed_time:.2f} seconds\")"
   ]
  },
  {
   "cell_type": "code",
   "execution_count": 9,
   "id": "f309809c-a0ba-4f6c-a1ef-dfa3c699c45a",
   "metadata": {},
   "outputs": [
    {
     "name": "stdout",
     "output_type": "stream",
     "text": [
      "0.040051386684803146\n"
     ]
    }
   ],
   "source": [
    "print(accuracies_XGB['32'])"
   ]
  },
  {
   "cell_type": "markdown",
   "id": "194d8149-e11d-46d9-9c6b-6d5e657b86ab",
   "metadata": {},
   "source": [
    "### Logistic Regression Model"
   ]
  },
  {
   "cell_type": "code",
   "execution_count": 10,
   "id": "471b3442-84a4-458d-aefb-e37afd5028ab",
   "metadata": {},
   "outputs": [
    {
     "name": "stdout",
     "output_type": "stream",
     "text": [
      "Time taken to fit the model: 1643.13 seconds\n"
     ]
    }
   ],
   "source": [
    "from sklearn.linear_model import LogisticRegression\n",
    "import joblib\n",
    "import time\n",
    "accuracies = {}\n",
    "\n",
    "# Train logistic regression for 32 PCA components\n",
    "clf_32 = LogisticRegression(solver='saga', penalty='l2', max_iter=1000, tol=0.01, n_jobs=-1)\n",
    "start_time = time.time()\n",
    "clf_32.fit(transformed_data_32, y)\n",
    "elapsed_time = time.time() - start_time\n",
    "joblib.dump(clf_32, 'LBP_logistic_regression_32_features.pkl')\n",
    "accuracies['32'] = clf_32.score(transformed_data_32, y)\n",
    "print(f\"Time taken to fit the model: {elapsed_time:.2f} seconds\")"
   ]
  },
  {
   "cell_type": "code",
   "execution_count": 11,
   "id": "9233d639-bc5a-4805-8203-604aba602573",
   "metadata": {},
   "outputs": [
    {
     "name": "stdout",
     "output_type": "stream",
     "text": [
      "0.03317463915967657\n"
     ]
    }
   ],
   "source": [
    "print(accuracies['32'])"
   ]
  },
  {
   "cell_type": "markdown",
   "id": "e61f7a23-81f1-40e1-a2ef-3d78bc4fe9f7",
   "metadata": {},
   "source": [
    "### Testing out metrics"
   ]
  },
  {
   "cell_type": "code",
   "execution_count": 15,
   "id": "6c5b87b0-8b3c-40bb-8532-994930cd7214",
   "metadata": {},
   "outputs": [
    {
     "name": "stdout",
     "output_type": "stream",
     "text": [
      "Top-5 Accuracy: 0.5091060228217336\n"
     ]
    }
   ],
   "source": [
    "from sklearn.linear_model import LogisticRegression\n",
    "import joblib\n",
    "from sklearn.metrics import top_k_accuracy_score\n",
    "\n",
    "# Path to the saved model file\n",
    "model_path = 'LBP_random_forest_model_32_features.pkl'\n",
    "\n",
    "# Load the logistic regression model from the pickle file\n",
    "clf_32_loaded = joblib.load(model_path)\n",
    "\n",
    "# Use the loaded model to predict the probabilities of the training data\n",
    "probabilities = clf_32_loaded.predict_proba(transformed_data_32)\n",
    "\n",
    "# Evaluate the top-5 accuracy of the model on the training data\n",
    "top_5_accuracy = top_k_accuracy_score(y, probabilities, k=5)\n",
    "print(\"Top-5 Accuracy:\", top_5_accuracy)"
   ]
  },
  {
   "cell_type": "markdown",
   "id": "c75e9f40-b77f-43ac-949b-35f6882b27d2",
   "metadata": {},
   "source": [
    "### LinearSVC Model"
   ]
  },
  {
   "cell_type": "code",
   "execution_count": 7,
   "id": "883db31e-a732-44e3-98a7-2c9ee69cbcb7",
   "metadata": {},
   "outputs": [
    {
     "name": "stderr",
     "output_type": "stream",
     "text": [
      "C:\\Users\\Anuj\\miniconda3\\envs\\PRML\\Lib\\site-packages\\sklearn\\svm\\_classes.py:32: FutureWarning: The default value of `dual` will change from `True` to `'auto'` in 1.5. Set the value of `dual` explicitly to suppress the warning.\n",
      "  warnings.warn(\n",
      "C:\\Users\\Anuj\\miniconda3\\envs\\PRML\\Lib\\site-packages\\sklearn\\svm\\_base.py:1242: ConvergenceWarning: Liblinear failed to converge, increase the number of iterations.\n",
      "  warnings.warn(\n"
     ]
    },
    {
     "name": "stdout",
     "output_type": "stream",
     "text": [
      "Time taken to fit the model: 19080.54 seconds\n"
     ]
    }
   ],
   "source": [
    "from sklearn.svm import LinearSVC\n",
    "import joblib\n",
    "import time\n",
    "\n",
    "accuracies_SVM = {}\n",
    "\n",
    "# Initialize the LinearSVC\n",
    "linear_svm_model = LinearSVC(C=1.0, random_state=42, max_iter=1000)\n",
    "\n",
    "# Start timing\n",
    "start_time = time.time()\n",
    "\n",
    "# Train the LinearSVC model on the dataset with 32 PCA components\n",
    "linear_svm_model.fit(transformed_data_32, y)  \n",
    "\n",
    "# Calculate elapsed time\n",
    "end_time = time.time() \n",
    "elapsed_time = end_time - start_time\n",
    "# Save the trained SVM model\n",
    "joblib.dump(linear_svm_model, 'LBP_linear_svc_32_features.pkl')\n",
    "\n",
    "# Print accuracy on the training dataset\n",
    "accuracies_SVM['32'] = linear_svm_model.score(transformed_data_32, y)\n",
    "\n",
    "# Print the time taken to train the model\n",
    "print(f\"Time taken to fit the model: {elapsed_time:.2f} seconds\")\n"
   ]
  },
  {
   "cell_type": "markdown",
   "id": "655a1fc6-dc32-4599-855e-6b8a69c55ce3",
   "metadata": {},
   "source": [
    "### KNN Model"
   ]
  },
  {
   "cell_type": "code",
   "execution_count": 7,
   "id": "0ea09657-e900-4d55-bc10-d2b6f6b32c7c",
   "metadata": {},
   "outputs": [],
   "source": [
    "from sklearn.neighbors import KNeighborsClassifier\n",
    "import joblib\n",
    "\n",
    "accuracies_KNN = {}\n",
    "\n",
    "# Initialize the KNN model\n",
    "# You can adjust 'n_neighbors' and other parameters to balance between performance and training time\n",
    "knn_model = KNeighborsClassifier(n_neighbors=5, n_jobs=-1)\n",
    "\n",
    "# Train the KNN model on the dataset using 32 PCA components\n",
    "# You can change to transformed_data_64 or transformed_data_128 as needed\n",
    "knn_model.fit(transformed_data_32, y)\n",
    "\n",
    "# Save the trained KNN model\n",
    "joblib.dump(knn_model, 'LBP_knn_model_32_features.pkl')\n",
    "\n",
    "# Print accuracy on the training dataset\n",
    "accuracies_KNN['32'] = knn_model.score(transformed_data_32, y)"
   ]
  },
  {
   "cell_type": "code",
   "execution_count": 8,
   "id": "4155ece4-0535-4f11-b8d8-070c6375323d",
   "metadata": {},
   "outputs": [
    {
     "name": "stdout",
     "output_type": "stream",
     "text": [
      "0.2185445477216051\n"
     ]
    }
   ],
   "source": [
    "print(accuracies_KNN['32'])"
   ]
  },
  {
   "cell_type": "markdown",
   "id": "1b4268f7-c6bf-4a27-ac2f-8f248b213b52",
   "metadata": {},
   "source": [
    "### Testing out metrics"
   ]
  },
  {
   "cell_type": "code",
   "execution_count": 9,
   "id": "67b6e193-2fb2-4151-b142-2ae1384e6e0e",
   "metadata": {},
   "outputs": [
    {
     "name": "stdout",
     "output_type": "stream",
     "text": [
      "Regular Accuracy for KNN_32 : 0.22\n",
      "Top-5 Accuracy for KNN_32: 1.00\n"
     ]
    }
   ],
   "source": [
    "import numpy as np\n",
    "import joblib\n",
    "from sklearn.metrics import top_k_accuracy_score\n",
    "from sklearn.metrics import accuracy_score\n",
    "\n",
    "# Load the trained KNN model\n",
    "knn_model = joblib.load('LBP_knn_model_32_features.pkl')  # Update path as needed\n",
    "\n",
    "# Assuming 'transformed_data_32' is your feature data and 'y' are your labels\n",
    "\n",
    "# KNN does not have a decision_function method, but we can use predict_proba for top-k accuracy\n",
    "probabilities = knn_model.predict_proba(transformed_data_32)\n",
    "# Calculate top-k accuracy using the probabilities\n",
    "sklearn_top5_accuracy = top_k_accuracy_score(y, probabilities, k=5)\n",
    "\n",
    "# Regular accuracy using predictions\n",
    "predictions = knn_model.predict(transformed_data_32)\n",
    "accuracy = accuracy_score(y, predictions)\n",
    "print(f\"Regular Accuracy for KNN_32 : {accuracy:.2f}\")\n",
    "print(f\"Top-5 Accuracy for KNN_32: {sklearn_top5_accuracy:.2f}\")"
   ]
  }
 ],
 "metadata": {
  "kernelspec": {
   "display_name": "Python 3 (ipykernel)",
   "language": "python",
   "name": "python3"
  },
  "language_info": {
   "codemirror_mode": {
    "name": "ipython",
    "version": 3
   },
   "file_extension": ".py",
   "mimetype": "text/x-python",
   "name": "python",
   "nbconvert_exporter": "python",
   "pygments_lexer": "ipython3",
   "version": "3.12.2"
  }
 },
 "nbformat": 4,
 "nbformat_minor": 5
}
