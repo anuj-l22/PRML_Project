{
 "cells": [
  {
   "cell_type": "markdown",
   "id": "4a2126b3-7676-4cbe-9289-a660fd5191bc",
   "metadata": {},
   "source": [
    "# This notebook consists of loading extracted LBP features , applying PCA on it and then some models for testing and then storing in .pkl files\n"
   ]
  },
  {
   "cell_type": "code",
   "execution_count": 9,
   "id": "e2f382fd-5f3d-4fbc-a6ea-8ddad543e5ec",
   "metadata": {},
   "outputs": [],
   "source": [
    "import torch"
   ]
  },
  {
   "cell_type": "code",
   "execution_count": 10,
   "id": "a12ede93-4d12-44b1-8d01-d15d9bbe11de",
   "metadata": {},
   "outputs": [],
   "source": [
    "import numpy as np"
   ]
  },
  {
   "cell_type": "code",
   "execution_count": 11,
   "id": "25930af3-53c5-456c-8575-c12b42ea24f8",
   "metadata": {},
   "outputs": [],
   "source": [
    "lbp_features = torch.load('extracted_lbp_features.pt')"
   ]
  },
  {
   "cell_type": "code",
   "execution_count": 12,
   "id": "77cf941e-4a16-4ac2-9002-964538e99c59",
   "metadata": {},
   "outputs": [
    {
     "name": "stdout",
     "output_type": "stream",
     "text": [
      "Features (X): (13233, 256)\n",
      "Labels (y): (13233,)\n"
     ]
    }
   ],
   "source": [
    "import numpy as np\n",
    "\n",
    "class FacesData:\n",
    "    def __init__(self, data_dict):\n",
    "        self.data_dict = data_dict\n",
    "\n",
    "    def get_X_y(self):\n",
    "        X = []\n",
    "        y = []\n",
    "        for key, value in self.data_dict.items():\n",
    "            # Extract the label from the file path\n",
    "            label = key.split('/')[1]\n",
    "            X.append(value.flatten())  # Flatten the feature array\n",
    "            y.append(label)\n",
    "        return np.array(X), np.array(y)\n",
    "\n",
    "\n",
    "\n",
    "faces_data = FacesData(lbp_features)\n",
    "X, y = faces_data.get_X_y()\n",
    "\n",
    "print('Features (X):', X.shape)\n",
    "print('Labels (y):', y.shape)\n"
   ]
  },
  {
   "cell_type": "markdown",
   "id": "8a140266-c23f-4e89-9670-b8dc674b569c",
   "metadata": {},
   "source": [
    "### Till above are imports and code for face data extraction from LBP"
   ]
  },
  {
   "cell_type": "markdown",
   "id": "3e4fb380-244e-4d54-b965-538b0ef2c53b",
   "metadata": {},
   "source": [
    "### Code for PCA"
   ]
  },
  {
   "cell_type": "code",
   "execution_count": 13,
   "id": "c00bf815-5091-4ed6-8d83-7ea0d5be9c51",
   "metadata": {},
   "outputs": [],
   "source": [
    "# from sklearn.decomposition import PCA\n",
    "# transformed_data = []\n",
    "# pca = PCA(n_components=16)\n",
    "# X_pca = pca.fit_transform(X)\n",
    "# transformed_data = X_pca\n",
    "from sklearn.decomposition import PCA\n",
    "\n",
    "# Define the number of features for each split\n",
    "n_features_list = [32, 64, 128]\n",
    "\n",
    "# Dictionary to store the transformed data for each feature set\n",
    "transformed_data_dict = {}\n",
    "\n",
    "# Fit PCA with the maximum number of components needed\n",
    "pca = PCA(n_components=max(n_features_list))\n",
    "X_pca = pca.fit_transform(X)\n",
    "\n",
    "# Split the data into different feature sets\n",
    "for n_features in n_features_list:\n",
    "    transformed_data_dict[n_features] = X_pca[:, :n_features]\n",
    "\n",
    "# Access the transformed data for a specific number of features\n",
    "transformed_data_32 = transformed_data_dict[32]\n",
    "transformed_data_64 = transformed_data_dict[64]\n",
    "transformed_data_128 = transformed_data_dict[128]"
   ]
  },
  {
   "cell_type": "markdown",
   "id": "35a79fd1-bdda-4714-a515-2cdef1f219fc",
   "metadata": {},
   "source": [
    "### Random Forest Model"
   ]
  },
  {
   "cell_type": "code",
   "execution_count": 6,
   "id": "c84b05c6-adae-46de-985c-4fd0c8b1ac10",
   "metadata": {},
   "outputs": [
    {
     "name": "stdout",
     "output_type": "stream",
     "text": [
      "Time taken to fit the model: 51.27 seconds\n"
     ]
    }
   ],
   "source": [
    "from sklearn.ensemble import RandomForestClassifier\n",
    "import joblib\n",
    "import time\n",
    "\n",
    "accuracies_RF = {}\n",
    "# Initialize the Random Forest model\n",
    "rf_model = RandomForestClassifier(n_estimators=10, max_depth=20, max_features='sqrt', random_state=42, n_jobs=-1)\n",
    "\n",
    "# Start timing\n",
    "start_time = time.time()\n",
    "\n",
    "# Train the Random Forest model on the dataset\n",
    "rf_model.fit(transformed_data_128, y)\n",
    "\n",
    "# Calculate elapsed time\n",
    "elapsed_time = time.time() - start_time\n",
    "\n",
    "# Save the trained Random Forest model\n",
    "joblib.dump(rf_model, 'LBP_random_forest_model_128_features.pkl')\n",
    "\n",
    "# Print accuracy on the training dataset\n",
    "accuracies_RF['128'] = rf_model.score(transformed_data_128, y)\n",
    "\n",
    "# Print the time taken to train the model\n",
    "print(f\"Time taken to fit the model: {elapsed_time:.2f} seconds\")"
   ]
  },
  {
   "cell_type": "code",
   "execution_count": 7,
   "id": "841a7243-dcd7-4adc-8000-c54323d2c902",
   "metadata": {},
   "outputs": [
    {
     "name": "stdout",
     "output_type": "stream",
     "text": [
      "0.2641880148114562\n"
     ]
    }
   ],
   "source": [
    "print(accuracies_RF['128'])"
   ]
  },
  {
   "cell_type": "markdown",
   "id": "ed89df05-847a-4e4f-9c32-bd42d2565556",
   "metadata": {},
   "source": [
    "### XGBoost Model"
   ]
  },
  {
   "cell_type": "code",
   "execution_count": 8,
   "id": "8543fcd4-5459-412b-9ac3-b5566f91e1c0",
   "metadata": {},
   "outputs": [
    {
     "name": "stdout",
     "output_type": "stream",
     "text": [
      "Time taken to fit the model: 593.09 seconds\n"
     ]
    }
   ],
   "source": [
    "import xgboost as xgb\n",
    "from sklearn.metrics import accuracy_score\n",
    "from sklearn.preprocessing import LabelEncoder\n",
    "import joblib\n",
    "import time\n",
    "# Assuming transformed_data_32, transformed_data_64, and transformed_data_128 are your feature sets\n",
    "# and 'y' is your target variable with class labels\n",
    "\n",
    "# Encode the class labels in 'y'\n",
    "label_encoder = LabelEncoder()\n",
    "y_encoded = label_encoder.fit_transform(y)\n",
    "\n",
    "# Initialize a dictionary to store accuracies for different feature sets\n",
    "accuracies_XGB = {}\n",
    "\n",
    "# Set n_jobs to -1 to use all available cores\n",
    "xgb_model_128 = xgb.XGBClassifier(n_estimators=20, max_depth=20, random_state=42, n_jobs=-1)\n",
    "\n",
    "start_time = time.time()\n",
    "xgb_model_128.fit(transformed_data_128, y_encoded)\n",
    "elapsed_time = time.time() - start_time\n",
    "\n",
    "joblib.dump(xgb_model_128, 'LBP_xgb_model_128_features.pkl')\n",
    "\n",
    "predictions_128 = xgb_model_128.predict(transformed_data_128)\n",
    "accuracies_XGB['128'] = accuracy_score(y_encoded, predictions_128)\n",
    "print(f\"Time taken to fit the model: {elapsed_time:.2f} seconds\")"
   ]
  },
  {
   "cell_type": "code",
   "execution_count": 9,
   "id": "da928dc3-b468-45b5-bfa0-952fa293f8ce",
   "metadata": {},
   "outputs": [
    {
     "name": "stdout",
     "output_type": "stream",
     "text": [
      "0.040051386684803146\n"
     ]
    }
   ],
   "source": [
    "print(accuracies_XGB['128'])"
   ]
  },
  {
   "cell_type": "markdown",
   "id": "da3ea1cf-8319-40d6-8e36-9535b9294604",
   "metadata": {},
   "source": [
    "### Logistic Regression Model"
   ]
  },
  {
   "cell_type": "code",
   "execution_count": 10,
   "id": "759b4aee-d590-4203-95b2-110fe5e156de",
   "metadata": {},
   "outputs": [
    {
     "name": "stdout",
     "output_type": "stream",
     "text": [
      "Time taken to fit the model: 6493.99 seconds\n"
     ]
    }
   ],
   "source": [
    "from sklearn.linear_model import LogisticRegression\n",
    "import joblib\n",
    "import time\n",
    "accuracies = {}\n",
    "\n",
    "# Train logistic regression for 128 PCA components\n",
    "clf_128 = LogisticRegression(solver='saga', penalty='l2', max_iter=1000, tol=0.01, n_jobs=-1)\n",
    "start_time = time.time()\n",
    "clf_128.fit(transformed_data_128, y)\n",
    "elapsed_time = time.time() - start_time\n",
    "joblib.dump(clf_128, 'LBP_logistic_regression_128_features.pkl')\n",
    "accuracies['128'] = clf_128.score(transformed_data_128, y)\n",
    "print(f\"Time taken to fit the model: {elapsed_time:.2f} seconds\")"
   ]
  },
  {
   "cell_type": "code",
   "execution_count": 11,
   "id": "6e601bb4-8e31-4006-a09c-8038f6cac79e",
   "metadata": {},
   "outputs": [
    {
     "name": "stdout",
     "output_type": "stream",
     "text": [
      "0.03355248243028792\n"
     ]
    }
   ],
   "source": [
    "print(accuracies['128'])"
   ]
  },
  {
   "cell_type": "markdown",
   "id": "97763c66-51b0-4854-b6ed-7e94e8798027",
   "metadata": {},
   "source": [
    "### Random Forest Model"
   ]
  },
  {
   "cell_type": "code",
   "execution_count": 7,
   "id": "f650bbfc-546a-445b-89b8-1ccc118a8bc3",
   "metadata": {},
   "outputs": [],
   "source": [
    "from sklearn.neighbors import KNeighborsClassifier\n",
    "import joblib\n",
    "\n",
    "accuracies_KNN = {}\n",
    "\n",
    "# Initialize the KNN model\n",
    "# You can adjust 'n_neighbors' and other parameters to balance between performance and training time\n",
    "knn_model = KNeighborsClassifier(n_neighbors=5, n_jobs=-1)\n",
    "\n",
    "# Train the KNN model on the dataset using 32 PCA components\n",
    "# You can change to transformed_data_64 or transformed_data_128 as needed\n",
    "knn_model.fit(transformed_data_128, y)\n",
    "\n",
    "# Save the trained KNN model\n",
    "joblib.dump(knn_model, 'LBP_knn_model_128_features.pkl')\n",
    "\n",
    "# Print accuracy on the training dataset\n",
    "accuracies_KNN['128'] = knn_model.score(transformed_data_128, y)"
   ]
  },
  {
   "cell_type": "code",
   "execution_count": 8,
   "id": "46010cfd-d848-409e-b2e5-91e88ac22497",
   "metadata": {},
   "outputs": [
    {
     "name": "stdout",
     "output_type": "stream",
     "text": [
      "0.21922466560870552\n"
     ]
    }
   ],
   "source": [
    "print(accuracies_KNN['128'])"
   ]
  },
  {
   "cell_type": "markdown",
   "id": "5110212f-d3bd-470b-b975-49d39b413aea",
   "metadata": {},
   "source": [
    "### LinearSVC Model"
   ]
  },
  {
   "cell_type": "code",
   "execution_count": 14,
   "id": "4c8d15d4-e063-433e-95ed-5ecc77faffc8",
   "metadata": {},
   "outputs": [
    {
     "name": "stderr",
     "output_type": "stream",
     "text": [
      "C:\\Users\\Anuj\\miniconda3\\envs\\PRML\\Lib\\site-packages\\sklearn\\svm\\_classes.py:32: FutureWarning: The default value of `dual` will change from `True` to `'auto'` in 1.5. Set the value of `dual` explicitly to suppress the warning.\n",
      "  warnings.warn(\n",
      "C:\\Users\\Anuj\\miniconda3\\envs\\PRML\\Lib\\site-packages\\sklearn\\svm\\_base.py:1242: ConvergenceWarning: Liblinear failed to converge, increase the number of iterations.\n",
      "  warnings.warn(\n"
     ]
    },
    {
     "name": "stdout",
     "output_type": "stream",
     "text": [
      "Time taken to fit the model: 55036.06 seconds\n"
     ]
    }
   ],
   "source": [
    "from sklearn.svm import LinearSVC\n",
    "import joblib\n",
    "import time\n",
    "\n",
    "accuracies_SVM = {}\n",
    "\n",
    "# Initialize the LinearSVC\n",
    "linear_svm_model = LinearSVC(C=1.0, random_state=42, max_iter=1000)\n",
    "\n",
    "# Start timing\n",
    "start_time = time.time()\n",
    "\n",
    "# Train the LinearSVC model on the dataset with 128 PCA components\n",
    "linear_svm_model.fit(transformed_data_128, y)  \n",
    "\n",
    "# Calculate elapsed time\n",
    "end_time = time.time() \n",
    "elapsed_time = end_time - start_time\n",
    "# Save the trained SVM model\n",
    "joblib.dump(linear_svm_model, 'LBP_linear_svc_128_features.pkl')\n",
    "\n",
    "# Print accuracy on the training dataset\n",
    "accuracies_SVM['128'] = linear_svm_model.score(transformed_data_128, y)\n",
    "\n",
    "# Print the time taken to train the model\n",
    "print(f\"Time taken to fit the model: {elapsed_time:.2f} seconds\")\n"
   ]
  }
 ],
 "metadata": {
  "kernelspec": {
   "display_name": "Python 3 (ipykernel)",
   "language": "python",
   "name": "python3"
  },
  "language_info": {
   "codemirror_mode": {
    "name": "ipython",
    "version": 3
   },
   "file_extension": ".py",
   "mimetype": "text/x-python",
   "name": "python",
   "nbconvert_exporter": "python",
   "pygments_lexer": "ipython3",
   "version": "3.12.2"
  }
 },
 "nbformat": 4,
 "nbformat_minor": 5
}
