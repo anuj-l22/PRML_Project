{
 "cells": [
  {
   "cell_type": "markdown",
   "id": "772e146a-14c3-4132-b885-7db1ff516dd2",
   "metadata": {},
   "source": [
    "# This notebook consists of loading extracted CNN features , applying PCA on it and then some models for testing and then storing in .pkl files\n"
   ]
  },
  {
   "cell_type": "code",
   "execution_count": 2,
   "id": "56ff3b91-8693-4835-b3c2-6ef2ea28c49b",
   "metadata": {},
   "outputs": [],
   "source": [
    "import torch"
   ]
  },
  {
   "cell_type": "code",
   "execution_count": 3,
   "id": "08cc1c22-b1ec-4dd2-825b-f6e4e82d3f08",
   "metadata": {},
   "outputs": [],
   "source": [
    "import numpy as np"
   ]
  },
  {
   "cell_type": "code",
   "execution_count": 4,
   "id": "048eab6d-2c1e-4e44-86b8-a70255043e69",
   "metadata": {},
   "outputs": [],
   "source": [
    "import sklearn.model_selection "
   ]
  },
  {
   "cell_type": "code",
   "execution_count": 5,
   "id": "0e976ad3-6981-4828-b5d4-83a8ab169f73",
   "metadata": {},
   "outputs": [],
   "source": [
    "cnn_features = torch.load('extracted_resnet_features.pt')"
   ]
  },
  {
   "cell_type": "code",
   "execution_count": 6,
   "id": "22cd2113-828a-4130-b0f9-0107b9d64175",
   "metadata": {},
   "outputs": [
    {
     "name": "stdout",
     "output_type": "stream",
     "text": [
      "Features (X): (13233, 2048)\n",
      "Labels (y): (13233,)\n"
     ]
    }
   ],
   "source": [
    "import numpy as np\n",
    "\n",
    "class FacesData:\n",
    "    def __init__(self, data_dict):\n",
    "        self.data_dict = data_dict\n",
    "\n",
    "    def get_X_y(self):\n",
    "        X = []\n",
    "        y = []\n",
    "        for key, value in self.data_dict.items():\n",
    "            # Extract the label from the file path\n",
    "            label = key.split('/')[1]\n",
    "            X.append(value.flatten())  # Flatten the feature array\n",
    "            y.append(label)\n",
    "        return np.array(X), np.array(y)\n",
    "\n",
    "\n",
    "\n",
    "faces_data = FacesData(cnn_features)\n",
    "X, y = faces_data.get_X_y()\n",
    "\n",
    "print('Features (X):', X.shape)\n",
    "print('Labels (y):', y.shape)\n"
   ]
  },
  {
   "cell_type": "markdown",
   "id": "50776da3-fc32-4fee-b4e3-3a0350c3bbe1",
   "metadata": {},
   "source": [
    "### Till above are imports and code for face data using pre extracted CNN"
   ]
  },
  {
   "cell_type": "markdown",
   "id": "b8b07b74-a56d-4638-b013-e40c676725d9",
   "metadata": {},
   "source": [
    "### Code for PCA"
   ]
  },
  {
   "cell_type": "code",
   "execution_count": 7,
   "id": "0f21dd7b-d7a7-4530-8043-0a819c0d5f43",
   "metadata": {},
   "outputs": [],
   "source": [
    "# from sklearn.decomposition import PCA\n",
    "# transformed_data = []\n",
    "# pca = PCA(n_components=16)\n",
    "# X_pca = pca.fit_transform(X)\n",
    "# transformed_data = X_pca\n",
    "from sklearn.decomposition import PCA\n",
    "\n",
    "# Define the number of features for each split\n",
    "n_features_list = [32, 64, 128]\n",
    "\n",
    "# Dictionary to store the transformed data for each feature set\n",
    "transformed_data_dict = {}\n",
    "\n",
    "# Fit PCA with the maximum number of components needed\n",
    "pca = PCA(n_components=max(n_features_list))\n",
    "X_pca = pca.fit_transform(X)\n",
    "\n",
    "# Split the data into different feature sets\n",
    "for n_features in n_features_list:\n",
    "    transformed_data_dict[n_features] = X_pca[:, :n_features]\n",
    "\n",
    "# Access the transformed data for a specific number of features\n",
    "transformed_data_32 = transformed_data_dict[32]\n",
    "transformed_data_64 = transformed_data_dict[64]\n",
    "transformed_data_128 = transformed_data_dict[128]"
   ]
  },
  {
   "cell_type": "markdown",
   "id": "6beecfab-30bf-4072-a649-694f14c88ed0",
   "metadata": {},
   "source": [
    "### Logisitic Regression model"
   ]
  },
  {
   "cell_type": "code",
   "execution_count": 7,
   "id": "648b19f9-fe17-4e21-996a-d8340d0b45ea",
   "metadata": {},
   "outputs": [],
   "source": [
    "from sklearn.linear_model import LogisticRegression\n",
    "import joblib\n",
    "\n",
    "accuracies = {}\n",
    "clf_64 = LogisticRegression(solver='saga', penalty='l2', max_iter=1000, tol=0.01, n_jobs=-1)\n",
    "clf_64.fit(transformed_data_64, y)\n",
    "joblib.dump(clf_64, 'logistic_regression_64_features.pkl')\n",
    "accuracies['64'] = clf_64.score(transformed_data_64, y)"
   ]
  },
  {
   "cell_type": "code",
   "execution_count": 8,
   "id": "6b06efd9-7b01-4c3f-898c-ee495a5a2c48",
   "metadata": {},
   "outputs": [
    {
     "name": "stdout",
     "output_type": "stream",
     "text": [
      "0.6956850298496183\n"
     ]
    }
   ],
   "source": [
    "print(accuracies['64'])"
   ]
  },
  {
   "cell_type": "markdown",
   "id": "71430574-9858-4431-9556-a2c822660a90",
   "metadata": {},
   "source": [
    "### Random Forest Model"
   ]
  },
  {
   "cell_type": "code",
   "execution_count": 9,
   "id": "2b77c896-5981-4e52-8eb4-4d7322029ae5",
   "metadata": {},
   "outputs": [],
   "source": [
    "from sklearn.ensemble import RandomForestClassifier\n",
    "import joblib\n",
    "accuracies_RF = {}\n",
    "# Initialize the Random Forest model\n",
    "# You can adjust n_estimators and max_features to balance between performance and training time\n",
    "rf_model = RandomForestClassifier(n_estimators=10, max_depth = 20 , max_features='sqrt', random_state=42, n_jobs=-1)\n",
    "\n",
    "# Train the Random Forest model on the dataset\n",
    "# Use transformed_data_32, transformed_data_64, or transformed_data_128 depending on the PCA components you want to use\n",
    "rf_model.fit(transformed_data_64, y)\n",
    "\n",
    "# Save the trained Random Forest model\n",
    "joblib.dump(rf_model, 'random_forest_model_64_features.pkl')\n",
    "# Print accuracy on the training dataset\n",
    "accuracies_RF['64'] = rf_model.score(transformed_data_64, y)"
   ]
  },
  {
   "cell_type": "code",
   "execution_count": 10,
   "id": "571d0fbf-63fc-473c-ac37-d1d3ea554f55",
   "metadata": {},
   "outputs": [
    {
     "name": "stdout",
     "output_type": "stream",
     "text": [
      "0.5502909393183707\n"
     ]
    }
   ],
   "source": [
    "print(accuracies_RF['64'])"
   ]
  },
  {
   "cell_type": "markdown",
   "id": "77721cd2-e3a1-4f28-931e-0655c18ad77f",
   "metadata": {},
   "source": [
    "### XGBoost Model"
   ]
  },
  {
   "cell_type": "code",
   "execution_count": 9,
   "id": "ab70dafd-8876-4586-96eb-a3a84dc7f290",
   "metadata": {},
   "outputs": [
    {
     "name": "stdout",
     "output_type": "stream",
     "text": [
      "Time taken to fit the model: 456.22 seconds\n"
     ]
    }
   ],
   "source": [
    "import xgboost as xgb\n",
    "from sklearn.metrics import accuracy_score\n",
    "from sklearn.preprocessing import LabelEncoder\n",
    "import joblib\n",
    "import time\n",
    "# Assuming transformed_data_32, transformed_data_64, and transformed_data_128 are your feature sets\n",
    "# and 'y' is your target variable with class labels\n",
    "\n",
    "# Encode the class labels in 'y'\n",
    "label_encoder = LabelEncoder()\n",
    "y_encoded = label_encoder.fit_transform(y)\n",
    "\n",
    "# Initialize a dictionary to store accuracies for different feature sets\n",
    "accuracies_XGB = {}\n",
    "\n",
    "# Set n_jobs to -1 to use all available cores\n",
    "xgb_model_64 = xgb.XGBClassifier(n_estimators=20, max_depth=20, random_state=42, n_jobs=-1)\n",
    "start_time = time.time()\n",
    "xgb_model_64.fit(transformed_data_64, y_encoded)\n",
    "end_time = time.time() \n",
    "elaspsed_time = end_time - start_time\n",
    "joblib.dump(xgb_model_64, 'xgb_model_64_features.pkl')\n",
    "predictions_64 = xgb_model_64.predict(transformed_data_64)\n",
    "accuracies_XGB['64'] = accuracy_score(y_encoded, predictions_64)\n",
    "print(f\"Time taken to fit the model: {elapsed_time:.2f} seconds\")"
   ]
  },
  {
   "cell_type": "code",
   "execution_count": 11,
   "id": "12332f50-1aeb-4d88-9fe8-a8291aa982c7",
   "metadata": {},
   "outputs": [
    {
     "name": "stdout",
     "output_type": "stream",
     "text": [
      "0.22270082369832994\n"
     ]
    }
   ],
   "source": [
    "print(accuracies_XGB['64'])"
   ]
  },
  {
   "cell_type": "markdown",
   "id": "f169ac2e-0985-45cc-a893-62fab4d97d08",
   "metadata": {},
   "source": [
    "### LinearSVC Model"
   ]
  },
  {
   "cell_type": "code",
   "execution_count": 12,
   "id": "44028ac3-f1c8-469c-b81c-ed0e2726eccf",
   "metadata": {},
   "outputs": [
    {
     "name": "stderr",
     "output_type": "stream",
     "text": [
      "C:\\Users\\Anuj\\miniconda3\\envs\\PRML\\Lib\\site-packages\\sklearn\\svm\\_classes.py:32: FutureWarning: The default value of `dual` will change from `True` to `'auto'` in 1.5. Set the value of `dual` explicitly to suppress the warning.\n",
      "  warnings.warn(\n",
      "C:\\Users\\Anuj\\miniconda3\\envs\\PRML\\Lib\\site-packages\\sklearn\\svm\\_base.py:1242: ConvergenceWarning: Liblinear failed to converge, increase the number of iterations.\n",
      "  warnings.warn(\n"
     ]
    },
    {
     "name": "stdout",
     "output_type": "stream",
     "text": [
      "Time taken to fit the model: 1081.61 seconds\n"
     ]
    }
   ],
   "source": [
    "from sklearn.svm import LinearSVC\n",
    "import joblib\n",
    "import time\n",
    "\n",
    "accuracies_SVM = {}\n",
    "\n",
    "# Initialize the LinearSVC\n",
    "linear_svm_model = LinearSVC(C=1.0, random_state=42, max_iter=1000)\n",
    "\n",
    "# Start timing\n",
    "start_time = time.time()\n",
    "\n",
    "# Train the LinearSVC model on the dataset with 64 PCA components\n",
    "linear_svm_model.fit(transformed_data_64, y)\n",
    "\n",
    "# Calculate elapsed time\n",
    "end_time = time.time() \n",
    "elapsed_time = end_time - start_time\n",
    "# Save the trained SVM model\n",
    "joblib.dump(linear_svm_model, 'linear_svc_64_features.pkl')\n",
    "\n",
    "# Print accuracy on the training dataset\n",
    "accuracies_SVM['64'] = linear_svm_model.score(transformed_data_64, y)\n",
    "\n",
    "# Print the time taken to train the model\n",
    "print(f\"Time taken to fit the model: {elapsed_time:.2f} seconds\")\n"
   ]
  },
  {
   "cell_type": "code",
   "execution_count": 13,
   "id": "d4416772-71cf-4100-9219-1a58bdd88f88",
   "metadata": {},
   "outputs": [
    {
     "name": "stdout",
     "output_type": "stream",
     "text": [
      "0.8703241895261845\n"
     ]
    }
   ],
   "source": [
    "print(accuracies_SVM['64'])"
   ]
  },
  {
   "cell_type": "markdown",
   "id": "262825a4-82c7-4d4a-9286-095b84b72dc3",
   "metadata": {},
   "source": [
    "### Balanced Logistic Regression"
   ]
  },
  {
   "cell_type": "code",
   "execution_count": 15,
   "id": "70f03d1b-1f0c-484b-9610-96b1699c3a4d",
   "metadata": {},
   "outputs": [],
   "source": [
    "from sklearn.linear_model import LogisticRegression\n",
    "import joblib\n",
    "\n",
    "accuracies = {}\n",
    "\n",
    "# Train logistic regression for 64 PCA components\n",
    "clf_64 = LogisticRegression(solver='saga', penalty='l2', max_iter=1000, tol=0.01, n_jobs=-1 , class_weight = 'balanced')\n",
    "clf_64.fit(transformed_data_64, y)\n",
    "joblib.dump(clf_64, 'balanced_logistic_regression_64_features.pkl')\n",
    "accuracies['64'] = clf_64.score(transformed_data_64, y)"
   ]
  },
  {
   "cell_type": "code",
   "execution_count": 16,
   "id": "dcdcc4aa-9d15-4ef8-98cf-b5441afdd1dd",
   "metadata": {},
   "outputs": [
    {
     "name": "stdout",
     "output_type": "stream",
     "text": [
      "0.6103680193455755\n"
     ]
    }
   ],
   "source": [
    "print(accuracies['64'])"
   ]
  },
  {
   "cell_type": "markdown",
   "id": "54132cfa-ce2d-40a3-b905-6bc477f61ff7",
   "metadata": {},
   "source": [
    "### KNN Model"
   ]
  },
  {
   "cell_type": "code",
   "execution_count": 8,
   "id": "3e78ac29-64be-4005-ba7d-917f0c09963b",
   "metadata": {},
   "outputs": [],
   "source": [
    "from sklearn.neighbors import KNeighborsClassifier\n",
    "import joblib\n",
    "\n",
    "accuracies_KNN = {}\n",
    "\n",
    "# Initialize the KNN model\n",
    "# You can adjust 'n_neighbors' and other parameters to balance between performance and training time\n",
    "knn_model = KNeighborsClassifier(n_neighbors=5, n_jobs=-1)\n",
    "\n",
    "# Train the KNN model on the dataset using 64 PCA components\n",
    "knn_model.fit(transformed_data_64, y)\n",
    "\n",
    "# Save the trained KNN model\n",
    "joblib.dump(knn_model, 'knn_model_64_features.pkl')\n",
    "\n",
    "# Print accuracy on the training dataset\n",
    "accuracies_KNN['64'] = knn_model.score(transformed_data_64, y)"
   ]
  },
  {
   "cell_type": "code",
   "execution_count": 9,
   "id": "ed8aae60-c66f-4651-9dfc-3262ee76003a",
   "metadata": {},
   "outputs": [
    {
     "name": "stdout",
     "output_type": "stream",
     "text": [
      "0.31209854152497546\n"
     ]
    }
   ],
   "source": [
    "print(accuracies_KNN['64'])"
   ]
  }
 ],
 "metadata": {
  "kernelspec": {
   "display_name": "Python 3 (ipykernel)",
   "language": "python",
   "name": "python3"
  },
  "language_info": {
   "codemirror_mode": {
    "name": "ipython",
    "version": 3
   },
   "file_extension": ".py",
   "mimetype": "text/x-python",
   "name": "python",
   "nbconvert_exporter": "python",
   "pygments_lexer": "ipython3",
   "version": "3.12.2"
  }
 },
 "nbformat": 4,
 "nbformat_minor": 5
}
