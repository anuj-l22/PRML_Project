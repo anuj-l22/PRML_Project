{
 "cells": [
  {
   "cell_type": "markdown",
   "id": "02735b6d-1ae8-429a-9e7c-a9ba3ddb110a",
   "metadata": {},
   "source": [
    "# This notebook consists of loading extracted CNN features , applying PCA on it and then some models for testing and then storing in .pkl files\n"
   ]
  },
  {
   "cell_type": "code",
   "execution_count": 2,
   "id": "56ff3b91-8693-4835-b3c2-6ef2ea28c49b",
   "metadata": {},
   "outputs": [],
   "source": [
    "import torch"
   ]
  },
  {
   "cell_type": "code",
   "execution_count": 3,
   "id": "08cc1c22-b1ec-4dd2-825b-f6e4e82d3f08",
   "metadata": {},
   "outputs": [],
   "source": [
    "import numpy as np"
   ]
  },
  {
   "cell_type": "code",
   "execution_count": 4,
   "id": "048eab6d-2c1e-4e44-86b8-a70255043e69",
   "metadata": {},
   "outputs": [],
   "source": [
    "import sklearn.model_selection "
   ]
  },
  {
   "cell_type": "code",
   "execution_count": 5,
   "id": "0e976ad3-6981-4828-b5d4-83a8ab169f73",
   "metadata": {},
   "outputs": [],
   "source": [
    "cnn_features = torch.load('extracted_resnet_features.pt')"
   ]
  },
  {
   "cell_type": "code",
   "execution_count": 6,
   "id": "22cd2113-828a-4130-b0f9-0107b9d64175",
   "metadata": {},
   "outputs": [
    {
     "name": "stdout",
     "output_type": "stream",
     "text": [
      "Features (X): (13233, 2048)\n",
      "Labels (y): (13233,)\n"
     ]
    }
   ],
   "source": [
    "import numpy as np\n",
    "\n",
    "class FacesData:\n",
    "    def __init__(self, data_dict):\n",
    "        self.data_dict = data_dict\n",
    "\n",
    "    def get_X_y(self):\n",
    "        X = []\n",
    "        y = []\n",
    "        for key, value in self.data_dict.items():\n",
    "            # Extract the label from the file path\n",
    "            label = key.split('/')[1]\n",
    "            X.append(value.flatten())  # Flatten the feature array\n",
    "            y.append(label)\n",
    "        return np.array(X), np.array(y)\n",
    "\n",
    "\n",
    "\n",
    "faces_data = FacesData(cnn_features)\n",
    "X, y = faces_data.get_X_y()\n",
    "\n",
    "print('Features (X):', X.shape)\n",
    "print('Labels (y):', y.shape)\n"
   ]
  },
  {
   "cell_type": "markdown",
   "id": "99a1a39a-3b39-42b4-9f9a-047239074f7f",
   "metadata": {},
   "source": [
    "### Till above are imports and code for face data using pre extracted CNN"
   ]
  },
  {
   "cell_type": "markdown",
   "id": "416a8d79-3158-4ba3-b859-ee899142eb28",
   "metadata": {},
   "source": [
    "### Code for PCA"
   ]
  },
  {
   "cell_type": "code",
   "execution_count": 7,
   "id": "0f21dd7b-d7a7-4530-8043-0a819c0d5f43",
   "metadata": {},
   "outputs": [
    {
     "data": {
      "text/plain": [
       "['deployment_pca_model.joblib']"
      ]
     },
     "execution_count": 7,
     "metadata": {},
     "output_type": "execute_result"
    }
   ],
   "source": [
    "# from sklearn.decomposition import PCA\n",
    "# transformed_data = []\n",
    "# pca = PCA(n_components=16)\n",
    "# X_pca = pca.fit_transform(X)\n",
    "# transformed_data = X_pca\n",
    "from sklearn.decomposition import PCA\n",
    "import joblib\n",
    "# Define the number of features for each split\n",
    "n_features_list = [32, 64, 128]\n",
    "\n",
    "# Dictionary to store the transformed data for each feature set\n",
    "transformed_data_dict = {}\n",
    "\n",
    "# Fit PCA with the maximum number of components needed\n",
    "pca = PCA(n_components=max(n_features_list))\n",
    "X_pca = pca.fit_transform(X)\n",
    "\n",
    "# Split the data into different feature sets\n",
    "for n_features in n_features_list:\n",
    "    transformed_data_dict[n_features] = X_pca[:, :n_features]\n",
    "\n",
    "# Access the transformed data for a specific number of features\n",
    "transformed_data_32 = transformed_data_dict[32]\n",
    "transformed_data_64 = transformed_data_dict[64]\n",
    "transformed_data_128 = transformed_data_dict[128]\n",
    "joblib.dump(pca, 'deployment_pca_model.joblib')"
   ]
  },
  {
   "cell_type": "markdown",
   "id": "2f56c880-fcd5-443e-9705-9bafedafa954",
   "metadata": {},
   "source": [
    "### Logistic Regression Model"
   ]
  },
  {
   "cell_type": "code",
   "execution_count": null,
   "id": "64b46dc8-569e-4c4e-ae17-69ae69c8fe3b",
   "metadata": {},
   "outputs": [],
   "source": [
    "from sklearn.linear_model import LogisticRegression\n",
    "import joblib\n",
    "\n",
    "accuracies = {}\n",
    "\n",
    "# Train logistic regression for 128 PCA components\n",
    "clf_128 = LogisticRegression(solver='saga', penalty='l2', max_iter=1000, tol=0.01, n_jobs=-1)\n",
    "clf_128.fit(transformed_data_128, y)\n",
    "joblib.dump(clf_128, 'logistic_regression_128_features.pkl')\n",
    "accuracies['128'] = clf_128.score(transformed_data_128, y)\n"
   ]
  },
  {
   "cell_type": "code",
   "execution_count": 9,
   "id": "f607471d-9367-45ce-83d3-ba035ee654b7",
   "metadata": {},
   "outputs": [
    {
     "name": "stdout",
     "output_type": "stream",
     "text": [
      "0.7489609310058188\n"
     ]
    }
   ],
   "source": [
    "print(accuracies['128'])"
   ]
  },
  {
   "cell_type": "markdown",
   "id": "33d79f7a-d51d-4567-8ef9-b6042adfb889",
   "metadata": {},
   "source": [
    "### Random Forest Model"
   ]
  },
  {
   "cell_type": "code",
   "execution_count": 10,
   "id": "4b71c247-1009-4423-9987-324f9a9d2857",
   "metadata": {},
   "outputs": [],
   "source": [
    "from sklearn.ensemble import RandomForestClassifier\n",
    "import joblib\n",
    "accuracies_RF = {}\n",
    "# Initialize the Random Forest model\n",
    "# You can adjust n_estimators and max_features to balance between performance and training time\n",
    "rf_model = RandomForestClassifier(n_estimators=10, max_depth = 20 , max_features='sqrt', random_state=42, n_jobs=-1)\n",
    "\n",
    "# Train the Random Forest model on the dataset\n",
    "# Use transformed_data_32, transformed_data_64, or transformed_data_128 depending on the PCA components you want to use\n",
    "rf_model.fit(transformed_data_128, y)\n",
    "\n",
    "# Save the trained Random Forest model\n",
    "joblib.dump(rf_model, 'random_forest_model_128_features.pkl')\n",
    "# Print accuracy on the training dataset\n",
    "accuracies_RF['128'] = rf_model.score(transformed_data_128, y)"
   ]
  },
  {
   "cell_type": "code",
   "execution_count": 11,
   "id": "cc3b891e-0244-4364-a360-72ccac2caf86",
   "metadata": {},
   "outputs": [
    {
     "name": "stdout",
     "output_type": "stream",
     "text": [
      "0.48809793697574244\n"
     ]
    }
   ],
   "source": [
    "print(accuracies_RF['128'])"
   ]
  },
  {
   "cell_type": "markdown",
   "id": "b61bc81b-83cf-4b37-b203-abebf7197bfb",
   "metadata": {},
   "source": [
    "### Testing out metrics"
   ]
  },
  {
   "cell_type": "code",
   "execution_count": 8,
   "id": "58a9625b-3005-4935-9c6a-f8b5b50c5382",
   "metadata": {},
   "outputs": [
    {
     "name": "stdout",
     "output_type": "stream",
     "text": [
      "Top-5 Accuracy: 0.9081840852414419\n"
     ]
    }
   ],
   "source": [
    "from sklearn.linear_model import LogisticRegression\n",
    "import joblib\n",
    "from sklearn.metrics import top_k_accuracy_score\n",
    "\n",
    "# Path to the saved model file\n",
    "model_path = 'logistic_regression_128_features.pkl'\n",
    "\n",
    "# Load the logistic regression model from the pickle file\n",
    "clf_32_loaded = joblib.load(model_path)\n",
    "\n",
    "# Use the loaded model to predict the probabilities of the training data\n",
    "probabilities = clf_32_loaded.predict_proba(transformed_data_128)\n",
    "\n",
    "# Evaluate the top-5 accuracy of the model on the training data\n",
    "top_5_accuracy = top_k_accuracy_score(y, probabilities, k=5)\n",
    "print(\"Top-5 Accuracy:\", top_5_accuracy)"
   ]
  },
  {
   "cell_type": "markdown",
   "id": "6e24127f-1103-4c8b-95a7-79157f25f47b",
   "metadata": {},
   "source": [
    "### XGBoost Model"
   ]
  },
  {
   "cell_type": "code",
   "execution_count": 8,
   "id": "65a28b39-6e4f-4be4-b608-463633b7cfc7",
   "metadata": {},
   "outputs": [],
   "source": [
    "import xgboost as xgb\n",
    "from sklearn.metrics import accuracy_score\n",
    "from sklearn.preprocessing import LabelEncoder\n",
    "import joblib\n",
    "import time\n",
    "# Assuming transformed_data_32, transformed_data_64, and transformed_data_128 are your feature sets\n",
    "# and 'y' is your target variable with class labels\n",
    "\n",
    "# Encode the class labels in 'y'\n",
    "label_encoder = LabelEncoder()\n",
    "y_encoded = label_encoder.fit_transform(y)\n",
    "\n",
    "# Initialize a dictionary to store accuracies for different feature sets\n",
    "accuracies_XGB = {}\n",
    "\n",
    "# Set n_jobs to -1 to use all available cores\n",
    "xgb_model_128 = xgb.XGBClassifier(n_estimators=20, max_depth=20, random_state=42, n_jobs=-1)\n",
    "xgb_model_128.fit(transformed_data_128, y_encoded)\n",
    "joblib.dump(xgb_model_128, 'xgb_model_128_features.pkl')\n",
    "predictions_128 = xgb_model_128.predict(transformed_data_128)\n",
    "accuracies_XGB['128'] = accuracy_score(y_encoded, predictions_128)"
   ]
  },
  {
   "cell_type": "code",
   "execution_count": 9,
   "id": "a02120b3-a76c-43a9-9f39-deabc01b3c4f",
   "metadata": {},
   "outputs": [
    {
     "name": "stdout",
     "output_type": "stream",
     "text": [
      "0.17856872969092422\n"
     ]
    }
   ],
   "source": [
    "print(accuracies_XGB['128'])"
   ]
  },
  {
   "cell_type": "markdown",
   "id": "a2f86208-baaf-4913-8c87-8cedccde15c8",
   "metadata": {},
   "source": [
    "### LinearSVC Model"
   ]
  },
  {
   "cell_type": "code",
   "execution_count": 10,
   "id": "45303d19-9538-4773-a764-cdba3655ca96",
   "metadata": {},
   "outputs": [
    {
     "name": "stderr",
     "output_type": "stream",
     "text": [
      "C:\\Users\\Anuj\\miniconda3\\envs\\PRML\\Lib\\site-packages\\sklearn\\svm\\_classes.py:32: FutureWarning: The default value of `dual` will change from `True` to `'auto'` in 1.5. Set the value of `dual` explicitly to suppress the warning.\n",
      "  warnings.warn(\n",
      "C:\\Users\\Anuj\\miniconda3\\envs\\PRML\\Lib\\site-packages\\sklearn\\svm\\_base.py:1242: ConvergenceWarning: Liblinear failed to converge, increase the number of iterations.\n",
      "  warnings.warn(\n"
     ]
    },
    {
     "name": "stdout",
     "output_type": "stream",
     "text": [
      "Time taken to fit the model: 1721.02 seconds\n"
     ]
    }
   ],
   "source": [
    "from sklearn.svm import LinearSVC\n",
    "import joblib\n",
    "import time\n",
    "\n",
    "accuracies_SVM = {}\n",
    "\n",
    "# Initialize the LinearSVC\n",
    "linear_svm_model = LinearSVC(C=1.0, random_state=42, max_iter=1000)\n",
    "\n",
    "# Start timing\n",
    "start_time = time.time()\n",
    "\n",
    "# Train the LinearSVC model on the dataset with 128 PCA components\n",
    "linear_svm_model.fit(transformed_data_128, y)\n",
    "\n",
    "# Calculate elapsed time\n",
    "end_time = time.time() \n",
    "elapsed_time = end_time - start_time\n",
    "# Save the trained SVM model\n",
    "joblib.dump(linear_svm_model, 'linear_svc_128_features.pkl')\n",
    "\n",
    "# Print accuracy on the training dataset\n",
    "accuracies_SVM['128'] = linear_svm_model.score(transformed_data_128, y)\n",
    "\n",
    "# Print the time taken to train the model\n",
    "print(f\"Time taken to fit the model: {elapsed_time:.2f} seconds\")\n"
   ]
  },
  {
   "cell_type": "code",
   "execution_count": 11,
   "id": "fbb74df0-8f23-4614-a53d-788cb7dd7514",
   "metadata": {},
   "outputs": [
    {
     "name": "stdout",
     "output_type": "stream",
     "text": [
      "0.9638781833295549\n"
     ]
    }
   ],
   "source": [
    "print(accuracies_SVM['128'])"
   ]
  },
  {
   "cell_type": "markdown",
   "id": "5f03a606-5916-421f-8a89-d7b5779b3839",
   "metadata": {},
   "source": [
    "### Balanced Logistic Regression"
   ]
  },
  {
   "cell_type": "code",
   "execution_count": 13,
   "id": "3d06813c-9586-454d-bcb4-1c4ad598c472",
   "metadata": {},
   "outputs": [],
   "source": [
    "from sklearn.linear_model import LogisticRegression\n",
    "import joblib\n",
    "\n",
    "accuracies = {}\n",
    "\n",
    "# Train logistic regression for 32 PCA components\n",
    "clf_128 = LogisticRegression(solver='saga', penalty='l2', max_iter=1000, tol=0.01, n_jobs=-1 , class_weight = 'balanced')\n",
    "clf_128.fit(transformed_data_128, y)\n",
    "joblib.dump(clf_128, 'balanced_logistic_regression_128_features.pkl')\n",
    "accuracies['128'] = clf_128.score(transformed_data_128, y)"
   ]
  },
  {
   "cell_type": "code",
   "execution_count": 14,
   "id": "c3ac5bb1-d743-40fc-ae84-a2b602cd6245",
   "metadata": {},
   "outputs": [
    {
     "name": "stdout",
     "output_type": "stream",
     "text": [
      "0.6542734073906143\n"
     ]
    }
   ],
   "source": [
    "print(accuracies['128'])"
   ]
  },
  {
   "cell_type": "markdown",
   "id": "ba6c7de6-7ee0-4851-a9b2-c8613c20fdac",
   "metadata": {},
   "source": [
    "### KNN Model"
   ]
  },
  {
   "cell_type": "code",
   "execution_count": 7,
   "id": "03084114-32f0-4a3f-8b18-d06ab74f101e",
   "metadata": {},
   "outputs": [],
   "source": [
    "from sklearn.neighbors import KNeighborsClassifier\n",
    "import joblib\n",
    "\n",
    "accuracies_KNN = {}\n",
    "\n",
    "# Initialize the KNN model\n",
    "# You can adjust 'n_neighbors' and other parameters to balance between performance and training time\n",
    "knn_model = KNeighborsClassifier(n_neighbors=5, n_jobs=-1)\n",
    "\n",
    "# Train the KNN model on the dataset using 32 PCA components\n",
    "# You can change to transformed_data_64 or transformed_data_128 as needed\n",
    "knn_model.fit(transformed_data_128, y)\n",
    "\n",
    "# Save the trained KNN model\n",
    "joblib.dump(knn_model, 'knn_model_128_features.pkl')\n",
    "\n",
    "# Print accuracy on the training dataset\n",
    "accuracies_KNN['128'] = knn_model.score(transformed_data_128, y)"
   ]
  },
  {
   "cell_type": "code",
   "execution_count": 9,
   "id": "ca352b9c-2283-4234-992a-066e3148fa72",
   "metadata": {},
   "outputs": [
    {
     "name": "stdout",
     "output_type": "stream",
     "text": [
      "0.3219980352149928\n"
     ]
    }
   ],
   "source": [
    "print(accuracies_KNN['128'])"
   ]
  }
 ],
 "metadata": {
  "kernelspec": {
   "display_name": "Python 3 (ipykernel)",
   "language": "python",
   "name": "python3"
  },
  "language_info": {
   "codemirror_mode": {
    "name": "ipython",
    "version": 3
   },
   "file_extension": ".py",
   "mimetype": "text/x-python",
   "name": "python",
   "nbconvert_exporter": "python",
   "pygments_lexer": "ipython3",
   "version": "3.12.2"
  }
 },
 "nbformat": 4,
 "nbformat_minor": 5
}
